{
  "nbformat": 4,
  "nbformat_minor": 0,
  "metadata": {
    "colab": {
      "provenance": [],
      "gpuType": "T4"
    },
    "kernelspec": {
      "name": "python3",
      "display_name": "Python 3"
    },
    "language_info": {
      "name": "python"
    },
    "accelerator": "GPU",
    "widgets": {
      "application/vnd.jupyter.widget-state+json": {
        "97aafcea28974f2b987b8527e41903f0": {
          "model_module": "@jupyter-widgets/controls",
          "model_name": "HBoxModel",
          "model_module_version": "1.5.0",
          "state": {
            "_dom_classes": [],
            "_model_module": "@jupyter-widgets/controls",
            "_model_module_version": "1.5.0",
            "_model_name": "HBoxModel",
            "_view_count": null,
            "_view_module": "@jupyter-widgets/controls",
            "_view_module_version": "1.5.0",
            "_view_name": "HBoxView",
            "box_style": "",
            "children": [
              "IPY_MODEL_77851a3ebdd0498baa378ef8a0cd9412",
              "IPY_MODEL_c854e71accca4af787ada7d1ab3df997",
              "IPY_MODEL_fb4b1037a19b40ca89566ae18c55cf53"
            ],
            "layout": "IPY_MODEL_74452591fc7d4f1a9366af218ceb28ac"
          }
        },
        "77851a3ebdd0498baa378ef8a0cd9412": {
          "model_module": "@jupyter-widgets/controls",
          "model_name": "HTMLModel",
          "model_module_version": "1.5.0",
          "state": {
            "_dom_classes": [],
            "_model_module": "@jupyter-widgets/controls",
            "_model_module_version": "1.5.0",
            "_model_name": "HTMLModel",
            "_view_count": null,
            "_view_module": "@jupyter-widgets/controls",
            "_view_module_version": "1.5.0",
            "_view_name": "HTMLView",
            "description": "",
            "description_tooltip": null,
            "layout": "IPY_MODEL_99bc9436aa7f447fa35c456401d63ba3",
            "placeholder": "​",
            "style": "IPY_MODEL_5192bae72d6b4e4ea821e8b3f7611239",
            "value": "Downloading (…)lve/main/config.json: 100%"
          }
        },
        "c854e71accca4af787ada7d1ab3df997": {
          "model_module": "@jupyter-widgets/controls",
          "model_name": "FloatProgressModel",
          "model_module_version": "1.5.0",
          "state": {
            "_dom_classes": [],
            "_model_module": "@jupyter-widgets/controls",
            "_model_module_version": "1.5.0",
            "_model_name": "FloatProgressModel",
            "_view_count": null,
            "_view_module": "@jupyter-widgets/controls",
            "_view_module_version": "1.5.0",
            "_view_name": "ProgressView",
            "bar_style": "success",
            "description": "",
            "description_tooltip": null,
            "layout": "IPY_MODEL_5b5c51ad5d7b4d3599c1a2b0e7db304b",
            "max": 1208,
            "min": 0,
            "orientation": "horizontal",
            "style": "IPY_MODEL_3e13769d039740d99597c5a09ab9d2ad",
            "value": 1208
          }
        },
        "fb4b1037a19b40ca89566ae18c55cf53": {
          "model_module": "@jupyter-widgets/controls",
          "model_name": "HTMLModel",
          "model_module_version": "1.5.0",
          "state": {
            "_dom_classes": [],
            "_model_module": "@jupyter-widgets/controls",
            "_model_module_version": "1.5.0",
            "_model_name": "HTMLModel",
            "_view_count": null,
            "_view_module": "@jupyter-widgets/controls",
            "_view_module_version": "1.5.0",
            "_view_name": "HTMLView",
            "description": "",
            "description_tooltip": null,
            "layout": "IPY_MODEL_6045edd3e93a4f279e6b59db10251910",
            "placeholder": "​",
            "style": "IPY_MODEL_6ed1e4369c7c467e9de6e7c1337f7b8b",
            "value": " 1.21k/1.21k [00:00&lt;00:00, 58.7kB/s]"
          }
        },
        "74452591fc7d4f1a9366af218ceb28ac": {
          "model_module": "@jupyter-widgets/base",
          "model_name": "LayoutModel",
          "model_module_version": "1.2.0",
          "state": {
            "_model_module": "@jupyter-widgets/base",
            "_model_module_version": "1.2.0",
            "_model_name": "LayoutModel",
            "_view_count": null,
            "_view_module": "@jupyter-widgets/base",
            "_view_module_version": "1.2.0",
            "_view_name": "LayoutView",
            "align_content": null,
            "align_items": null,
            "align_self": null,
            "border": null,
            "bottom": null,
            "display": null,
            "flex": null,
            "flex_flow": null,
            "grid_area": null,
            "grid_auto_columns": null,
            "grid_auto_flow": null,
            "grid_auto_rows": null,
            "grid_column": null,
            "grid_gap": null,
            "grid_row": null,
            "grid_template_areas": null,
            "grid_template_columns": null,
            "grid_template_rows": null,
            "height": null,
            "justify_content": null,
            "justify_items": null,
            "left": null,
            "margin": null,
            "max_height": null,
            "max_width": null,
            "min_height": null,
            "min_width": null,
            "object_fit": null,
            "object_position": null,
            "order": null,
            "overflow": null,
            "overflow_x": null,
            "overflow_y": null,
            "padding": null,
            "right": null,
            "top": null,
            "visibility": null,
            "width": null
          }
        },
        "99bc9436aa7f447fa35c456401d63ba3": {
          "model_module": "@jupyter-widgets/base",
          "model_name": "LayoutModel",
          "model_module_version": "1.2.0",
          "state": {
            "_model_module": "@jupyter-widgets/base",
            "_model_module_version": "1.2.0",
            "_model_name": "LayoutModel",
            "_view_count": null,
            "_view_module": "@jupyter-widgets/base",
            "_view_module_version": "1.2.0",
            "_view_name": "LayoutView",
            "align_content": null,
            "align_items": null,
            "align_self": null,
            "border": null,
            "bottom": null,
            "display": null,
            "flex": null,
            "flex_flow": null,
            "grid_area": null,
            "grid_auto_columns": null,
            "grid_auto_flow": null,
            "grid_auto_rows": null,
            "grid_column": null,
            "grid_gap": null,
            "grid_row": null,
            "grid_template_areas": null,
            "grid_template_columns": null,
            "grid_template_rows": null,
            "height": null,
            "justify_content": null,
            "justify_items": null,
            "left": null,
            "margin": null,
            "max_height": null,
            "max_width": null,
            "min_height": null,
            "min_width": null,
            "object_fit": null,
            "object_position": null,
            "order": null,
            "overflow": null,
            "overflow_x": null,
            "overflow_y": null,
            "padding": null,
            "right": null,
            "top": null,
            "visibility": null,
            "width": null
          }
        },
        "5192bae72d6b4e4ea821e8b3f7611239": {
          "model_module": "@jupyter-widgets/controls",
          "model_name": "DescriptionStyleModel",
          "model_module_version": "1.5.0",
          "state": {
            "_model_module": "@jupyter-widgets/controls",
            "_model_module_version": "1.5.0",
            "_model_name": "DescriptionStyleModel",
            "_view_count": null,
            "_view_module": "@jupyter-widgets/base",
            "_view_module_version": "1.2.0",
            "_view_name": "StyleView",
            "description_width": ""
          }
        },
        "5b5c51ad5d7b4d3599c1a2b0e7db304b": {
          "model_module": "@jupyter-widgets/base",
          "model_name": "LayoutModel",
          "model_module_version": "1.2.0",
          "state": {
            "_model_module": "@jupyter-widgets/base",
            "_model_module_version": "1.2.0",
            "_model_name": "LayoutModel",
            "_view_count": null,
            "_view_module": "@jupyter-widgets/base",
            "_view_module_version": "1.2.0",
            "_view_name": "LayoutView",
            "align_content": null,
            "align_items": null,
            "align_self": null,
            "border": null,
            "bottom": null,
            "display": null,
            "flex": null,
            "flex_flow": null,
            "grid_area": null,
            "grid_auto_columns": null,
            "grid_auto_flow": null,
            "grid_auto_rows": null,
            "grid_column": null,
            "grid_gap": null,
            "grid_row": null,
            "grid_template_areas": null,
            "grid_template_columns": null,
            "grid_template_rows": null,
            "height": null,
            "justify_content": null,
            "justify_items": null,
            "left": null,
            "margin": null,
            "max_height": null,
            "max_width": null,
            "min_height": null,
            "min_width": null,
            "object_fit": null,
            "object_position": null,
            "order": null,
            "overflow": null,
            "overflow_x": null,
            "overflow_y": null,
            "padding": null,
            "right": null,
            "top": null,
            "visibility": null,
            "width": null
          }
        },
        "3e13769d039740d99597c5a09ab9d2ad": {
          "model_module": "@jupyter-widgets/controls",
          "model_name": "ProgressStyleModel",
          "model_module_version": "1.5.0",
          "state": {
            "_model_module": "@jupyter-widgets/controls",
            "_model_module_version": "1.5.0",
            "_model_name": "ProgressStyleModel",
            "_view_count": null,
            "_view_module": "@jupyter-widgets/base",
            "_view_module_version": "1.2.0",
            "_view_name": "StyleView",
            "bar_color": null,
            "description_width": ""
          }
        },
        "6045edd3e93a4f279e6b59db10251910": {
          "model_module": "@jupyter-widgets/base",
          "model_name": "LayoutModel",
          "model_module_version": "1.2.0",
          "state": {
            "_model_module": "@jupyter-widgets/base",
            "_model_module_version": "1.2.0",
            "_model_name": "LayoutModel",
            "_view_count": null,
            "_view_module": "@jupyter-widgets/base",
            "_view_module_version": "1.2.0",
            "_view_name": "LayoutView",
            "align_content": null,
            "align_items": null,
            "align_self": null,
            "border": null,
            "bottom": null,
            "display": null,
            "flex": null,
            "flex_flow": null,
            "grid_area": null,
            "grid_auto_columns": null,
            "grid_auto_flow": null,
            "grid_auto_rows": null,
            "grid_column": null,
            "grid_gap": null,
            "grid_row": null,
            "grid_template_areas": null,
            "grid_template_columns": null,
            "grid_template_rows": null,
            "height": null,
            "justify_content": null,
            "justify_items": null,
            "left": null,
            "margin": null,
            "max_height": null,
            "max_width": null,
            "min_height": null,
            "min_width": null,
            "object_fit": null,
            "object_position": null,
            "order": null,
            "overflow": null,
            "overflow_x": null,
            "overflow_y": null,
            "padding": null,
            "right": null,
            "top": null,
            "visibility": null,
            "width": null
          }
        },
        "6ed1e4369c7c467e9de6e7c1337f7b8b": {
          "model_module": "@jupyter-widgets/controls",
          "model_name": "DescriptionStyleModel",
          "model_module_version": "1.5.0",
          "state": {
            "_model_module": "@jupyter-widgets/controls",
            "_model_module_version": "1.5.0",
            "_model_name": "DescriptionStyleModel",
            "_view_count": null,
            "_view_module": "@jupyter-widgets/base",
            "_view_module_version": "1.2.0",
            "_view_name": "StyleView",
            "description_width": ""
          }
        },
        "2cf9732cb0dc4322b605c090bd368e0f": {
          "model_module": "@jupyter-widgets/controls",
          "model_name": "HBoxModel",
          "model_module_version": "1.5.0",
          "state": {
            "_dom_classes": [],
            "_model_module": "@jupyter-widgets/controls",
            "_model_module_version": "1.5.0",
            "_model_name": "HBoxModel",
            "_view_count": null,
            "_view_module": "@jupyter-widgets/controls",
            "_view_module_version": "1.5.0",
            "_view_name": "HBoxView",
            "box_style": "",
            "children": [
              "IPY_MODEL_f51bf9e5017847ac964a9e7d878c92f8",
              "IPY_MODEL_46c129a941984a85859fec4faa9935c0",
              "IPY_MODEL_bcf82ac90b8645319cb1310c268c0d54"
            ],
            "layout": "IPY_MODEL_80a72cb7f169491ab782ae0beaf3c6ec"
          }
        },
        "f51bf9e5017847ac964a9e7d878c92f8": {
          "model_module": "@jupyter-widgets/controls",
          "model_name": "HTMLModel",
          "model_module_version": "1.5.0",
          "state": {
            "_dom_classes": [],
            "_model_module": "@jupyter-widgets/controls",
            "_model_module_version": "1.5.0",
            "_model_name": "HTMLModel",
            "_view_count": null,
            "_view_module": "@jupyter-widgets/controls",
            "_view_module_version": "1.5.0",
            "_view_name": "HTMLView",
            "description": "",
            "description_tooltip": null,
            "layout": "IPY_MODEL_04e18c19a6ab4095bec3091a3975dae4",
            "placeholder": "​",
            "style": "IPY_MODEL_fc2a007831b54dc2bb5a7acd3ae755dd",
            "value": "Downloading model.safetensors: 100%"
          }
        },
        "46c129a941984a85859fec4faa9935c0": {
          "model_module": "@jupyter-widgets/controls",
          "model_name": "FloatProgressModel",
          "model_module_version": "1.5.0",
          "state": {
            "_dom_classes": [],
            "_model_module": "@jupyter-widgets/controls",
            "_model_module_version": "1.5.0",
            "_model_name": "FloatProgressModel",
            "_view_count": null,
            "_view_module": "@jupyter-widgets/controls",
            "_view_module_version": "1.5.0",
            "_view_name": "ProgressView",
            "bar_style": "success",
            "description": "",
            "description_tooltip": null,
            "layout": "IPY_MODEL_dd30ecbaa5524cca9d786395c704ae13",
            "max": 891646390,
            "min": 0,
            "orientation": "horizontal",
            "style": "IPY_MODEL_7d56a087b8724897a5b101b06ea5fa43",
            "value": 891646390
          }
        },
        "bcf82ac90b8645319cb1310c268c0d54": {
          "model_module": "@jupyter-widgets/controls",
          "model_name": "HTMLModel",
          "model_module_version": "1.5.0",
          "state": {
            "_dom_classes": [],
            "_model_module": "@jupyter-widgets/controls",
            "_model_module_version": "1.5.0",
            "_model_name": "HTMLModel",
            "_view_count": null,
            "_view_module": "@jupyter-widgets/controls",
            "_view_module_version": "1.5.0",
            "_view_name": "HTMLView",
            "description": "",
            "description_tooltip": null,
            "layout": "IPY_MODEL_a605d3c508ba42b7b2b04f49f04c9b42",
            "placeholder": "​",
            "style": "IPY_MODEL_32205f815f7741c899eb730286fcffc3",
            "value": " 892M/892M [00:03&lt;00:00, 299MB/s]"
          }
        },
        "80a72cb7f169491ab782ae0beaf3c6ec": {
          "model_module": "@jupyter-widgets/base",
          "model_name": "LayoutModel",
          "model_module_version": "1.2.0",
          "state": {
            "_model_module": "@jupyter-widgets/base",
            "_model_module_version": "1.2.0",
            "_model_name": "LayoutModel",
            "_view_count": null,
            "_view_module": "@jupyter-widgets/base",
            "_view_module_version": "1.2.0",
            "_view_name": "LayoutView",
            "align_content": null,
            "align_items": null,
            "align_self": null,
            "border": null,
            "bottom": null,
            "display": null,
            "flex": null,
            "flex_flow": null,
            "grid_area": null,
            "grid_auto_columns": null,
            "grid_auto_flow": null,
            "grid_auto_rows": null,
            "grid_column": null,
            "grid_gap": null,
            "grid_row": null,
            "grid_template_areas": null,
            "grid_template_columns": null,
            "grid_template_rows": null,
            "height": null,
            "justify_content": null,
            "justify_items": null,
            "left": null,
            "margin": null,
            "max_height": null,
            "max_width": null,
            "min_height": null,
            "min_width": null,
            "object_fit": null,
            "object_position": null,
            "order": null,
            "overflow": null,
            "overflow_x": null,
            "overflow_y": null,
            "padding": null,
            "right": null,
            "top": null,
            "visibility": null,
            "width": null
          }
        },
        "04e18c19a6ab4095bec3091a3975dae4": {
          "model_module": "@jupyter-widgets/base",
          "model_name": "LayoutModel",
          "model_module_version": "1.2.0",
          "state": {
            "_model_module": "@jupyter-widgets/base",
            "_model_module_version": "1.2.0",
            "_model_name": "LayoutModel",
            "_view_count": null,
            "_view_module": "@jupyter-widgets/base",
            "_view_module_version": "1.2.0",
            "_view_name": "LayoutView",
            "align_content": null,
            "align_items": null,
            "align_self": null,
            "border": null,
            "bottom": null,
            "display": null,
            "flex": null,
            "flex_flow": null,
            "grid_area": null,
            "grid_auto_columns": null,
            "grid_auto_flow": null,
            "grid_auto_rows": null,
            "grid_column": null,
            "grid_gap": null,
            "grid_row": null,
            "grid_template_areas": null,
            "grid_template_columns": null,
            "grid_template_rows": null,
            "height": null,
            "justify_content": null,
            "justify_items": null,
            "left": null,
            "margin": null,
            "max_height": null,
            "max_width": null,
            "min_height": null,
            "min_width": null,
            "object_fit": null,
            "object_position": null,
            "order": null,
            "overflow": null,
            "overflow_x": null,
            "overflow_y": null,
            "padding": null,
            "right": null,
            "top": null,
            "visibility": null,
            "width": null
          }
        },
        "fc2a007831b54dc2bb5a7acd3ae755dd": {
          "model_module": "@jupyter-widgets/controls",
          "model_name": "DescriptionStyleModel",
          "model_module_version": "1.5.0",
          "state": {
            "_model_module": "@jupyter-widgets/controls",
            "_model_module_version": "1.5.0",
            "_model_name": "DescriptionStyleModel",
            "_view_count": null,
            "_view_module": "@jupyter-widgets/base",
            "_view_module_version": "1.2.0",
            "_view_name": "StyleView",
            "description_width": ""
          }
        },
        "dd30ecbaa5524cca9d786395c704ae13": {
          "model_module": "@jupyter-widgets/base",
          "model_name": "LayoutModel",
          "model_module_version": "1.2.0",
          "state": {
            "_model_module": "@jupyter-widgets/base",
            "_model_module_version": "1.2.0",
            "_model_name": "LayoutModel",
            "_view_count": null,
            "_view_module": "@jupyter-widgets/base",
            "_view_module_version": "1.2.0",
            "_view_name": "LayoutView",
            "align_content": null,
            "align_items": null,
            "align_self": null,
            "border": null,
            "bottom": null,
            "display": null,
            "flex": null,
            "flex_flow": null,
            "grid_area": null,
            "grid_auto_columns": null,
            "grid_auto_flow": null,
            "grid_auto_rows": null,
            "grid_column": null,
            "grid_gap": null,
            "grid_row": null,
            "grid_template_areas": null,
            "grid_template_columns": null,
            "grid_template_rows": null,
            "height": null,
            "justify_content": null,
            "justify_items": null,
            "left": null,
            "margin": null,
            "max_height": null,
            "max_width": null,
            "min_height": null,
            "min_width": null,
            "object_fit": null,
            "object_position": null,
            "order": null,
            "overflow": null,
            "overflow_x": null,
            "overflow_y": null,
            "padding": null,
            "right": null,
            "top": null,
            "visibility": null,
            "width": null
          }
        },
        "7d56a087b8724897a5b101b06ea5fa43": {
          "model_module": "@jupyter-widgets/controls",
          "model_name": "ProgressStyleModel",
          "model_module_version": "1.5.0",
          "state": {
            "_model_module": "@jupyter-widgets/controls",
            "_model_module_version": "1.5.0",
            "_model_name": "ProgressStyleModel",
            "_view_count": null,
            "_view_module": "@jupyter-widgets/base",
            "_view_module_version": "1.2.0",
            "_view_name": "StyleView",
            "bar_color": null,
            "description_width": ""
          }
        },
        "a605d3c508ba42b7b2b04f49f04c9b42": {
          "model_module": "@jupyter-widgets/base",
          "model_name": "LayoutModel",
          "model_module_version": "1.2.0",
          "state": {
            "_model_module": "@jupyter-widgets/base",
            "_model_module_version": "1.2.0",
            "_model_name": "LayoutModel",
            "_view_count": null,
            "_view_module": "@jupyter-widgets/base",
            "_view_module_version": "1.2.0",
            "_view_name": "LayoutView",
            "align_content": null,
            "align_items": null,
            "align_self": null,
            "border": null,
            "bottom": null,
            "display": null,
            "flex": null,
            "flex_flow": null,
            "grid_area": null,
            "grid_auto_columns": null,
            "grid_auto_flow": null,
            "grid_auto_rows": null,
            "grid_column": null,
            "grid_gap": null,
            "grid_row": null,
            "grid_template_areas": null,
            "grid_template_columns": null,
            "grid_template_rows": null,
            "height": null,
            "justify_content": null,
            "justify_items": null,
            "left": null,
            "margin": null,
            "max_height": null,
            "max_width": null,
            "min_height": null,
            "min_width": null,
            "object_fit": null,
            "object_position": null,
            "order": null,
            "overflow": null,
            "overflow_x": null,
            "overflow_y": null,
            "padding": null,
            "right": null,
            "top": null,
            "visibility": null,
            "width": null
          }
        },
        "32205f815f7741c899eb730286fcffc3": {
          "model_module": "@jupyter-widgets/controls",
          "model_name": "DescriptionStyleModel",
          "model_module_version": "1.5.0",
          "state": {
            "_model_module": "@jupyter-widgets/controls",
            "_model_module_version": "1.5.0",
            "_model_name": "DescriptionStyleModel",
            "_view_count": null,
            "_view_module": "@jupyter-widgets/base",
            "_view_module_version": "1.2.0",
            "_view_name": "StyleView",
            "description_width": ""
          }
        },
        "ca66b78bb11040fd824061d5a8da9264": {
          "model_module": "@jupyter-widgets/controls",
          "model_name": "HBoxModel",
          "model_module_version": "1.5.0",
          "state": {
            "_dom_classes": [],
            "_model_module": "@jupyter-widgets/controls",
            "_model_module_version": "1.5.0",
            "_model_name": "HBoxModel",
            "_view_count": null,
            "_view_module": "@jupyter-widgets/controls",
            "_view_module_version": "1.5.0",
            "_view_name": "HBoxView",
            "box_style": "",
            "children": [
              "IPY_MODEL_f1673dc089874038b43c30018fd4d6fc",
              "IPY_MODEL_e1edbfab7a9f40ca9c782c37e3868cc7",
              "IPY_MODEL_83459699751b41b4a380c6af387c5558"
            ],
            "layout": "IPY_MODEL_af391daa67854626a74a0941a1e47a18"
          }
        },
        "f1673dc089874038b43c30018fd4d6fc": {
          "model_module": "@jupyter-widgets/controls",
          "model_name": "HTMLModel",
          "model_module_version": "1.5.0",
          "state": {
            "_dom_classes": [],
            "_model_module": "@jupyter-widgets/controls",
            "_model_module_version": "1.5.0",
            "_model_name": "HTMLModel",
            "_view_count": null,
            "_view_module": "@jupyter-widgets/controls",
            "_view_module_version": "1.5.0",
            "_view_name": "HTMLView",
            "description": "",
            "description_tooltip": null,
            "layout": "IPY_MODEL_ab59cae52ddc4b62abbe957b528b6e02",
            "placeholder": "​",
            "style": "IPY_MODEL_6223bf5aad5143548e9eac71fda994f1",
            "value": "Downloading (…)neration_config.json: 100%"
          }
        },
        "e1edbfab7a9f40ca9c782c37e3868cc7": {
          "model_module": "@jupyter-widgets/controls",
          "model_name": "FloatProgressModel",
          "model_module_version": "1.5.0",
          "state": {
            "_dom_classes": [],
            "_model_module": "@jupyter-widgets/controls",
            "_model_module_version": "1.5.0",
            "_model_name": "FloatProgressModel",
            "_view_count": null,
            "_view_module": "@jupyter-widgets/controls",
            "_view_module_version": "1.5.0",
            "_view_name": "ProgressView",
            "bar_style": "success",
            "description": "",
            "description_tooltip": null,
            "layout": "IPY_MODEL_e5c00dc9d9564f1396205a1c3ed8d397",
            "max": 147,
            "min": 0,
            "orientation": "horizontal",
            "style": "IPY_MODEL_b6d615544521475888295548afa5b29f",
            "value": 147
          }
        },
        "83459699751b41b4a380c6af387c5558": {
          "model_module": "@jupyter-widgets/controls",
          "model_name": "HTMLModel",
          "model_module_version": "1.5.0",
          "state": {
            "_dom_classes": [],
            "_model_module": "@jupyter-widgets/controls",
            "_model_module_version": "1.5.0",
            "_model_name": "HTMLModel",
            "_view_count": null,
            "_view_module": "@jupyter-widgets/controls",
            "_view_module_version": "1.5.0",
            "_view_name": "HTMLView",
            "description": "",
            "description_tooltip": null,
            "layout": "IPY_MODEL_a384df05cc004dc4b5a6a86434378f84",
            "placeholder": "​",
            "style": "IPY_MODEL_fad09fa12f744ed18c7a5aefb99e7da1",
            "value": " 147/147 [00:00&lt;00:00, 6.38kB/s]"
          }
        },
        "af391daa67854626a74a0941a1e47a18": {
          "model_module": "@jupyter-widgets/base",
          "model_name": "LayoutModel",
          "model_module_version": "1.2.0",
          "state": {
            "_model_module": "@jupyter-widgets/base",
            "_model_module_version": "1.2.0",
            "_model_name": "LayoutModel",
            "_view_count": null,
            "_view_module": "@jupyter-widgets/base",
            "_view_module_version": "1.2.0",
            "_view_name": "LayoutView",
            "align_content": null,
            "align_items": null,
            "align_self": null,
            "border": null,
            "bottom": null,
            "display": null,
            "flex": null,
            "flex_flow": null,
            "grid_area": null,
            "grid_auto_columns": null,
            "grid_auto_flow": null,
            "grid_auto_rows": null,
            "grid_column": null,
            "grid_gap": null,
            "grid_row": null,
            "grid_template_areas": null,
            "grid_template_columns": null,
            "grid_template_rows": null,
            "height": null,
            "justify_content": null,
            "justify_items": null,
            "left": null,
            "margin": null,
            "max_height": null,
            "max_width": null,
            "min_height": null,
            "min_width": null,
            "object_fit": null,
            "object_position": null,
            "order": null,
            "overflow": null,
            "overflow_x": null,
            "overflow_y": null,
            "padding": null,
            "right": null,
            "top": null,
            "visibility": null,
            "width": null
          }
        },
        "ab59cae52ddc4b62abbe957b528b6e02": {
          "model_module": "@jupyter-widgets/base",
          "model_name": "LayoutModel",
          "model_module_version": "1.2.0",
          "state": {
            "_model_module": "@jupyter-widgets/base",
            "_model_module_version": "1.2.0",
            "_model_name": "LayoutModel",
            "_view_count": null,
            "_view_module": "@jupyter-widgets/base",
            "_view_module_version": "1.2.0",
            "_view_name": "LayoutView",
            "align_content": null,
            "align_items": null,
            "align_self": null,
            "border": null,
            "bottom": null,
            "display": null,
            "flex": null,
            "flex_flow": null,
            "grid_area": null,
            "grid_auto_columns": null,
            "grid_auto_flow": null,
            "grid_auto_rows": null,
            "grid_column": null,
            "grid_gap": null,
            "grid_row": null,
            "grid_template_areas": null,
            "grid_template_columns": null,
            "grid_template_rows": null,
            "height": null,
            "justify_content": null,
            "justify_items": null,
            "left": null,
            "margin": null,
            "max_height": null,
            "max_width": null,
            "min_height": null,
            "min_width": null,
            "object_fit": null,
            "object_position": null,
            "order": null,
            "overflow": null,
            "overflow_x": null,
            "overflow_y": null,
            "padding": null,
            "right": null,
            "top": null,
            "visibility": null,
            "width": null
          }
        },
        "6223bf5aad5143548e9eac71fda994f1": {
          "model_module": "@jupyter-widgets/controls",
          "model_name": "DescriptionStyleModel",
          "model_module_version": "1.5.0",
          "state": {
            "_model_module": "@jupyter-widgets/controls",
            "_model_module_version": "1.5.0",
            "_model_name": "DescriptionStyleModel",
            "_view_count": null,
            "_view_module": "@jupyter-widgets/base",
            "_view_module_version": "1.2.0",
            "_view_name": "StyleView",
            "description_width": ""
          }
        },
        "e5c00dc9d9564f1396205a1c3ed8d397": {
          "model_module": "@jupyter-widgets/base",
          "model_name": "LayoutModel",
          "model_module_version": "1.2.0",
          "state": {
            "_model_module": "@jupyter-widgets/base",
            "_model_module_version": "1.2.0",
            "_model_name": "LayoutModel",
            "_view_count": null,
            "_view_module": "@jupyter-widgets/base",
            "_view_module_version": "1.2.0",
            "_view_name": "LayoutView",
            "align_content": null,
            "align_items": null,
            "align_self": null,
            "border": null,
            "bottom": null,
            "display": null,
            "flex": null,
            "flex_flow": null,
            "grid_area": null,
            "grid_auto_columns": null,
            "grid_auto_flow": null,
            "grid_auto_rows": null,
            "grid_column": null,
            "grid_gap": null,
            "grid_row": null,
            "grid_template_areas": null,
            "grid_template_columns": null,
            "grid_template_rows": null,
            "height": null,
            "justify_content": null,
            "justify_items": null,
            "left": null,
            "margin": null,
            "max_height": null,
            "max_width": null,
            "min_height": null,
            "min_width": null,
            "object_fit": null,
            "object_position": null,
            "order": null,
            "overflow": null,
            "overflow_x": null,
            "overflow_y": null,
            "padding": null,
            "right": null,
            "top": null,
            "visibility": null,
            "width": null
          }
        },
        "b6d615544521475888295548afa5b29f": {
          "model_module": "@jupyter-widgets/controls",
          "model_name": "ProgressStyleModel",
          "model_module_version": "1.5.0",
          "state": {
            "_model_module": "@jupyter-widgets/controls",
            "_model_module_version": "1.5.0",
            "_model_name": "ProgressStyleModel",
            "_view_count": null,
            "_view_module": "@jupyter-widgets/base",
            "_view_module_version": "1.2.0",
            "_view_name": "StyleView",
            "bar_color": null,
            "description_width": ""
          }
        },
        "a384df05cc004dc4b5a6a86434378f84": {
          "model_module": "@jupyter-widgets/base",
          "model_name": "LayoutModel",
          "model_module_version": "1.2.0",
          "state": {
            "_model_module": "@jupyter-widgets/base",
            "_model_module_version": "1.2.0",
            "_model_name": "LayoutModel",
            "_view_count": null,
            "_view_module": "@jupyter-widgets/base",
            "_view_module_version": "1.2.0",
            "_view_name": "LayoutView",
            "align_content": null,
            "align_items": null,
            "align_self": null,
            "border": null,
            "bottom": null,
            "display": null,
            "flex": null,
            "flex_flow": null,
            "grid_area": null,
            "grid_auto_columns": null,
            "grid_auto_flow": null,
            "grid_auto_rows": null,
            "grid_column": null,
            "grid_gap": null,
            "grid_row": null,
            "grid_template_areas": null,
            "grid_template_columns": null,
            "grid_template_rows": null,
            "height": null,
            "justify_content": null,
            "justify_items": null,
            "left": null,
            "margin": null,
            "max_height": null,
            "max_width": null,
            "min_height": null,
            "min_width": null,
            "object_fit": null,
            "object_position": null,
            "order": null,
            "overflow": null,
            "overflow_x": null,
            "overflow_y": null,
            "padding": null,
            "right": null,
            "top": null,
            "visibility": null,
            "width": null
          }
        },
        "fad09fa12f744ed18c7a5aefb99e7da1": {
          "model_module": "@jupyter-widgets/controls",
          "model_name": "DescriptionStyleModel",
          "model_module_version": "1.5.0",
          "state": {
            "_model_module": "@jupyter-widgets/controls",
            "_model_module_version": "1.5.0",
            "_model_name": "DescriptionStyleModel",
            "_view_count": null,
            "_view_module": "@jupyter-widgets/base",
            "_view_module_version": "1.2.0",
            "_view_name": "StyleView",
            "description_width": ""
          }
        },
        "0e5d95782d124008aa7d2db3a565d30d": {
          "model_module": "@jupyter-widgets/controls",
          "model_name": "HBoxModel",
          "model_module_version": "1.5.0",
          "state": {
            "_dom_classes": [],
            "_model_module": "@jupyter-widgets/controls",
            "_model_module_version": "1.5.0",
            "_model_name": "HBoxModel",
            "_view_count": null,
            "_view_module": "@jupyter-widgets/controls",
            "_view_module_version": "1.5.0",
            "_view_name": "HBoxView",
            "box_style": "",
            "children": [
              "IPY_MODEL_01a29e04fea14fcaa11658d1f79263eb",
              "IPY_MODEL_2201b93b72b0401fb2d968551d32db39",
              "IPY_MODEL_7530d60accd54ebebd303add47270b92"
            ],
            "layout": "IPY_MODEL_6f05271c627c41b8adf855edecc7acf7"
          }
        },
        "01a29e04fea14fcaa11658d1f79263eb": {
          "model_module": "@jupyter-widgets/controls",
          "model_name": "HTMLModel",
          "model_module_version": "1.5.0",
          "state": {
            "_dom_classes": [],
            "_model_module": "@jupyter-widgets/controls",
            "_model_module_version": "1.5.0",
            "_model_name": "HTMLModel",
            "_view_count": null,
            "_view_module": "@jupyter-widgets/controls",
            "_view_module_version": "1.5.0",
            "_view_name": "HTMLView",
            "description": "",
            "description_tooltip": null,
            "layout": "IPY_MODEL_12da534aa8694bc6a62a0f67209398ce",
            "placeholder": "​",
            "style": "IPY_MODEL_641d15ae5fd04f46a2fc15350f977640",
            "value": "Downloading (…)ve/main/spiece.model: 100%"
          }
        },
        "2201b93b72b0401fb2d968551d32db39": {
          "model_module": "@jupyter-widgets/controls",
          "model_name": "FloatProgressModel",
          "model_module_version": "1.5.0",
          "state": {
            "_dom_classes": [],
            "_model_module": "@jupyter-widgets/controls",
            "_model_module_version": "1.5.0",
            "_model_name": "FloatProgressModel",
            "_view_count": null,
            "_view_module": "@jupyter-widgets/controls",
            "_view_module_version": "1.5.0",
            "_view_name": "ProgressView",
            "bar_style": "success",
            "description": "",
            "description_tooltip": null,
            "layout": "IPY_MODEL_8e848bd839da4e56a7a33f7f09547ea5",
            "max": 791656,
            "min": 0,
            "orientation": "horizontal",
            "style": "IPY_MODEL_d734363db1af4a3e825f2eb7d3eab559",
            "value": 791656
          }
        },
        "7530d60accd54ebebd303add47270b92": {
          "model_module": "@jupyter-widgets/controls",
          "model_name": "HTMLModel",
          "model_module_version": "1.5.0",
          "state": {
            "_dom_classes": [],
            "_model_module": "@jupyter-widgets/controls",
            "_model_module_version": "1.5.0",
            "_model_name": "HTMLModel",
            "_view_count": null,
            "_view_module": "@jupyter-widgets/controls",
            "_view_module_version": "1.5.0",
            "_view_name": "HTMLView",
            "description": "",
            "description_tooltip": null,
            "layout": "IPY_MODEL_8dda8da24621412f952ee7ca03c001ff",
            "placeholder": "​",
            "style": "IPY_MODEL_1e9169c6fe4f496691b6350f5a3c0890",
            "value": " 792k/792k [00:00&lt;00:00, 25.6MB/s]"
          }
        },
        "6f05271c627c41b8adf855edecc7acf7": {
          "model_module": "@jupyter-widgets/base",
          "model_name": "LayoutModel",
          "model_module_version": "1.2.0",
          "state": {
            "_model_module": "@jupyter-widgets/base",
            "_model_module_version": "1.2.0",
            "_model_name": "LayoutModel",
            "_view_count": null,
            "_view_module": "@jupyter-widgets/base",
            "_view_module_version": "1.2.0",
            "_view_name": "LayoutView",
            "align_content": null,
            "align_items": null,
            "align_self": null,
            "border": null,
            "bottom": null,
            "display": null,
            "flex": null,
            "flex_flow": null,
            "grid_area": null,
            "grid_auto_columns": null,
            "grid_auto_flow": null,
            "grid_auto_rows": null,
            "grid_column": null,
            "grid_gap": null,
            "grid_row": null,
            "grid_template_areas": null,
            "grid_template_columns": null,
            "grid_template_rows": null,
            "height": null,
            "justify_content": null,
            "justify_items": null,
            "left": null,
            "margin": null,
            "max_height": null,
            "max_width": null,
            "min_height": null,
            "min_width": null,
            "object_fit": null,
            "object_position": null,
            "order": null,
            "overflow": null,
            "overflow_x": null,
            "overflow_y": null,
            "padding": null,
            "right": null,
            "top": null,
            "visibility": null,
            "width": null
          }
        },
        "12da534aa8694bc6a62a0f67209398ce": {
          "model_module": "@jupyter-widgets/base",
          "model_name": "LayoutModel",
          "model_module_version": "1.2.0",
          "state": {
            "_model_module": "@jupyter-widgets/base",
            "_model_module_version": "1.2.0",
            "_model_name": "LayoutModel",
            "_view_count": null,
            "_view_module": "@jupyter-widgets/base",
            "_view_module_version": "1.2.0",
            "_view_name": "LayoutView",
            "align_content": null,
            "align_items": null,
            "align_self": null,
            "border": null,
            "bottom": null,
            "display": null,
            "flex": null,
            "flex_flow": null,
            "grid_area": null,
            "grid_auto_columns": null,
            "grid_auto_flow": null,
            "grid_auto_rows": null,
            "grid_column": null,
            "grid_gap": null,
            "grid_row": null,
            "grid_template_areas": null,
            "grid_template_columns": null,
            "grid_template_rows": null,
            "height": null,
            "justify_content": null,
            "justify_items": null,
            "left": null,
            "margin": null,
            "max_height": null,
            "max_width": null,
            "min_height": null,
            "min_width": null,
            "object_fit": null,
            "object_position": null,
            "order": null,
            "overflow": null,
            "overflow_x": null,
            "overflow_y": null,
            "padding": null,
            "right": null,
            "top": null,
            "visibility": null,
            "width": null
          }
        },
        "641d15ae5fd04f46a2fc15350f977640": {
          "model_module": "@jupyter-widgets/controls",
          "model_name": "DescriptionStyleModel",
          "model_module_version": "1.5.0",
          "state": {
            "_model_module": "@jupyter-widgets/controls",
            "_model_module_version": "1.5.0",
            "_model_name": "DescriptionStyleModel",
            "_view_count": null,
            "_view_module": "@jupyter-widgets/base",
            "_view_module_version": "1.2.0",
            "_view_name": "StyleView",
            "description_width": ""
          }
        },
        "8e848bd839da4e56a7a33f7f09547ea5": {
          "model_module": "@jupyter-widgets/base",
          "model_name": "LayoutModel",
          "model_module_version": "1.2.0",
          "state": {
            "_model_module": "@jupyter-widgets/base",
            "_model_module_version": "1.2.0",
            "_model_name": "LayoutModel",
            "_view_count": null,
            "_view_module": "@jupyter-widgets/base",
            "_view_module_version": "1.2.0",
            "_view_name": "LayoutView",
            "align_content": null,
            "align_items": null,
            "align_self": null,
            "border": null,
            "bottom": null,
            "display": null,
            "flex": null,
            "flex_flow": null,
            "grid_area": null,
            "grid_auto_columns": null,
            "grid_auto_flow": null,
            "grid_auto_rows": null,
            "grid_column": null,
            "grid_gap": null,
            "grid_row": null,
            "grid_template_areas": null,
            "grid_template_columns": null,
            "grid_template_rows": null,
            "height": null,
            "justify_content": null,
            "justify_items": null,
            "left": null,
            "margin": null,
            "max_height": null,
            "max_width": null,
            "min_height": null,
            "min_width": null,
            "object_fit": null,
            "object_position": null,
            "order": null,
            "overflow": null,
            "overflow_x": null,
            "overflow_y": null,
            "padding": null,
            "right": null,
            "top": null,
            "visibility": null,
            "width": null
          }
        },
        "d734363db1af4a3e825f2eb7d3eab559": {
          "model_module": "@jupyter-widgets/controls",
          "model_name": "ProgressStyleModel",
          "model_module_version": "1.5.0",
          "state": {
            "_model_module": "@jupyter-widgets/controls",
            "_model_module_version": "1.5.0",
            "_model_name": "ProgressStyleModel",
            "_view_count": null,
            "_view_module": "@jupyter-widgets/base",
            "_view_module_version": "1.2.0",
            "_view_name": "StyleView",
            "bar_color": null,
            "description_width": ""
          }
        },
        "8dda8da24621412f952ee7ca03c001ff": {
          "model_module": "@jupyter-widgets/base",
          "model_name": "LayoutModel",
          "model_module_version": "1.2.0",
          "state": {
            "_model_module": "@jupyter-widgets/base",
            "_model_module_version": "1.2.0",
            "_model_name": "LayoutModel",
            "_view_count": null,
            "_view_module": "@jupyter-widgets/base",
            "_view_module_version": "1.2.0",
            "_view_name": "LayoutView",
            "align_content": null,
            "align_items": null,
            "align_self": null,
            "border": null,
            "bottom": null,
            "display": null,
            "flex": null,
            "flex_flow": null,
            "grid_area": null,
            "grid_auto_columns": null,
            "grid_auto_flow": null,
            "grid_auto_rows": null,
            "grid_column": null,
            "grid_gap": null,
            "grid_row": null,
            "grid_template_areas": null,
            "grid_template_columns": null,
            "grid_template_rows": null,
            "height": null,
            "justify_content": null,
            "justify_items": null,
            "left": null,
            "margin": null,
            "max_height": null,
            "max_width": null,
            "min_height": null,
            "min_width": null,
            "object_fit": null,
            "object_position": null,
            "order": null,
            "overflow": null,
            "overflow_x": null,
            "overflow_y": null,
            "padding": null,
            "right": null,
            "top": null,
            "visibility": null,
            "width": null
          }
        },
        "1e9169c6fe4f496691b6350f5a3c0890": {
          "model_module": "@jupyter-widgets/controls",
          "model_name": "DescriptionStyleModel",
          "model_module_version": "1.5.0",
          "state": {
            "_model_module": "@jupyter-widgets/controls",
            "_model_module_version": "1.5.0",
            "_model_name": "DescriptionStyleModel",
            "_view_count": null,
            "_view_module": "@jupyter-widgets/base",
            "_view_module_version": "1.2.0",
            "_view_name": "StyleView",
            "description_width": ""
          }
        },
        "3f762b4810484f2e843428593e98070e": {
          "model_module": "@jupyter-widgets/controls",
          "model_name": "HBoxModel",
          "model_module_version": "1.5.0",
          "state": {
            "_dom_classes": [],
            "_model_module": "@jupyter-widgets/controls",
            "_model_module_version": "1.5.0",
            "_model_name": "HBoxModel",
            "_view_count": null,
            "_view_module": "@jupyter-widgets/controls",
            "_view_module_version": "1.5.0",
            "_view_name": "HBoxView",
            "box_style": "",
            "children": [
              "IPY_MODEL_da2bab48b5234df0b648b61942b43617",
              "IPY_MODEL_5a8bdc99cc754195a63fe96b55321025",
              "IPY_MODEL_999f8bf3ff2943a3b3e87ac12c197648"
            ],
            "layout": "IPY_MODEL_59abfe1ecc5647c0ae9456679caa0f68"
          }
        },
        "da2bab48b5234df0b648b61942b43617": {
          "model_module": "@jupyter-widgets/controls",
          "model_name": "HTMLModel",
          "model_module_version": "1.5.0",
          "state": {
            "_dom_classes": [],
            "_model_module": "@jupyter-widgets/controls",
            "_model_module_version": "1.5.0",
            "_model_name": "HTMLModel",
            "_view_count": null,
            "_view_module": "@jupyter-widgets/controls",
            "_view_module_version": "1.5.0",
            "_view_name": "HTMLView",
            "description": "",
            "description_tooltip": null,
            "layout": "IPY_MODEL_8e306a43091049cc8c5ffc6a8ae1bdcf",
            "placeholder": "​",
            "style": "IPY_MODEL_13a9754569f64b779cca4aa484250359",
            "value": "Downloading (…)/main/tokenizer.json: 100%"
          }
        },
        "5a8bdc99cc754195a63fe96b55321025": {
          "model_module": "@jupyter-widgets/controls",
          "model_name": "FloatProgressModel",
          "model_module_version": "1.5.0",
          "state": {
            "_dom_classes": [],
            "_model_module": "@jupyter-widgets/controls",
            "_model_module_version": "1.5.0",
            "_model_name": "FloatProgressModel",
            "_view_count": null,
            "_view_module": "@jupyter-widgets/controls",
            "_view_module_version": "1.5.0",
            "_view_name": "ProgressView",
            "bar_style": "success",
            "description": "",
            "description_tooltip": null,
            "layout": "IPY_MODEL_0098f5dde429414dac774c1280455a8d",
            "max": 1389353,
            "min": 0,
            "orientation": "horizontal",
            "style": "IPY_MODEL_f41d9e2df6694ce29fab93f1509b75c9",
            "value": 1389353
          }
        },
        "999f8bf3ff2943a3b3e87ac12c197648": {
          "model_module": "@jupyter-widgets/controls",
          "model_name": "HTMLModel",
          "model_module_version": "1.5.0",
          "state": {
            "_dom_classes": [],
            "_model_module": "@jupyter-widgets/controls",
            "_model_module_version": "1.5.0",
            "_model_name": "HTMLModel",
            "_view_count": null,
            "_view_module": "@jupyter-widgets/controls",
            "_view_module_version": "1.5.0",
            "_view_name": "HTMLView",
            "description": "",
            "description_tooltip": null,
            "layout": "IPY_MODEL_9439cb3288b249d4bb7b3fdcead3d2dc",
            "placeholder": "​",
            "style": "IPY_MODEL_148afd7e19a1413ba707bcc018977caa",
            "value": " 1.39M/1.39M [00:00&lt;00:00, 6.71MB/s]"
          }
        },
        "59abfe1ecc5647c0ae9456679caa0f68": {
          "model_module": "@jupyter-widgets/base",
          "model_name": "LayoutModel",
          "model_module_version": "1.2.0",
          "state": {
            "_model_module": "@jupyter-widgets/base",
            "_model_module_version": "1.2.0",
            "_model_name": "LayoutModel",
            "_view_count": null,
            "_view_module": "@jupyter-widgets/base",
            "_view_module_version": "1.2.0",
            "_view_name": "LayoutView",
            "align_content": null,
            "align_items": null,
            "align_self": null,
            "border": null,
            "bottom": null,
            "display": null,
            "flex": null,
            "flex_flow": null,
            "grid_area": null,
            "grid_auto_columns": null,
            "grid_auto_flow": null,
            "grid_auto_rows": null,
            "grid_column": null,
            "grid_gap": null,
            "grid_row": null,
            "grid_template_areas": null,
            "grid_template_columns": null,
            "grid_template_rows": null,
            "height": null,
            "justify_content": null,
            "justify_items": null,
            "left": null,
            "margin": null,
            "max_height": null,
            "max_width": null,
            "min_height": null,
            "min_width": null,
            "object_fit": null,
            "object_position": null,
            "order": null,
            "overflow": null,
            "overflow_x": null,
            "overflow_y": null,
            "padding": null,
            "right": null,
            "top": null,
            "visibility": null,
            "width": null
          }
        },
        "8e306a43091049cc8c5ffc6a8ae1bdcf": {
          "model_module": "@jupyter-widgets/base",
          "model_name": "LayoutModel",
          "model_module_version": "1.2.0",
          "state": {
            "_model_module": "@jupyter-widgets/base",
            "_model_module_version": "1.2.0",
            "_model_name": "LayoutModel",
            "_view_count": null,
            "_view_module": "@jupyter-widgets/base",
            "_view_module_version": "1.2.0",
            "_view_name": "LayoutView",
            "align_content": null,
            "align_items": null,
            "align_self": null,
            "border": null,
            "bottom": null,
            "display": null,
            "flex": null,
            "flex_flow": null,
            "grid_area": null,
            "grid_auto_columns": null,
            "grid_auto_flow": null,
            "grid_auto_rows": null,
            "grid_column": null,
            "grid_gap": null,
            "grid_row": null,
            "grid_template_areas": null,
            "grid_template_columns": null,
            "grid_template_rows": null,
            "height": null,
            "justify_content": null,
            "justify_items": null,
            "left": null,
            "margin": null,
            "max_height": null,
            "max_width": null,
            "min_height": null,
            "min_width": null,
            "object_fit": null,
            "object_position": null,
            "order": null,
            "overflow": null,
            "overflow_x": null,
            "overflow_y": null,
            "padding": null,
            "right": null,
            "top": null,
            "visibility": null,
            "width": null
          }
        },
        "13a9754569f64b779cca4aa484250359": {
          "model_module": "@jupyter-widgets/controls",
          "model_name": "DescriptionStyleModel",
          "model_module_version": "1.5.0",
          "state": {
            "_model_module": "@jupyter-widgets/controls",
            "_model_module_version": "1.5.0",
            "_model_name": "DescriptionStyleModel",
            "_view_count": null,
            "_view_module": "@jupyter-widgets/base",
            "_view_module_version": "1.2.0",
            "_view_name": "StyleView",
            "description_width": ""
          }
        },
        "0098f5dde429414dac774c1280455a8d": {
          "model_module": "@jupyter-widgets/base",
          "model_name": "LayoutModel",
          "model_module_version": "1.2.0",
          "state": {
            "_model_module": "@jupyter-widgets/base",
            "_model_module_version": "1.2.0",
            "_model_name": "LayoutModel",
            "_view_count": null,
            "_view_module": "@jupyter-widgets/base",
            "_view_module_version": "1.2.0",
            "_view_name": "LayoutView",
            "align_content": null,
            "align_items": null,
            "align_self": null,
            "border": null,
            "bottom": null,
            "display": null,
            "flex": null,
            "flex_flow": null,
            "grid_area": null,
            "grid_auto_columns": null,
            "grid_auto_flow": null,
            "grid_auto_rows": null,
            "grid_column": null,
            "grid_gap": null,
            "grid_row": null,
            "grid_template_areas": null,
            "grid_template_columns": null,
            "grid_template_rows": null,
            "height": null,
            "justify_content": null,
            "justify_items": null,
            "left": null,
            "margin": null,
            "max_height": null,
            "max_width": null,
            "min_height": null,
            "min_width": null,
            "object_fit": null,
            "object_position": null,
            "order": null,
            "overflow": null,
            "overflow_x": null,
            "overflow_y": null,
            "padding": null,
            "right": null,
            "top": null,
            "visibility": null,
            "width": null
          }
        },
        "f41d9e2df6694ce29fab93f1509b75c9": {
          "model_module": "@jupyter-widgets/controls",
          "model_name": "ProgressStyleModel",
          "model_module_version": "1.5.0",
          "state": {
            "_model_module": "@jupyter-widgets/controls",
            "_model_module_version": "1.5.0",
            "_model_name": "ProgressStyleModel",
            "_view_count": null,
            "_view_module": "@jupyter-widgets/base",
            "_view_module_version": "1.2.0",
            "_view_name": "StyleView",
            "bar_color": null,
            "description_width": ""
          }
        },
        "9439cb3288b249d4bb7b3fdcead3d2dc": {
          "model_module": "@jupyter-widgets/base",
          "model_name": "LayoutModel",
          "model_module_version": "1.2.0",
          "state": {
            "_model_module": "@jupyter-widgets/base",
            "_model_module_version": "1.2.0",
            "_model_name": "LayoutModel",
            "_view_count": null,
            "_view_module": "@jupyter-widgets/base",
            "_view_module_version": "1.2.0",
            "_view_name": "LayoutView",
            "align_content": null,
            "align_items": null,
            "align_self": null,
            "border": null,
            "bottom": null,
            "display": null,
            "flex": null,
            "flex_flow": null,
            "grid_area": null,
            "grid_auto_columns": null,
            "grid_auto_flow": null,
            "grid_auto_rows": null,
            "grid_column": null,
            "grid_gap": null,
            "grid_row": null,
            "grid_template_areas": null,
            "grid_template_columns": null,
            "grid_template_rows": null,
            "height": null,
            "justify_content": null,
            "justify_items": null,
            "left": null,
            "margin": null,
            "max_height": null,
            "max_width": null,
            "min_height": null,
            "min_width": null,
            "object_fit": null,
            "object_position": null,
            "order": null,
            "overflow": null,
            "overflow_x": null,
            "overflow_y": null,
            "padding": null,
            "right": null,
            "top": null,
            "visibility": null,
            "width": null
          }
        },
        "148afd7e19a1413ba707bcc018977caa": {
          "model_module": "@jupyter-widgets/controls",
          "model_name": "DescriptionStyleModel",
          "model_module_version": "1.5.0",
          "state": {
            "_model_module": "@jupyter-widgets/controls",
            "_model_module_version": "1.5.0",
            "_model_name": "DescriptionStyleModel",
            "_view_count": null,
            "_view_module": "@jupyter-widgets/base",
            "_view_module_version": "1.2.0",
            "_view_name": "StyleView",
            "description_width": ""
          }
        },
        "dc6b2189236d4b1b96168bd81a8620fe": {
          "model_module": "@jupyter-widgets/controls",
          "model_name": "HBoxModel",
          "model_module_version": "1.5.0",
          "state": {
            "_dom_classes": [],
            "_model_module": "@jupyter-widgets/controls",
            "_model_module_version": "1.5.0",
            "_model_name": "HBoxModel",
            "_view_count": null,
            "_view_module": "@jupyter-widgets/controls",
            "_view_module_version": "1.5.0",
            "_view_name": "HBoxView",
            "box_style": "",
            "children": [
              "IPY_MODEL_b82948e9ef984b679b40d26aaf91f8a8",
              "IPY_MODEL_2a7249cdec04475e9e2be16e8a125690",
              "IPY_MODEL_e20b09d53399473d8cbcf3a0e794867b"
            ],
            "layout": "IPY_MODEL_d51bf82e03fb45a88ed973cfbbd808e8"
          }
        },
        "b82948e9ef984b679b40d26aaf91f8a8": {
          "model_module": "@jupyter-widgets/controls",
          "model_name": "HTMLModel",
          "model_module_version": "1.5.0",
          "state": {
            "_dom_classes": [],
            "_model_module": "@jupyter-widgets/controls",
            "_model_module_version": "1.5.0",
            "_model_name": "HTMLModel",
            "_view_count": null,
            "_view_module": "@jupyter-widgets/controls",
            "_view_module_version": "1.5.0",
            "_view_name": "HTMLView",
            "description": "",
            "description_tooltip": null,
            "layout": "IPY_MODEL_6d92ca8a07fb4854903ef1f186f1a917",
            "placeholder": "​",
            "style": "IPY_MODEL_f22488076f124ea48ff1018fca5a7e0b",
            "value": "Downloading builder script: 100%"
          }
        },
        "2a7249cdec04475e9e2be16e8a125690": {
          "model_module": "@jupyter-widgets/controls",
          "model_name": "FloatProgressModel",
          "model_module_version": "1.5.0",
          "state": {
            "_dom_classes": [],
            "_model_module": "@jupyter-widgets/controls",
            "_model_module_version": "1.5.0",
            "_model_name": "FloatProgressModel",
            "_view_count": null,
            "_view_module": "@jupyter-widgets/controls",
            "_view_module_version": "1.5.0",
            "_view_name": "ProgressView",
            "bar_style": "success",
            "description": "",
            "description_tooltip": null,
            "layout": "IPY_MODEL_7d1d6687626a49d09983ceddd4d2fe34",
            "max": 7250,
            "min": 0,
            "orientation": "horizontal",
            "style": "IPY_MODEL_a8c9cc1ab5bc488d89a46680963bcc89",
            "value": 7250
          }
        },
        "e20b09d53399473d8cbcf3a0e794867b": {
          "model_module": "@jupyter-widgets/controls",
          "model_name": "HTMLModel",
          "model_module_version": "1.5.0",
          "state": {
            "_dom_classes": [],
            "_model_module": "@jupyter-widgets/controls",
            "_model_module_version": "1.5.0",
            "_model_name": "HTMLModel",
            "_view_count": null,
            "_view_module": "@jupyter-widgets/controls",
            "_view_module_version": "1.5.0",
            "_view_name": "HTMLView",
            "description": "",
            "description_tooltip": null,
            "layout": "IPY_MODEL_986853dbc098420bb20b08a31602ed4a",
            "placeholder": "​",
            "style": "IPY_MODEL_bf775e068fe443fc896b386484eb7e68",
            "value": " 7.25k/7.25k [00:00&lt;00:00, 375kB/s]"
          }
        },
        "d51bf82e03fb45a88ed973cfbbd808e8": {
          "model_module": "@jupyter-widgets/base",
          "model_name": "LayoutModel",
          "model_module_version": "1.2.0",
          "state": {
            "_model_module": "@jupyter-widgets/base",
            "_model_module_version": "1.2.0",
            "_model_name": "LayoutModel",
            "_view_count": null,
            "_view_module": "@jupyter-widgets/base",
            "_view_module_version": "1.2.0",
            "_view_name": "LayoutView",
            "align_content": null,
            "align_items": null,
            "align_self": null,
            "border": null,
            "bottom": null,
            "display": null,
            "flex": null,
            "flex_flow": null,
            "grid_area": null,
            "grid_auto_columns": null,
            "grid_auto_flow": null,
            "grid_auto_rows": null,
            "grid_column": null,
            "grid_gap": null,
            "grid_row": null,
            "grid_template_areas": null,
            "grid_template_columns": null,
            "grid_template_rows": null,
            "height": null,
            "justify_content": null,
            "justify_items": null,
            "left": null,
            "margin": null,
            "max_height": null,
            "max_width": null,
            "min_height": null,
            "min_width": null,
            "object_fit": null,
            "object_position": null,
            "order": null,
            "overflow": null,
            "overflow_x": null,
            "overflow_y": null,
            "padding": null,
            "right": null,
            "top": null,
            "visibility": null,
            "width": null
          }
        },
        "6d92ca8a07fb4854903ef1f186f1a917": {
          "model_module": "@jupyter-widgets/base",
          "model_name": "LayoutModel",
          "model_module_version": "1.2.0",
          "state": {
            "_model_module": "@jupyter-widgets/base",
            "_model_module_version": "1.2.0",
            "_model_name": "LayoutModel",
            "_view_count": null,
            "_view_module": "@jupyter-widgets/base",
            "_view_module_version": "1.2.0",
            "_view_name": "LayoutView",
            "align_content": null,
            "align_items": null,
            "align_self": null,
            "border": null,
            "bottom": null,
            "display": null,
            "flex": null,
            "flex_flow": null,
            "grid_area": null,
            "grid_auto_columns": null,
            "grid_auto_flow": null,
            "grid_auto_rows": null,
            "grid_column": null,
            "grid_gap": null,
            "grid_row": null,
            "grid_template_areas": null,
            "grid_template_columns": null,
            "grid_template_rows": null,
            "height": null,
            "justify_content": null,
            "justify_items": null,
            "left": null,
            "margin": null,
            "max_height": null,
            "max_width": null,
            "min_height": null,
            "min_width": null,
            "object_fit": null,
            "object_position": null,
            "order": null,
            "overflow": null,
            "overflow_x": null,
            "overflow_y": null,
            "padding": null,
            "right": null,
            "top": null,
            "visibility": null,
            "width": null
          }
        },
        "f22488076f124ea48ff1018fca5a7e0b": {
          "model_module": "@jupyter-widgets/controls",
          "model_name": "DescriptionStyleModel",
          "model_module_version": "1.5.0",
          "state": {
            "_model_module": "@jupyter-widgets/controls",
            "_model_module_version": "1.5.0",
            "_model_name": "DescriptionStyleModel",
            "_view_count": null,
            "_view_module": "@jupyter-widgets/base",
            "_view_module_version": "1.2.0",
            "_view_name": "StyleView",
            "description_width": ""
          }
        },
        "7d1d6687626a49d09983ceddd4d2fe34": {
          "model_module": "@jupyter-widgets/base",
          "model_name": "LayoutModel",
          "model_module_version": "1.2.0",
          "state": {
            "_model_module": "@jupyter-widgets/base",
            "_model_module_version": "1.2.0",
            "_model_name": "LayoutModel",
            "_view_count": null,
            "_view_module": "@jupyter-widgets/base",
            "_view_module_version": "1.2.0",
            "_view_name": "LayoutView",
            "align_content": null,
            "align_items": null,
            "align_self": null,
            "border": null,
            "bottom": null,
            "display": null,
            "flex": null,
            "flex_flow": null,
            "grid_area": null,
            "grid_auto_columns": null,
            "grid_auto_flow": null,
            "grid_auto_rows": null,
            "grid_column": null,
            "grid_gap": null,
            "grid_row": null,
            "grid_template_areas": null,
            "grid_template_columns": null,
            "grid_template_rows": null,
            "height": null,
            "justify_content": null,
            "justify_items": null,
            "left": null,
            "margin": null,
            "max_height": null,
            "max_width": null,
            "min_height": null,
            "min_width": null,
            "object_fit": null,
            "object_position": null,
            "order": null,
            "overflow": null,
            "overflow_x": null,
            "overflow_y": null,
            "padding": null,
            "right": null,
            "top": null,
            "visibility": null,
            "width": null
          }
        },
        "a8c9cc1ab5bc488d89a46680963bcc89": {
          "model_module": "@jupyter-widgets/controls",
          "model_name": "ProgressStyleModel",
          "model_module_version": "1.5.0",
          "state": {
            "_model_module": "@jupyter-widgets/controls",
            "_model_module_version": "1.5.0",
            "_model_name": "ProgressStyleModel",
            "_view_count": null,
            "_view_module": "@jupyter-widgets/base",
            "_view_module_version": "1.2.0",
            "_view_name": "StyleView",
            "bar_color": null,
            "description_width": ""
          }
        },
        "986853dbc098420bb20b08a31602ed4a": {
          "model_module": "@jupyter-widgets/base",
          "model_name": "LayoutModel",
          "model_module_version": "1.2.0",
          "state": {
            "_model_module": "@jupyter-widgets/base",
            "_model_module_version": "1.2.0",
            "_model_name": "LayoutModel",
            "_view_count": null,
            "_view_module": "@jupyter-widgets/base",
            "_view_module_version": "1.2.0",
            "_view_name": "LayoutView",
            "align_content": null,
            "align_items": null,
            "align_self": null,
            "border": null,
            "bottom": null,
            "display": null,
            "flex": null,
            "flex_flow": null,
            "grid_area": null,
            "grid_auto_columns": null,
            "grid_auto_flow": null,
            "grid_auto_rows": null,
            "grid_column": null,
            "grid_gap": null,
            "grid_row": null,
            "grid_template_areas": null,
            "grid_template_columns": null,
            "grid_template_rows": null,
            "height": null,
            "justify_content": null,
            "justify_items": null,
            "left": null,
            "margin": null,
            "max_height": null,
            "max_width": null,
            "min_height": null,
            "min_width": null,
            "object_fit": null,
            "object_position": null,
            "order": null,
            "overflow": null,
            "overflow_x": null,
            "overflow_y": null,
            "padding": null,
            "right": null,
            "top": null,
            "visibility": null,
            "width": null
          }
        },
        "bf775e068fe443fc896b386484eb7e68": {
          "model_module": "@jupyter-widgets/controls",
          "model_name": "DescriptionStyleModel",
          "model_module_version": "1.5.0",
          "state": {
            "_model_module": "@jupyter-widgets/controls",
            "_model_module_version": "1.5.0",
            "_model_name": "DescriptionStyleModel",
            "_view_count": null,
            "_view_module": "@jupyter-widgets/base",
            "_view_module_version": "1.2.0",
            "_view_name": "StyleView",
            "description_width": ""
          }
        },
        "c6ec6b14a2034ffd809a3fe6509c6dd4": {
          "model_module": "@jupyter-widgets/controls",
          "model_name": "HBoxModel",
          "model_module_version": "1.5.0",
          "state": {
            "_dom_classes": [],
            "_model_module": "@jupyter-widgets/controls",
            "_model_module_version": "1.5.0",
            "_model_name": "HBoxModel",
            "_view_count": null,
            "_view_module": "@jupyter-widgets/controls",
            "_view_module_version": "1.5.0",
            "_view_name": "HBoxView",
            "box_style": "",
            "children": [
              "IPY_MODEL_7662dea92c8b4c5cb2ce4fdf5a9920ac",
              "IPY_MODEL_c7f297f3e23d410e9555dde18eb01676",
              "IPY_MODEL_cfb72af9a30b4b30a5f0333a4851ed18"
            ],
            "layout": "IPY_MODEL_3e1fad334fa649e594aa09de3827c5fb"
          }
        },
        "7662dea92c8b4c5cb2ce4fdf5a9920ac": {
          "model_module": "@jupyter-widgets/controls",
          "model_name": "HTMLModel",
          "model_module_version": "1.5.0",
          "state": {
            "_dom_classes": [],
            "_model_module": "@jupyter-widgets/controls",
            "_model_module_version": "1.5.0",
            "_model_name": "HTMLModel",
            "_view_count": null,
            "_view_module": "@jupyter-widgets/controls",
            "_view_module_version": "1.5.0",
            "_view_name": "HTMLView",
            "description": "",
            "description_tooltip": null,
            "layout": "IPY_MODEL_b6de847da95846469b8552b71d6faa01",
            "placeholder": "​",
            "style": "IPY_MODEL_76f928ca9bc74dd9a21fffa5f8300b18",
            "value": "Downloading metadata: 100%"
          }
        },
        "c7f297f3e23d410e9555dde18eb01676": {
          "model_module": "@jupyter-widgets/controls",
          "model_name": "FloatProgressModel",
          "model_module_version": "1.5.0",
          "state": {
            "_dom_classes": [],
            "_model_module": "@jupyter-widgets/controls",
            "_model_module_version": "1.5.0",
            "_model_name": "FloatProgressModel",
            "_view_count": null,
            "_view_module": "@jupyter-widgets/controls",
            "_view_module_version": "1.5.0",
            "_view_name": "ProgressView",
            "bar_style": "success",
            "description": "",
            "description_tooltip": null,
            "layout": "IPY_MODEL_b2eccc3f999f49afbd0a282af5aa0db6",
            "max": 191662,
            "min": 0,
            "orientation": "horizontal",
            "style": "IPY_MODEL_66c55ded24bb494d80f08c4815e64140",
            "value": 191662
          }
        },
        "cfb72af9a30b4b30a5f0333a4851ed18": {
          "model_module": "@jupyter-widgets/controls",
          "model_name": "HTMLModel",
          "model_module_version": "1.5.0",
          "state": {
            "_dom_classes": [],
            "_model_module": "@jupyter-widgets/controls",
            "_model_module_version": "1.5.0",
            "_model_name": "HTMLModel",
            "_view_count": null,
            "_view_module": "@jupyter-widgets/controls",
            "_view_module_version": "1.5.0",
            "_view_name": "HTMLView",
            "description": "",
            "description_tooltip": null,
            "layout": "IPY_MODEL_6092901e540f4e7899fbcf5d7d8653f4",
            "placeholder": "​",
            "style": "IPY_MODEL_2602a5c0f4df412893439074b2d24e32",
            "value": " 192k/192k [00:00&lt;00:00, 3.73MB/s]"
          }
        },
        "3e1fad334fa649e594aa09de3827c5fb": {
          "model_module": "@jupyter-widgets/base",
          "model_name": "LayoutModel",
          "model_module_version": "1.2.0",
          "state": {
            "_model_module": "@jupyter-widgets/base",
            "_model_module_version": "1.2.0",
            "_model_name": "LayoutModel",
            "_view_count": null,
            "_view_module": "@jupyter-widgets/base",
            "_view_module_version": "1.2.0",
            "_view_name": "LayoutView",
            "align_content": null,
            "align_items": null,
            "align_self": null,
            "border": null,
            "bottom": null,
            "display": null,
            "flex": null,
            "flex_flow": null,
            "grid_area": null,
            "grid_auto_columns": null,
            "grid_auto_flow": null,
            "grid_auto_rows": null,
            "grid_column": null,
            "grid_gap": null,
            "grid_row": null,
            "grid_template_areas": null,
            "grid_template_columns": null,
            "grid_template_rows": null,
            "height": null,
            "justify_content": null,
            "justify_items": null,
            "left": null,
            "margin": null,
            "max_height": null,
            "max_width": null,
            "min_height": null,
            "min_width": null,
            "object_fit": null,
            "object_position": null,
            "order": null,
            "overflow": null,
            "overflow_x": null,
            "overflow_y": null,
            "padding": null,
            "right": null,
            "top": null,
            "visibility": null,
            "width": null
          }
        },
        "b6de847da95846469b8552b71d6faa01": {
          "model_module": "@jupyter-widgets/base",
          "model_name": "LayoutModel",
          "model_module_version": "1.2.0",
          "state": {
            "_model_module": "@jupyter-widgets/base",
            "_model_module_version": "1.2.0",
            "_model_name": "LayoutModel",
            "_view_count": null,
            "_view_module": "@jupyter-widgets/base",
            "_view_module_version": "1.2.0",
            "_view_name": "LayoutView",
            "align_content": null,
            "align_items": null,
            "align_self": null,
            "border": null,
            "bottom": null,
            "display": null,
            "flex": null,
            "flex_flow": null,
            "grid_area": null,
            "grid_auto_columns": null,
            "grid_auto_flow": null,
            "grid_auto_rows": null,
            "grid_column": null,
            "grid_gap": null,
            "grid_row": null,
            "grid_template_areas": null,
            "grid_template_columns": null,
            "grid_template_rows": null,
            "height": null,
            "justify_content": null,
            "justify_items": null,
            "left": null,
            "margin": null,
            "max_height": null,
            "max_width": null,
            "min_height": null,
            "min_width": null,
            "object_fit": null,
            "object_position": null,
            "order": null,
            "overflow": null,
            "overflow_x": null,
            "overflow_y": null,
            "padding": null,
            "right": null,
            "top": null,
            "visibility": null,
            "width": null
          }
        },
        "76f928ca9bc74dd9a21fffa5f8300b18": {
          "model_module": "@jupyter-widgets/controls",
          "model_name": "DescriptionStyleModel",
          "model_module_version": "1.5.0",
          "state": {
            "_model_module": "@jupyter-widgets/controls",
            "_model_module_version": "1.5.0",
            "_model_name": "DescriptionStyleModel",
            "_view_count": null,
            "_view_module": "@jupyter-widgets/base",
            "_view_module_version": "1.2.0",
            "_view_name": "StyleView",
            "description_width": ""
          }
        },
        "b2eccc3f999f49afbd0a282af5aa0db6": {
          "model_module": "@jupyter-widgets/base",
          "model_name": "LayoutModel",
          "model_module_version": "1.2.0",
          "state": {
            "_model_module": "@jupyter-widgets/base",
            "_model_module_version": "1.2.0",
            "_model_name": "LayoutModel",
            "_view_count": null,
            "_view_module": "@jupyter-widgets/base",
            "_view_module_version": "1.2.0",
            "_view_name": "LayoutView",
            "align_content": null,
            "align_items": null,
            "align_self": null,
            "border": null,
            "bottom": null,
            "display": null,
            "flex": null,
            "flex_flow": null,
            "grid_area": null,
            "grid_auto_columns": null,
            "grid_auto_flow": null,
            "grid_auto_rows": null,
            "grid_column": null,
            "grid_gap": null,
            "grid_row": null,
            "grid_template_areas": null,
            "grid_template_columns": null,
            "grid_template_rows": null,
            "height": null,
            "justify_content": null,
            "justify_items": null,
            "left": null,
            "margin": null,
            "max_height": null,
            "max_width": null,
            "min_height": null,
            "min_width": null,
            "object_fit": null,
            "object_position": null,
            "order": null,
            "overflow": null,
            "overflow_x": null,
            "overflow_y": null,
            "padding": null,
            "right": null,
            "top": null,
            "visibility": null,
            "width": null
          }
        },
        "66c55ded24bb494d80f08c4815e64140": {
          "model_module": "@jupyter-widgets/controls",
          "model_name": "ProgressStyleModel",
          "model_module_version": "1.5.0",
          "state": {
            "_model_module": "@jupyter-widgets/controls",
            "_model_module_version": "1.5.0",
            "_model_name": "ProgressStyleModel",
            "_view_count": null,
            "_view_module": "@jupyter-widgets/base",
            "_view_module_version": "1.2.0",
            "_view_name": "StyleView",
            "bar_color": null,
            "description_width": ""
          }
        },
        "6092901e540f4e7899fbcf5d7d8653f4": {
          "model_module": "@jupyter-widgets/base",
          "model_name": "LayoutModel",
          "model_module_version": "1.2.0",
          "state": {
            "_model_module": "@jupyter-widgets/base",
            "_model_module_version": "1.2.0",
            "_model_name": "LayoutModel",
            "_view_count": null,
            "_view_module": "@jupyter-widgets/base",
            "_view_module_version": "1.2.0",
            "_view_name": "LayoutView",
            "align_content": null,
            "align_items": null,
            "align_self": null,
            "border": null,
            "bottom": null,
            "display": null,
            "flex": null,
            "flex_flow": null,
            "grid_area": null,
            "grid_auto_columns": null,
            "grid_auto_flow": null,
            "grid_auto_rows": null,
            "grid_column": null,
            "grid_gap": null,
            "grid_row": null,
            "grid_template_areas": null,
            "grid_template_columns": null,
            "grid_template_rows": null,
            "height": null,
            "justify_content": null,
            "justify_items": null,
            "left": null,
            "margin": null,
            "max_height": null,
            "max_width": null,
            "min_height": null,
            "min_width": null,
            "object_fit": null,
            "object_position": null,
            "order": null,
            "overflow": null,
            "overflow_x": null,
            "overflow_y": null,
            "padding": null,
            "right": null,
            "top": null,
            "visibility": null,
            "width": null
          }
        },
        "2602a5c0f4df412893439074b2d24e32": {
          "model_module": "@jupyter-widgets/controls",
          "model_name": "DescriptionStyleModel",
          "model_module_version": "1.5.0",
          "state": {
            "_model_module": "@jupyter-widgets/controls",
            "_model_module_version": "1.5.0",
            "_model_name": "DescriptionStyleModel",
            "_view_count": null,
            "_view_module": "@jupyter-widgets/base",
            "_view_module_version": "1.2.0",
            "_view_name": "StyleView",
            "description_width": ""
          }
        },
        "d7ccb46c1c8c4e93967f3d658824ca89": {
          "model_module": "@jupyter-widgets/controls",
          "model_name": "HBoxModel",
          "model_module_version": "1.5.0",
          "state": {
            "_dom_classes": [],
            "_model_module": "@jupyter-widgets/controls",
            "_model_module_version": "1.5.0",
            "_model_name": "HBoxModel",
            "_view_count": null,
            "_view_module": "@jupyter-widgets/controls",
            "_view_module_version": "1.5.0",
            "_view_name": "HBoxView",
            "box_style": "",
            "children": [
              "IPY_MODEL_49e92a55a86b488baad9e2df9bdc4012",
              "IPY_MODEL_5378fcc4437c43ceabb5d338fad391b9",
              "IPY_MODEL_241d812fc8dc4052832030152eb8833d"
            ],
            "layout": "IPY_MODEL_a68bb1130dc142e7b6a0c83c93e5c07a"
          }
        },
        "49e92a55a86b488baad9e2df9bdc4012": {
          "model_module": "@jupyter-widgets/controls",
          "model_name": "HTMLModel",
          "model_module_version": "1.5.0",
          "state": {
            "_dom_classes": [],
            "_model_module": "@jupyter-widgets/controls",
            "_model_module_version": "1.5.0",
            "_model_name": "HTMLModel",
            "_view_count": null,
            "_view_module": "@jupyter-widgets/controls",
            "_view_module_version": "1.5.0",
            "_view_name": "HTMLView",
            "description": "",
            "description_tooltip": null,
            "layout": "IPY_MODEL_0b9d1f51ab824e6aa55dfc0aa43f42db",
            "placeholder": "​",
            "style": "IPY_MODEL_ec416a3a9ea34bc994ce1baa7ee8109d",
            "value": "Downloading readme: 100%"
          }
        },
        "5378fcc4437c43ceabb5d338fad391b9": {
          "model_module": "@jupyter-widgets/controls",
          "model_name": "FloatProgressModel",
          "model_module_version": "1.5.0",
          "state": {
            "_dom_classes": [],
            "_model_module": "@jupyter-widgets/controls",
            "_model_module_version": "1.5.0",
            "_model_name": "FloatProgressModel",
            "_view_count": null,
            "_view_module": "@jupyter-widgets/controls",
            "_view_module_version": "1.5.0",
            "_view_name": "ProgressView",
            "bar_style": "success",
            "description": "",
            "description_tooltip": null,
            "layout": "IPY_MODEL_0b5730dd929a4729a12475316c3e6603",
            "max": 46668,
            "min": 0,
            "orientation": "horizontal",
            "style": "IPY_MODEL_ee02bef83746456c8398f91097bc5e76",
            "value": 46668
          }
        },
        "241d812fc8dc4052832030152eb8833d": {
          "model_module": "@jupyter-widgets/controls",
          "model_name": "HTMLModel",
          "model_module_version": "1.5.0",
          "state": {
            "_dom_classes": [],
            "_model_module": "@jupyter-widgets/controls",
            "_model_module_version": "1.5.0",
            "_model_name": "HTMLModel",
            "_view_count": null,
            "_view_module": "@jupyter-widgets/controls",
            "_view_module_version": "1.5.0",
            "_view_name": "HTMLView",
            "description": "",
            "description_tooltip": null,
            "layout": "IPY_MODEL_96715099525a460f918d32a3c43a5795",
            "placeholder": "​",
            "style": "IPY_MODEL_ecfc22b55dcb438cb76bfde4962839f5",
            "value": " 46.7k/46.7k [00:00&lt;00:00, 1.39MB/s]"
          }
        },
        "a68bb1130dc142e7b6a0c83c93e5c07a": {
          "model_module": "@jupyter-widgets/base",
          "model_name": "LayoutModel",
          "model_module_version": "1.2.0",
          "state": {
            "_model_module": "@jupyter-widgets/base",
            "_model_module_version": "1.2.0",
            "_model_name": "LayoutModel",
            "_view_count": null,
            "_view_module": "@jupyter-widgets/base",
            "_view_module_version": "1.2.0",
            "_view_name": "LayoutView",
            "align_content": null,
            "align_items": null,
            "align_self": null,
            "border": null,
            "bottom": null,
            "display": null,
            "flex": null,
            "flex_flow": null,
            "grid_area": null,
            "grid_auto_columns": null,
            "grid_auto_flow": null,
            "grid_auto_rows": null,
            "grid_column": null,
            "grid_gap": null,
            "grid_row": null,
            "grid_template_areas": null,
            "grid_template_columns": null,
            "grid_template_rows": null,
            "height": null,
            "justify_content": null,
            "justify_items": null,
            "left": null,
            "margin": null,
            "max_height": null,
            "max_width": null,
            "min_height": null,
            "min_width": null,
            "object_fit": null,
            "object_position": null,
            "order": null,
            "overflow": null,
            "overflow_x": null,
            "overflow_y": null,
            "padding": null,
            "right": null,
            "top": null,
            "visibility": null,
            "width": null
          }
        },
        "0b9d1f51ab824e6aa55dfc0aa43f42db": {
          "model_module": "@jupyter-widgets/base",
          "model_name": "LayoutModel",
          "model_module_version": "1.2.0",
          "state": {
            "_model_module": "@jupyter-widgets/base",
            "_model_module_version": "1.2.0",
            "_model_name": "LayoutModel",
            "_view_count": null,
            "_view_module": "@jupyter-widgets/base",
            "_view_module_version": "1.2.0",
            "_view_name": "LayoutView",
            "align_content": null,
            "align_items": null,
            "align_self": null,
            "border": null,
            "bottom": null,
            "display": null,
            "flex": null,
            "flex_flow": null,
            "grid_area": null,
            "grid_auto_columns": null,
            "grid_auto_flow": null,
            "grid_auto_rows": null,
            "grid_column": null,
            "grid_gap": null,
            "grid_row": null,
            "grid_template_areas": null,
            "grid_template_columns": null,
            "grid_template_rows": null,
            "height": null,
            "justify_content": null,
            "justify_items": null,
            "left": null,
            "margin": null,
            "max_height": null,
            "max_width": null,
            "min_height": null,
            "min_width": null,
            "object_fit": null,
            "object_position": null,
            "order": null,
            "overflow": null,
            "overflow_x": null,
            "overflow_y": null,
            "padding": null,
            "right": null,
            "top": null,
            "visibility": null,
            "width": null
          }
        },
        "ec416a3a9ea34bc994ce1baa7ee8109d": {
          "model_module": "@jupyter-widgets/controls",
          "model_name": "DescriptionStyleModel",
          "model_module_version": "1.5.0",
          "state": {
            "_model_module": "@jupyter-widgets/controls",
            "_model_module_version": "1.5.0",
            "_model_name": "DescriptionStyleModel",
            "_view_count": null,
            "_view_module": "@jupyter-widgets/base",
            "_view_module_version": "1.2.0",
            "_view_name": "StyleView",
            "description_width": ""
          }
        },
        "0b5730dd929a4729a12475316c3e6603": {
          "model_module": "@jupyter-widgets/base",
          "model_name": "LayoutModel",
          "model_module_version": "1.2.0",
          "state": {
            "_model_module": "@jupyter-widgets/base",
            "_model_module_version": "1.2.0",
            "_model_name": "LayoutModel",
            "_view_count": null,
            "_view_module": "@jupyter-widgets/base",
            "_view_module_version": "1.2.0",
            "_view_name": "LayoutView",
            "align_content": null,
            "align_items": null,
            "align_self": null,
            "border": null,
            "bottom": null,
            "display": null,
            "flex": null,
            "flex_flow": null,
            "grid_area": null,
            "grid_auto_columns": null,
            "grid_auto_flow": null,
            "grid_auto_rows": null,
            "grid_column": null,
            "grid_gap": null,
            "grid_row": null,
            "grid_template_areas": null,
            "grid_template_columns": null,
            "grid_template_rows": null,
            "height": null,
            "justify_content": null,
            "justify_items": null,
            "left": null,
            "margin": null,
            "max_height": null,
            "max_width": null,
            "min_height": null,
            "min_width": null,
            "object_fit": null,
            "object_position": null,
            "order": null,
            "overflow": null,
            "overflow_x": null,
            "overflow_y": null,
            "padding": null,
            "right": null,
            "top": null,
            "visibility": null,
            "width": null
          }
        },
        "ee02bef83746456c8398f91097bc5e76": {
          "model_module": "@jupyter-widgets/controls",
          "model_name": "ProgressStyleModel",
          "model_module_version": "1.5.0",
          "state": {
            "_model_module": "@jupyter-widgets/controls",
            "_model_module_version": "1.5.0",
            "_model_name": "ProgressStyleModel",
            "_view_count": null,
            "_view_module": "@jupyter-widgets/base",
            "_view_module_version": "1.2.0",
            "_view_name": "StyleView",
            "bar_color": null,
            "description_width": ""
          }
        },
        "96715099525a460f918d32a3c43a5795": {
          "model_module": "@jupyter-widgets/base",
          "model_name": "LayoutModel",
          "model_module_version": "1.2.0",
          "state": {
            "_model_module": "@jupyter-widgets/base",
            "_model_module_version": "1.2.0",
            "_model_name": "LayoutModel",
            "_view_count": null,
            "_view_module": "@jupyter-widgets/base",
            "_view_module_version": "1.2.0",
            "_view_name": "LayoutView",
            "align_content": null,
            "align_items": null,
            "align_self": null,
            "border": null,
            "bottom": null,
            "display": null,
            "flex": null,
            "flex_flow": null,
            "grid_area": null,
            "grid_auto_columns": null,
            "grid_auto_flow": null,
            "grid_auto_rows": null,
            "grid_column": null,
            "grid_gap": null,
            "grid_row": null,
            "grid_template_areas": null,
            "grid_template_columns": null,
            "grid_template_rows": null,
            "height": null,
            "justify_content": null,
            "justify_items": null,
            "left": null,
            "margin": null,
            "max_height": null,
            "max_width": null,
            "min_height": null,
            "min_width": null,
            "object_fit": null,
            "object_position": null,
            "order": null,
            "overflow": null,
            "overflow_x": null,
            "overflow_y": null,
            "padding": null,
            "right": null,
            "top": null,
            "visibility": null,
            "width": null
          }
        },
        "ecfc22b55dcb438cb76bfde4962839f5": {
          "model_module": "@jupyter-widgets/controls",
          "model_name": "DescriptionStyleModel",
          "model_module_version": "1.5.0",
          "state": {
            "_model_module": "@jupyter-widgets/controls",
            "_model_module_version": "1.5.0",
            "_model_name": "DescriptionStyleModel",
            "_view_count": null,
            "_view_module": "@jupyter-widgets/base",
            "_view_module_version": "1.2.0",
            "_view_name": "StyleView",
            "description_width": ""
          }
        },
        "d771e16baafd4aec98462edc944d7cdc": {
          "model_module": "@jupyter-widgets/controls",
          "model_name": "HBoxModel",
          "model_module_version": "1.5.0",
          "state": {
            "_dom_classes": [],
            "_model_module": "@jupyter-widgets/controls",
            "_model_module_version": "1.5.0",
            "_model_name": "HBoxModel",
            "_view_count": null,
            "_view_module": "@jupyter-widgets/controls",
            "_view_module_version": "1.5.0",
            "_view_name": "HBoxView",
            "box_style": "",
            "children": [
              "IPY_MODEL_99d18b216a7b437e81346f365789f686",
              "IPY_MODEL_60d10060514840b9848159cf894ea045",
              "IPY_MODEL_f971bbd593a84e39bbd30617fee0fda0"
            ],
            "layout": "IPY_MODEL_fde654fc511d47e3ac9b52699a0a8040"
          }
        },
        "99d18b216a7b437e81346f365789f686": {
          "model_module": "@jupyter-widgets/controls",
          "model_name": "HTMLModel",
          "model_module_version": "1.5.0",
          "state": {
            "_dom_classes": [],
            "_model_module": "@jupyter-widgets/controls",
            "_model_module_version": "1.5.0",
            "_model_name": "HTMLModel",
            "_view_count": null,
            "_view_module": "@jupyter-widgets/controls",
            "_view_module_version": "1.5.0",
            "_view_name": "HTMLView",
            "description": "",
            "description_tooltip": null,
            "layout": "IPY_MODEL_18b020eb16da418f8046bb0f69ed32aa",
            "placeholder": "​",
            "style": "IPY_MODEL_c1eabd71f2be413e938bae8f2c0cf2e4",
            "value": "Downloading data: 100%"
          }
        },
        "60d10060514840b9848159cf894ea045": {
          "model_module": "@jupyter-widgets/controls",
          "model_name": "FloatProgressModel",
          "model_module_version": "1.5.0",
          "state": {
            "_dom_classes": [],
            "_model_module": "@jupyter-widgets/controls",
            "_model_module_version": "1.5.0",
            "_model_name": "FloatProgressModel",
            "_view_count": null,
            "_view_module": "@jupyter-widgets/controls",
            "_view_module_version": "1.5.0",
            "_view_name": "ProgressView",
            "bar_style": "success",
            "description": "",
            "description_tooltip": null,
            "layout": "IPY_MODEL_ae8e71f381b64541b1a39a3f4c1d0f09",
            "max": 37415496,
            "min": 0,
            "orientation": "horizontal",
            "style": "IPY_MODEL_a19c7a12ba0a4dfdb5a6e29dbc23ba95",
            "value": 37415496
          }
        },
        "f971bbd593a84e39bbd30617fee0fda0": {
          "model_module": "@jupyter-widgets/controls",
          "model_name": "HTMLModel",
          "model_module_version": "1.5.0",
          "state": {
            "_dom_classes": [],
            "_model_module": "@jupyter-widgets/controls",
            "_model_module_version": "1.5.0",
            "_model_name": "HTMLModel",
            "_view_count": null,
            "_view_module": "@jupyter-widgets/controls",
            "_view_module_version": "1.5.0",
            "_view_name": "HTMLView",
            "description": "",
            "description_tooltip": null,
            "layout": "IPY_MODEL_d2bac231fe4f4654a23bfb8f782a2a85",
            "placeholder": "​",
            "style": "IPY_MODEL_35cebbb771b74b0e9ed25be9aab35976",
            "value": " 37.4M/37.4M [00:04&lt;00:00, 11.2MB/s]"
          }
        },
        "fde654fc511d47e3ac9b52699a0a8040": {
          "model_module": "@jupyter-widgets/base",
          "model_name": "LayoutModel",
          "model_module_version": "1.2.0",
          "state": {
            "_model_module": "@jupyter-widgets/base",
            "_model_module_version": "1.2.0",
            "_model_name": "LayoutModel",
            "_view_count": null,
            "_view_module": "@jupyter-widgets/base",
            "_view_module_version": "1.2.0",
            "_view_name": "LayoutView",
            "align_content": null,
            "align_items": null,
            "align_self": null,
            "border": null,
            "bottom": null,
            "display": null,
            "flex": null,
            "flex_flow": null,
            "grid_area": null,
            "grid_auto_columns": null,
            "grid_auto_flow": null,
            "grid_auto_rows": null,
            "grid_column": null,
            "grid_gap": null,
            "grid_row": null,
            "grid_template_areas": null,
            "grid_template_columns": null,
            "grid_template_rows": null,
            "height": null,
            "justify_content": null,
            "justify_items": null,
            "left": null,
            "margin": null,
            "max_height": null,
            "max_width": null,
            "min_height": null,
            "min_width": null,
            "object_fit": null,
            "object_position": null,
            "order": null,
            "overflow": null,
            "overflow_x": null,
            "overflow_y": null,
            "padding": null,
            "right": null,
            "top": null,
            "visibility": null,
            "width": null
          }
        },
        "18b020eb16da418f8046bb0f69ed32aa": {
          "model_module": "@jupyter-widgets/base",
          "model_name": "LayoutModel",
          "model_module_version": "1.2.0",
          "state": {
            "_model_module": "@jupyter-widgets/base",
            "_model_module_version": "1.2.0",
            "_model_name": "LayoutModel",
            "_view_count": null,
            "_view_module": "@jupyter-widgets/base",
            "_view_module_version": "1.2.0",
            "_view_name": "LayoutView",
            "align_content": null,
            "align_items": null,
            "align_self": null,
            "border": null,
            "bottom": null,
            "display": null,
            "flex": null,
            "flex_flow": null,
            "grid_area": null,
            "grid_auto_columns": null,
            "grid_auto_flow": null,
            "grid_auto_rows": null,
            "grid_column": null,
            "grid_gap": null,
            "grid_row": null,
            "grid_template_areas": null,
            "grid_template_columns": null,
            "grid_template_rows": null,
            "height": null,
            "justify_content": null,
            "justify_items": null,
            "left": null,
            "margin": null,
            "max_height": null,
            "max_width": null,
            "min_height": null,
            "min_width": null,
            "object_fit": null,
            "object_position": null,
            "order": null,
            "overflow": null,
            "overflow_x": null,
            "overflow_y": null,
            "padding": null,
            "right": null,
            "top": null,
            "visibility": null,
            "width": null
          }
        },
        "c1eabd71f2be413e938bae8f2c0cf2e4": {
          "model_module": "@jupyter-widgets/controls",
          "model_name": "DescriptionStyleModel",
          "model_module_version": "1.5.0",
          "state": {
            "_model_module": "@jupyter-widgets/controls",
            "_model_module_version": "1.5.0",
            "_model_name": "DescriptionStyleModel",
            "_view_count": null,
            "_view_module": "@jupyter-widgets/base",
            "_view_module_version": "1.2.0",
            "_view_name": "StyleView",
            "description_width": ""
          }
        },
        "ae8e71f381b64541b1a39a3f4c1d0f09": {
          "model_module": "@jupyter-widgets/base",
          "model_name": "LayoutModel",
          "model_module_version": "1.2.0",
          "state": {
            "_model_module": "@jupyter-widgets/base",
            "_model_module_version": "1.2.0",
            "_model_name": "LayoutModel",
            "_view_count": null,
            "_view_module": "@jupyter-widgets/base",
            "_view_module_version": "1.2.0",
            "_view_name": "LayoutView",
            "align_content": null,
            "align_items": null,
            "align_self": null,
            "border": null,
            "bottom": null,
            "display": null,
            "flex": null,
            "flex_flow": null,
            "grid_area": null,
            "grid_auto_columns": null,
            "grid_auto_flow": null,
            "grid_auto_rows": null,
            "grid_column": null,
            "grid_gap": null,
            "grid_row": null,
            "grid_template_areas": null,
            "grid_template_columns": null,
            "grid_template_rows": null,
            "height": null,
            "justify_content": null,
            "justify_items": null,
            "left": null,
            "margin": null,
            "max_height": null,
            "max_width": null,
            "min_height": null,
            "min_width": null,
            "object_fit": null,
            "object_position": null,
            "order": null,
            "overflow": null,
            "overflow_x": null,
            "overflow_y": null,
            "padding": null,
            "right": null,
            "top": null,
            "visibility": null,
            "width": null
          }
        },
        "a19c7a12ba0a4dfdb5a6e29dbc23ba95": {
          "model_module": "@jupyter-widgets/controls",
          "model_name": "ProgressStyleModel",
          "model_module_version": "1.5.0",
          "state": {
            "_model_module": "@jupyter-widgets/controls",
            "_model_module_version": "1.5.0",
            "_model_name": "ProgressStyleModel",
            "_view_count": null,
            "_view_module": "@jupyter-widgets/base",
            "_view_module_version": "1.2.0",
            "_view_name": "StyleView",
            "bar_color": null,
            "description_width": ""
          }
        },
        "d2bac231fe4f4654a23bfb8f782a2a85": {
          "model_module": "@jupyter-widgets/base",
          "model_name": "LayoutModel",
          "model_module_version": "1.2.0",
          "state": {
            "_model_module": "@jupyter-widgets/base",
            "_model_module_version": "1.2.0",
            "_model_name": "LayoutModel",
            "_view_count": null,
            "_view_module": "@jupyter-widgets/base",
            "_view_module_version": "1.2.0",
            "_view_name": "LayoutView",
            "align_content": null,
            "align_items": null,
            "align_self": null,
            "border": null,
            "bottom": null,
            "display": null,
            "flex": null,
            "flex_flow": null,
            "grid_area": null,
            "grid_auto_columns": null,
            "grid_auto_flow": null,
            "grid_auto_rows": null,
            "grid_column": null,
            "grid_gap": null,
            "grid_row": null,
            "grid_template_areas": null,
            "grid_template_columns": null,
            "grid_template_rows": null,
            "height": null,
            "justify_content": null,
            "justify_items": null,
            "left": null,
            "margin": null,
            "max_height": null,
            "max_width": null,
            "min_height": null,
            "min_width": null,
            "object_fit": null,
            "object_position": null,
            "order": null,
            "overflow": null,
            "overflow_x": null,
            "overflow_y": null,
            "padding": null,
            "right": null,
            "top": null,
            "visibility": null,
            "width": null
          }
        },
        "35cebbb771b74b0e9ed25be9aab35976": {
          "model_module": "@jupyter-widgets/controls",
          "model_name": "DescriptionStyleModel",
          "model_module_version": "1.5.0",
          "state": {
            "_model_module": "@jupyter-widgets/controls",
            "_model_module_version": "1.5.0",
            "_model_name": "DescriptionStyleModel",
            "_view_count": null,
            "_view_module": "@jupyter-widgets/base",
            "_view_module_version": "1.2.0",
            "_view_name": "StyleView",
            "description_width": ""
          }
        },
        "064927a0d1cc41cebd6f7509c6f8d218": {
          "model_module": "@jupyter-widgets/controls",
          "model_name": "HBoxModel",
          "model_module_version": "1.5.0",
          "state": {
            "_dom_classes": [],
            "_model_module": "@jupyter-widgets/controls",
            "_model_module_version": "1.5.0",
            "_model_name": "HBoxModel",
            "_view_count": null,
            "_view_module": "@jupyter-widgets/controls",
            "_view_module_version": "1.5.0",
            "_view_name": "HBoxView",
            "box_style": "",
            "children": [
              "IPY_MODEL_6e4f8daf00dc41ea8b143755fe88b59b",
              "IPY_MODEL_2752c0bd17e847cfa7e8fa9f3aa81332",
              "IPY_MODEL_a7f0633798db4d56b89eb9e44ad2efc7"
            ],
            "layout": "IPY_MODEL_5d97b342a2634566a26487b22f428984"
          }
        },
        "6e4f8daf00dc41ea8b143755fe88b59b": {
          "model_module": "@jupyter-widgets/controls",
          "model_name": "HTMLModel",
          "model_module_version": "1.5.0",
          "state": {
            "_dom_classes": [],
            "_model_module": "@jupyter-widgets/controls",
            "_model_module_version": "1.5.0",
            "_model_name": "HTMLModel",
            "_view_count": null,
            "_view_module": "@jupyter-widgets/controls",
            "_view_module_version": "1.5.0",
            "_view_name": "HTMLView",
            "description": "",
            "description_tooltip": null,
            "layout": "IPY_MODEL_7d6be65d32cd4239a02b9526357281e2",
            "placeholder": "​",
            "style": "IPY_MODEL_3ce9bdb210364bb7ad5e3fcc325f4ccd",
            "value": "Generating test split: 100%"
          }
        },
        "2752c0bd17e847cfa7e8fa9f3aa81332": {
          "model_module": "@jupyter-widgets/controls",
          "model_name": "FloatProgressModel",
          "model_module_version": "1.5.0",
          "state": {
            "_dom_classes": [],
            "_model_module": "@jupyter-widgets/controls",
            "_model_module_version": "1.5.0",
            "_model_name": "FloatProgressModel",
            "_view_count": null,
            "_view_module": "@jupyter-widgets/controls",
            "_view_module_version": "1.5.0",
            "_view_name": "ProgressView",
            "bar_style": "success",
            "description": "",
            "description_tooltip": null,
            "layout": "IPY_MODEL_e67b5dcf014642038abd0ed3891b5023",
            "max": 2000,
            "min": 0,
            "orientation": "horizontal",
            "style": "IPY_MODEL_f6b4d84a23be410e81d613c43abd62cb",
            "value": 2000
          }
        },
        "a7f0633798db4d56b89eb9e44ad2efc7": {
          "model_module": "@jupyter-widgets/controls",
          "model_name": "HTMLModel",
          "model_module_version": "1.5.0",
          "state": {
            "_dom_classes": [],
            "_model_module": "@jupyter-widgets/controls",
            "_model_module_version": "1.5.0",
            "_model_name": "HTMLModel",
            "_view_count": null,
            "_view_module": "@jupyter-widgets/controls",
            "_view_module_version": "1.5.0",
            "_view_name": "HTMLView",
            "description": "",
            "description_tooltip": null,
            "layout": "IPY_MODEL_1c470bee18cf4b34bc7c9d70c9b643d8",
            "placeholder": "​",
            "style": "IPY_MODEL_ab74d12f6c294d00bcdc38b3ffd43d1a",
            "value": " 2000/2000 [00:00&lt;00:00, 3049.00 examples/s]"
          }
        },
        "5d97b342a2634566a26487b22f428984": {
          "model_module": "@jupyter-widgets/base",
          "model_name": "LayoutModel",
          "model_module_version": "1.2.0",
          "state": {
            "_model_module": "@jupyter-widgets/base",
            "_model_module_version": "1.2.0",
            "_model_name": "LayoutModel",
            "_view_count": null,
            "_view_module": "@jupyter-widgets/base",
            "_view_module_version": "1.2.0",
            "_view_name": "LayoutView",
            "align_content": null,
            "align_items": null,
            "align_self": null,
            "border": null,
            "bottom": null,
            "display": null,
            "flex": null,
            "flex_flow": null,
            "grid_area": null,
            "grid_auto_columns": null,
            "grid_auto_flow": null,
            "grid_auto_rows": null,
            "grid_column": null,
            "grid_gap": null,
            "grid_row": null,
            "grid_template_areas": null,
            "grid_template_columns": null,
            "grid_template_rows": null,
            "height": null,
            "justify_content": null,
            "justify_items": null,
            "left": null,
            "margin": null,
            "max_height": null,
            "max_width": null,
            "min_height": null,
            "min_width": null,
            "object_fit": null,
            "object_position": null,
            "order": null,
            "overflow": null,
            "overflow_x": null,
            "overflow_y": null,
            "padding": null,
            "right": null,
            "top": null,
            "visibility": null,
            "width": null
          }
        },
        "7d6be65d32cd4239a02b9526357281e2": {
          "model_module": "@jupyter-widgets/base",
          "model_name": "LayoutModel",
          "model_module_version": "1.2.0",
          "state": {
            "_model_module": "@jupyter-widgets/base",
            "_model_module_version": "1.2.0",
            "_model_name": "LayoutModel",
            "_view_count": null,
            "_view_module": "@jupyter-widgets/base",
            "_view_module_version": "1.2.0",
            "_view_name": "LayoutView",
            "align_content": null,
            "align_items": null,
            "align_self": null,
            "border": null,
            "bottom": null,
            "display": null,
            "flex": null,
            "flex_flow": null,
            "grid_area": null,
            "grid_auto_columns": null,
            "grid_auto_flow": null,
            "grid_auto_rows": null,
            "grid_column": null,
            "grid_gap": null,
            "grid_row": null,
            "grid_template_areas": null,
            "grid_template_columns": null,
            "grid_template_rows": null,
            "height": null,
            "justify_content": null,
            "justify_items": null,
            "left": null,
            "margin": null,
            "max_height": null,
            "max_width": null,
            "min_height": null,
            "min_width": null,
            "object_fit": null,
            "object_position": null,
            "order": null,
            "overflow": null,
            "overflow_x": null,
            "overflow_y": null,
            "padding": null,
            "right": null,
            "top": null,
            "visibility": null,
            "width": null
          }
        },
        "3ce9bdb210364bb7ad5e3fcc325f4ccd": {
          "model_module": "@jupyter-widgets/controls",
          "model_name": "DescriptionStyleModel",
          "model_module_version": "1.5.0",
          "state": {
            "_model_module": "@jupyter-widgets/controls",
            "_model_module_version": "1.5.0",
            "_model_name": "DescriptionStyleModel",
            "_view_count": null,
            "_view_module": "@jupyter-widgets/base",
            "_view_module_version": "1.2.0",
            "_view_name": "StyleView",
            "description_width": ""
          }
        },
        "e67b5dcf014642038abd0ed3891b5023": {
          "model_module": "@jupyter-widgets/base",
          "model_name": "LayoutModel",
          "model_module_version": "1.2.0",
          "state": {
            "_model_module": "@jupyter-widgets/base",
            "_model_module_version": "1.2.0",
            "_model_name": "LayoutModel",
            "_view_count": null,
            "_view_module": "@jupyter-widgets/base",
            "_view_module_version": "1.2.0",
            "_view_name": "LayoutView",
            "align_content": null,
            "align_items": null,
            "align_self": null,
            "border": null,
            "bottom": null,
            "display": null,
            "flex": null,
            "flex_flow": null,
            "grid_area": null,
            "grid_auto_columns": null,
            "grid_auto_flow": null,
            "grid_auto_rows": null,
            "grid_column": null,
            "grid_gap": null,
            "grid_row": null,
            "grid_template_areas": null,
            "grid_template_columns": null,
            "grid_template_rows": null,
            "height": null,
            "justify_content": null,
            "justify_items": null,
            "left": null,
            "margin": null,
            "max_height": null,
            "max_width": null,
            "min_height": null,
            "min_width": null,
            "object_fit": null,
            "object_position": null,
            "order": null,
            "overflow": null,
            "overflow_x": null,
            "overflow_y": null,
            "padding": null,
            "right": null,
            "top": null,
            "visibility": null,
            "width": null
          }
        },
        "f6b4d84a23be410e81d613c43abd62cb": {
          "model_module": "@jupyter-widgets/controls",
          "model_name": "ProgressStyleModel",
          "model_module_version": "1.5.0",
          "state": {
            "_model_module": "@jupyter-widgets/controls",
            "_model_module_version": "1.5.0",
            "_model_name": "ProgressStyleModel",
            "_view_count": null,
            "_view_module": "@jupyter-widgets/base",
            "_view_module_version": "1.2.0",
            "_view_name": "StyleView",
            "bar_color": null,
            "description_width": ""
          }
        },
        "1c470bee18cf4b34bc7c9d70c9b643d8": {
          "model_module": "@jupyter-widgets/base",
          "model_name": "LayoutModel",
          "model_module_version": "1.2.0",
          "state": {
            "_model_module": "@jupyter-widgets/base",
            "_model_module_version": "1.2.0",
            "_model_name": "LayoutModel",
            "_view_count": null,
            "_view_module": "@jupyter-widgets/base",
            "_view_module_version": "1.2.0",
            "_view_name": "LayoutView",
            "align_content": null,
            "align_items": null,
            "align_self": null,
            "border": null,
            "bottom": null,
            "display": null,
            "flex": null,
            "flex_flow": null,
            "grid_area": null,
            "grid_auto_columns": null,
            "grid_auto_flow": null,
            "grid_auto_rows": null,
            "grid_column": null,
            "grid_gap": null,
            "grid_row": null,
            "grid_template_areas": null,
            "grid_template_columns": null,
            "grid_template_rows": null,
            "height": null,
            "justify_content": null,
            "justify_items": null,
            "left": null,
            "margin": null,
            "max_height": null,
            "max_width": null,
            "min_height": null,
            "min_width": null,
            "object_fit": null,
            "object_position": null,
            "order": null,
            "overflow": null,
            "overflow_x": null,
            "overflow_y": null,
            "padding": null,
            "right": null,
            "top": null,
            "visibility": null,
            "width": null
          }
        },
        "ab74d12f6c294d00bcdc38b3ffd43d1a": {
          "model_module": "@jupyter-widgets/controls",
          "model_name": "DescriptionStyleModel",
          "model_module_version": "1.5.0",
          "state": {
            "_model_module": "@jupyter-widgets/controls",
            "_model_module_version": "1.5.0",
            "_model_name": "DescriptionStyleModel",
            "_view_count": null,
            "_view_module": "@jupyter-widgets/base",
            "_view_module_version": "1.2.0",
            "_view_name": "StyleView",
            "description_width": ""
          }
        },
        "815c7e4a04aa47b29f322eda9a9f9c49": {
          "model_module": "@jupyter-widgets/controls",
          "model_name": "HBoxModel",
          "model_module_version": "1.5.0",
          "state": {
            "_dom_classes": [],
            "_model_module": "@jupyter-widgets/controls",
            "_model_module_version": "1.5.0",
            "_model_name": "HBoxModel",
            "_view_count": null,
            "_view_module": "@jupyter-widgets/controls",
            "_view_module_version": "1.5.0",
            "_view_name": "HBoxView",
            "box_style": "",
            "children": [
              "IPY_MODEL_6d6e871ca3414324b178a56eee0411e9",
              "IPY_MODEL_083c956d4fe547de8fdd615b23febf1f",
              "IPY_MODEL_f1c242d02e5a4415b10b6ea16d84000d"
            ],
            "layout": "IPY_MODEL_0f03bb2806f346a59ae76846e608e0e6"
          }
        },
        "6d6e871ca3414324b178a56eee0411e9": {
          "model_module": "@jupyter-widgets/controls",
          "model_name": "HTMLModel",
          "model_module_version": "1.5.0",
          "state": {
            "_dom_classes": [],
            "_model_module": "@jupyter-widgets/controls",
            "_model_module_version": "1.5.0",
            "_model_name": "HTMLModel",
            "_view_count": null,
            "_view_module": "@jupyter-widgets/controls",
            "_view_module_version": "1.5.0",
            "_view_name": "HTMLView",
            "description": "",
            "description_tooltip": null,
            "layout": "IPY_MODEL_8f1c50d8f3844285be4f557cff698f68",
            "placeholder": "​",
            "style": "IPY_MODEL_e37fd61d17224a439b66f5508396628c",
            "value": "Generating train split: 100%"
          }
        },
        "083c956d4fe547de8fdd615b23febf1f": {
          "model_module": "@jupyter-widgets/controls",
          "model_name": "FloatProgressModel",
          "model_module_version": "1.5.0",
          "state": {
            "_dom_classes": [],
            "_model_module": "@jupyter-widgets/controls",
            "_model_module_version": "1.5.0",
            "_model_name": "FloatProgressModel",
            "_view_count": null,
            "_view_module": "@jupyter-widgets/controls",
            "_view_module_version": "1.5.0",
            "_view_name": "ProgressView",
            "bar_style": "success",
            "description": "",
            "description_tooltip": null,
            "layout": "IPY_MODEL_4bfdd81ae8be47ff8cb2e60a3a92602a",
            "max": 1000000,
            "min": 0,
            "orientation": "horizontal",
            "style": "IPY_MODEL_40296219b7e041839721d7e32cd76faf",
            "value": 1000000
          }
        },
        "f1c242d02e5a4415b10b6ea16d84000d": {
          "model_module": "@jupyter-widgets/controls",
          "model_name": "HTMLModel",
          "model_module_version": "1.5.0",
          "state": {
            "_dom_classes": [],
            "_model_module": "@jupyter-widgets/controls",
            "_model_module_version": "1.5.0",
            "_model_name": "HTMLModel",
            "_view_count": null,
            "_view_module": "@jupyter-widgets/controls",
            "_view_module_version": "1.5.0",
            "_view_name": "HTMLView",
            "description": "",
            "description_tooltip": null,
            "layout": "IPY_MODEL_1a4af6b12d84496caae062e7fe756eec",
            "placeholder": "​",
            "style": "IPY_MODEL_2817eec54f0d400daac1c117f91e486b",
            "value": " 1000000/1000000 [00:43&lt;00:00, 24527.66 examples/s]"
          }
        },
        "0f03bb2806f346a59ae76846e608e0e6": {
          "model_module": "@jupyter-widgets/base",
          "model_name": "LayoutModel",
          "model_module_version": "1.2.0",
          "state": {
            "_model_module": "@jupyter-widgets/base",
            "_model_module_version": "1.2.0",
            "_model_name": "LayoutModel",
            "_view_count": null,
            "_view_module": "@jupyter-widgets/base",
            "_view_module_version": "1.2.0",
            "_view_name": "LayoutView",
            "align_content": null,
            "align_items": null,
            "align_self": null,
            "border": null,
            "bottom": null,
            "display": null,
            "flex": null,
            "flex_flow": null,
            "grid_area": null,
            "grid_auto_columns": null,
            "grid_auto_flow": null,
            "grid_auto_rows": null,
            "grid_column": null,
            "grid_gap": null,
            "grid_row": null,
            "grid_template_areas": null,
            "grid_template_columns": null,
            "grid_template_rows": null,
            "height": null,
            "justify_content": null,
            "justify_items": null,
            "left": null,
            "margin": null,
            "max_height": null,
            "max_width": null,
            "min_height": null,
            "min_width": null,
            "object_fit": null,
            "object_position": null,
            "order": null,
            "overflow": null,
            "overflow_x": null,
            "overflow_y": null,
            "padding": null,
            "right": null,
            "top": null,
            "visibility": null,
            "width": null
          }
        },
        "8f1c50d8f3844285be4f557cff698f68": {
          "model_module": "@jupyter-widgets/base",
          "model_name": "LayoutModel",
          "model_module_version": "1.2.0",
          "state": {
            "_model_module": "@jupyter-widgets/base",
            "_model_module_version": "1.2.0",
            "_model_name": "LayoutModel",
            "_view_count": null,
            "_view_module": "@jupyter-widgets/base",
            "_view_module_version": "1.2.0",
            "_view_name": "LayoutView",
            "align_content": null,
            "align_items": null,
            "align_self": null,
            "border": null,
            "bottom": null,
            "display": null,
            "flex": null,
            "flex_flow": null,
            "grid_area": null,
            "grid_auto_columns": null,
            "grid_auto_flow": null,
            "grid_auto_rows": null,
            "grid_column": null,
            "grid_gap": null,
            "grid_row": null,
            "grid_template_areas": null,
            "grid_template_columns": null,
            "grid_template_rows": null,
            "height": null,
            "justify_content": null,
            "justify_items": null,
            "left": null,
            "margin": null,
            "max_height": null,
            "max_width": null,
            "min_height": null,
            "min_width": null,
            "object_fit": null,
            "object_position": null,
            "order": null,
            "overflow": null,
            "overflow_x": null,
            "overflow_y": null,
            "padding": null,
            "right": null,
            "top": null,
            "visibility": null,
            "width": null
          }
        },
        "e37fd61d17224a439b66f5508396628c": {
          "model_module": "@jupyter-widgets/controls",
          "model_name": "DescriptionStyleModel",
          "model_module_version": "1.5.0",
          "state": {
            "_model_module": "@jupyter-widgets/controls",
            "_model_module_version": "1.5.0",
            "_model_name": "DescriptionStyleModel",
            "_view_count": null,
            "_view_module": "@jupyter-widgets/base",
            "_view_module_version": "1.2.0",
            "_view_name": "StyleView",
            "description_width": ""
          }
        },
        "4bfdd81ae8be47ff8cb2e60a3a92602a": {
          "model_module": "@jupyter-widgets/base",
          "model_name": "LayoutModel",
          "model_module_version": "1.2.0",
          "state": {
            "_model_module": "@jupyter-widgets/base",
            "_model_module_version": "1.2.0",
            "_model_name": "LayoutModel",
            "_view_count": null,
            "_view_module": "@jupyter-widgets/base",
            "_view_module_version": "1.2.0",
            "_view_name": "LayoutView",
            "align_content": null,
            "align_items": null,
            "align_self": null,
            "border": null,
            "bottom": null,
            "display": null,
            "flex": null,
            "flex_flow": null,
            "grid_area": null,
            "grid_auto_columns": null,
            "grid_auto_flow": null,
            "grid_auto_rows": null,
            "grid_column": null,
            "grid_gap": null,
            "grid_row": null,
            "grid_template_areas": null,
            "grid_template_columns": null,
            "grid_template_rows": null,
            "height": null,
            "justify_content": null,
            "justify_items": null,
            "left": null,
            "margin": null,
            "max_height": null,
            "max_width": null,
            "min_height": null,
            "min_width": null,
            "object_fit": null,
            "object_position": null,
            "order": null,
            "overflow": null,
            "overflow_x": null,
            "overflow_y": null,
            "padding": null,
            "right": null,
            "top": null,
            "visibility": null,
            "width": null
          }
        },
        "40296219b7e041839721d7e32cd76faf": {
          "model_module": "@jupyter-widgets/controls",
          "model_name": "ProgressStyleModel",
          "model_module_version": "1.5.0",
          "state": {
            "_model_module": "@jupyter-widgets/controls",
            "_model_module_version": "1.5.0",
            "_model_name": "ProgressStyleModel",
            "_view_count": null,
            "_view_module": "@jupyter-widgets/base",
            "_view_module_version": "1.2.0",
            "_view_name": "StyleView",
            "bar_color": null,
            "description_width": ""
          }
        },
        "1a4af6b12d84496caae062e7fe756eec": {
          "model_module": "@jupyter-widgets/base",
          "model_name": "LayoutModel",
          "model_module_version": "1.2.0",
          "state": {
            "_model_module": "@jupyter-widgets/base",
            "_model_module_version": "1.2.0",
            "_model_name": "LayoutModel",
            "_view_count": null,
            "_view_module": "@jupyter-widgets/base",
            "_view_module_version": "1.2.0",
            "_view_name": "LayoutView",
            "align_content": null,
            "align_items": null,
            "align_self": null,
            "border": null,
            "bottom": null,
            "display": null,
            "flex": null,
            "flex_flow": null,
            "grid_area": null,
            "grid_auto_columns": null,
            "grid_auto_flow": null,
            "grid_auto_rows": null,
            "grid_column": null,
            "grid_gap": null,
            "grid_row": null,
            "grid_template_areas": null,
            "grid_template_columns": null,
            "grid_template_rows": null,
            "height": null,
            "justify_content": null,
            "justify_items": null,
            "left": null,
            "margin": null,
            "max_height": null,
            "max_width": null,
            "min_height": null,
            "min_width": null,
            "object_fit": null,
            "object_position": null,
            "order": null,
            "overflow": null,
            "overflow_x": null,
            "overflow_y": null,
            "padding": null,
            "right": null,
            "top": null,
            "visibility": null,
            "width": null
          }
        },
        "2817eec54f0d400daac1c117f91e486b": {
          "model_module": "@jupyter-widgets/controls",
          "model_name": "DescriptionStyleModel",
          "model_module_version": "1.5.0",
          "state": {
            "_model_module": "@jupyter-widgets/controls",
            "_model_module_version": "1.5.0",
            "_model_name": "DescriptionStyleModel",
            "_view_count": null,
            "_view_module": "@jupyter-widgets/base",
            "_view_module_version": "1.2.0",
            "_view_name": "StyleView",
            "description_width": ""
          }
        },
        "f52ae2fc428e4418b6a0f4c3e28d8805": {
          "model_module": "@jupyter-widgets/controls",
          "model_name": "HBoxModel",
          "model_module_version": "1.5.0",
          "state": {
            "_dom_classes": [],
            "_model_module": "@jupyter-widgets/controls",
            "_model_module_version": "1.5.0",
            "_model_name": "HBoxModel",
            "_view_count": null,
            "_view_module": "@jupyter-widgets/controls",
            "_view_module_version": "1.5.0",
            "_view_name": "HBoxView",
            "box_style": "",
            "children": [
              "IPY_MODEL_d16c0360c503486ca160301c9471c114",
              "IPY_MODEL_91ed96b9e8384f97b7e41fbb6735c612",
              "IPY_MODEL_15a51586623b4ca0a703087c16e170a1"
            ],
            "layout": "IPY_MODEL_157b2ca8a25641c4a06ecc2f0c836786"
          }
        },
        "d16c0360c503486ca160301c9471c114": {
          "model_module": "@jupyter-widgets/controls",
          "model_name": "HTMLModel",
          "model_module_version": "1.5.0",
          "state": {
            "_dom_classes": [],
            "_model_module": "@jupyter-widgets/controls",
            "_model_module_version": "1.5.0",
            "_model_name": "HTMLModel",
            "_view_count": null,
            "_view_module": "@jupyter-widgets/controls",
            "_view_module_version": "1.5.0",
            "_view_name": "HTMLView",
            "description": "",
            "description_tooltip": null,
            "layout": "IPY_MODEL_66d5dffce39949e5bae9f5da069a161a",
            "placeholder": "​",
            "style": "IPY_MODEL_4a2a5726473f4c23996510f84f839770",
            "value": "Generating validation split: 100%"
          }
        },
        "91ed96b9e8384f97b7e41fbb6735c612": {
          "model_module": "@jupyter-widgets/controls",
          "model_name": "FloatProgressModel",
          "model_module_version": "1.5.0",
          "state": {
            "_dom_classes": [],
            "_model_module": "@jupyter-widgets/controls",
            "_model_module_version": "1.5.0",
            "_model_name": "FloatProgressModel",
            "_view_count": null,
            "_view_module": "@jupyter-widgets/controls",
            "_view_module_version": "1.5.0",
            "_view_name": "ProgressView",
            "bar_style": "success",
            "description": "",
            "description_tooltip": null,
            "layout": "IPY_MODEL_5d0826e28c1d4a65ac6a4afe7fa78ab9",
            "max": 2000,
            "min": 0,
            "orientation": "horizontal",
            "style": "IPY_MODEL_a6edcbabce8d448ca004cabd4befde73",
            "value": 2000
          }
        },
        "15a51586623b4ca0a703087c16e170a1": {
          "model_module": "@jupyter-widgets/controls",
          "model_name": "HTMLModel",
          "model_module_version": "1.5.0",
          "state": {
            "_dom_classes": [],
            "_model_module": "@jupyter-widgets/controls",
            "_model_module_version": "1.5.0",
            "_model_name": "HTMLModel",
            "_view_count": null,
            "_view_module": "@jupyter-widgets/controls",
            "_view_module_version": "1.5.0",
            "_view_name": "HTMLView",
            "description": "",
            "description_tooltip": null,
            "layout": "IPY_MODEL_95a27ab3071c4ea3b741973923c580dc",
            "placeholder": "​",
            "style": "IPY_MODEL_48421c063681442498f66d0c7e394ca7",
            "value": " 2000/2000 [00:00&lt;00:00, 21954.53 examples/s]"
          }
        },
        "157b2ca8a25641c4a06ecc2f0c836786": {
          "model_module": "@jupyter-widgets/base",
          "model_name": "LayoutModel",
          "model_module_version": "1.2.0",
          "state": {
            "_model_module": "@jupyter-widgets/base",
            "_model_module_version": "1.2.0",
            "_model_name": "LayoutModel",
            "_view_count": null,
            "_view_module": "@jupyter-widgets/base",
            "_view_module_version": "1.2.0",
            "_view_name": "LayoutView",
            "align_content": null,
            "align_items": null,
            "align_self": null,
            "border": null,
            "bottom": null,
            "display": null,
            "flex": null,
            "flex_flow": null,
            "grid_area": null,
            "grid_auto_columns": null,
            "grid_auto_flow": null,
            "grid_auto_rows": null,
            "grid_column": null,
            "grid_gap": null,
            "grid_row": null,
            "grid_template_areas": null,
            "grid_template_columns": null,
            "grid_template_rows": null,
            "height": null,
            "justify_content": null,
            "justify_items": null,
            "left": null,
            "margin": null,
            "max_height": null,
            "max_width": null,
            "min_height": null,
            "min_width": null,
            "object_fit": null,
            "object_position": null,
            "order": null,
            "overflow": null,
            "overflow_x": null,
            "overflow_y": null,
            "padding": null,
            "right": null,
            "top": null,
            "visibility": null,
            "width": null
          }
        },
        "66d5dffce39949e5bae9f5da069a161a": {
          "model_module": "@jupyter-widgets/base",
          "model_name": "LayoutModel",
          "model_module_version": "1.2.0",
          "state": {
            "_model_module": "@jupyter-widgets/base",
            "_model_module_version": "1.2.0",
            "_model_name": "LayoutModel",
            "_view_count": null,
            "_view_module": "@jupyter-widgets/base",
            "_view_module_version": "1.2.0",
            "_view_name": "LayoutView",
            "align_content": null,
            "align_items": null,
            "align_self": null,
            "border": null,
            "bottom": null,
            "display": null,
            "flex": null,
            "flex_flow": null,
            "grid_area": null,
            "grid_auto_columns": null,
            "grid_auto_flow": null,
            "grid_auto_rows": null,
            "grid_column": null,
            "grid_gap": null,
            "grid_row": null,
            "grid_template_areas": null,
            "grid_template_columns": null,
            "grid_template_rows": null,
            "height": null,
            "justify_content": null,
            "justify_items": null,
            "left": null,
            "margin": null,
            "max_height": null,
            "max_width": null,
            "min_height": null,
            "min_width": null,
            "object_fit": null,
            "object_position": null,
            "order": null,
            "overflow": null,
            "overflow_x": null,
            "overflow_y": null,
            "padding": null,
            "right": null,
            "top": null,
            "visibility": null,
            "width": null
          }
        },
        "4a2a5726473f4c23996510f84f839770": {
          "model_module": "@jupyter-widgets/controls",
          "model_name": "DescriptionStyleModel",
          "model_module_version": "1.5.0",
          "state": {
            "_model_module": "@jupyter-widgets/controls",
            "_model_module_version": "1.5.0",
            "_model_name": "DescriptionStyleModel",
            "_view_count": null,
            "_view_module": "@jupyter-widgets/base",
            "_view_module_version": "1.2.0",
            "_view_name": "StyleView",
            "description_width": ""
          }
        },
        "5d0826e28c1d4a65ac6a4afe7fa78ab9": {
          "model_module": "@jupyter-widgets/base",
          "model_name": "LayoutModel",
          "model_module_version": "1.2.0",
          "state": {
            "_model_module": "@jupyter-widgets/base",
            "_model_module_version": "1.2.0",
            "_model_name": "LayoutModel",
            "_view_count": null,
            "_view_module": "@jupyter-widgets/base",
            "_view_module_version": "1.2.0",
            "_view_name": "LayoutView",
            "align_content": null,
            "align_items": null,
            "align_self": null,
            "border": null,
            "bottom": null,
            "display": null,
            "flex": null,
            "flex_flow": null,
            "grid_area": null,
            "grid_auto_columns": null,
            "grid_auto_flow": null,
            "grid_auto_rows": null,
            "grid_column": null,
            "grid_gap": null,
            "grid_row": null,
            "grid_template_areas": null,
            "grid_template_columns": null,
            "grid_template_rows": null,
            "height": null,
            "justify_content": null,
            "justify_items": null,
            "left": null,
            "margin": null,
            "max_height": null,
            "max_width": null,
            "min_height": null,
            "min_width": null,
            "object_fit": null,
            "object_position": null,
            "order": null,
            "overflow": null,
            "overflow_x": null,
            "overflow_y": null,
            "padding": null,
            "right": null,
            "top": null,
            "visibility": null,
            "width": null
          }
        },
        "a6edcbabce8d448ca004cabd4befde73": {
          "model_module": "@jupyter-widgets/controls",
          "model_name": "ProgressStyleModel",
          "model_module_version": "1.5.0",
          "state": {
            "_model_module": "@jupyter-widgets/controls",
            "_model_module_version": "1.5.0",
            "_model_name": "ProgressStyleModel",
            "_view_count": null,
            "_view_module": "@jupyter-widgets/base",
            "_view_module_version": "1.2.0",
            "_view_name": "StyleView",
            "bar_color": null,
            "description_width": ""
          }
        },
        "95a27ab3071c4ea3b741973923c580dc": {
          "model_module": "@jupyter-widgets/base",
          "model_name": "LayoutModel",
          "model_module_version": "1.2.0",
          "state": {
            "_model_module": "@jupyter-widgets/base",
            "_model_module_version": "1.2.0",
            "_model_name": "LayoutModel",
            "_view_count": null,
            "_view_module": "@jupyter-widgets/base",
            "_view_module_version": "1.2.0",
            "_view_name": "LayoutView",
            "align_content": null,
            "align_items": null,
            "align_self": null,
            "border": null,
            "bottom": null,
            "display": null,
            "flex": null,
            "flex_flow": null,
            "grid_area": null,
            "grid_auto_columns": null,
            "grid_auto_flow": null,
            "grid_auto_rows": null,
            "grid_column": null,
            "grid_gap": null,
            "grid_row": null,
            "grid_template_areas": null,
            "grid_template_columns": null,
            "grid_template_rows": null,
            "height": null,
            "justify_content": null,
            "justify_items": null,
            "left": null,
            "margin": null,
            "max_height": null,
            "max_width": null,
            "min_height": null,
            "min_width": null,
            "object_fit": null,
            "object_position": null,
            "order": null,
            "overflow": null,
            "overflow_x": null,
            "overflow_y": null,
            "padding": null,
            "right": null,
            "top": null,
            "visibility": null,
            "width": null
          }
        },
        "48421c063681442498f66d0c7e394ca7": {
          "model_module": "@jupyter-widgets/controls",
          "model_name": "DescriptionStyleModel",
          "model_module_version": "1.5.0",
          "state": {
            "_model_module": "@jupyter-widgets/controls",
            "_model_module_version": "1.5.0",
            "_model_name": "DescriptionStyleModel",
            "_view_count": null,
            "_view_module": "@jupyter-widgets/base",
            "_view_module_version": "1.2.0",
            "_view_name": "StyleView",
            "description_width": ""
          }
        }
      }
    }
  },
  "cells": [
    {
      "cell_type": "markdown",
      "source": [
        "# Transformers. Перекладач"
      ],
      "metadata": {
        "id": "s9rh2-fFZMuC"
      }
    },
    {
      "cell_type": "markdown",
      "source": [
        "---\n",
        "<a name=\"0\" a/>\n",
        "\n",
        "### Зміст:\n",
        "\n",
        "* [Варіант 1. Pipeline](#1)\n",
        "* [Варіант 2. Використання готової моделі з можливістю налаштування](#2)\n",
        "* [Варіант 3. LSTM](#3)"
      ],
      "metadata": {
        "id": "kGdVCrYCrIaw"
      }
    },
    {
      "cell_type": "markdown",
      "source": [
        "Інсталяція бібліотек"
      ],
      "metadata": {
        "id": "RqpgZUTVop-5"
      }
    },
    {
      "cell_type": "code",
      "source": [
        "!pip install transformers datasets evaluate sacrebleu tensorflow"
      ],
      "metadata": {
        "id": "Y5y6Wsywor-3"
      },
      "execution_count": null,
      "outputs": []
    },
    {
      "cell_type": "markdown",
      "source": [
        "Імпорт бібліотек"
      ],
      "metadata": {
        "id": "UvgzX9ScZp5n"
      }
    },
    {
      "cell_type": "code",
      "source": [
        "from transformers import pipeline\n",
        "from transformers import AutoTokenizer, TFAutoModelForSeq2SeqLM\n",
        "from datasets import load_dataset\n",
        "\n",
        "import string\n",
        "import re\n",
        "from numpy import array, argmax, random, take, linspace\n",
        "import pandas as pd\n",
        "\n",
        "from tensorflow.keras.models import Sequential\n",
        "from tensorflow.keras.layers import Dense, LSTM, Embedding, RepeatVector\n",
        "from tensorflow.keras.preprocessing.text import Tokenizer\n",
        "from tensorflow.keras.callbacks import ModelCheckpoint\n",
        "from tensorflow.keras.preprocessing.sequence import pad_sequences\n",
        "from tensorflow.keras.models import load_model\n",
        "from tensorflow.keras import optimizers\n",
        "\n",
        "import matplotlib.pyplot as plt"
      ],
      "metadata": {
        "id": "bs4XXtW4ZsYy"
      },
      "execution_count": 15,
      "outputs": []
    },
    {
      "cell_type": "markdown",
      "source": [
        "Налаштування"
      ],
      "metadata": {
        "id": "V4BALxj3l6I7"
      }
    },
    {
      "cell_type": "code",
      "source": [
        "%matplotlib inline\n",
        "pd.set_option('display.max_colwidth', 20)"
      ],
      "metadata": {
        "id": "Vo0rCFOYl5jt"
      },
      "execution_count": 16,
      "outputs": []
    },
    {
      "cell_type": "markdown",
      "source": [
        "---\n",
        "<a name=\"1\" a/>\n",
        "\n",
        "### Варіант 1. Pipeline\n",
        "\n",
        "[зміст](#0)"
      ],
      "metadata": {
        "id": "IihtpOqPqNS5"
      }
    },
    {
      "cell_type": "markdown",
      "source": [
        "Це найпростіший варіант для використання. Імпортуємо з бібліотеки transformer - pipeline, створимо pipeline `translation` на основі моделі `t5-base`"
      ],
      "metadata": {
        "id": "IyC_YUs9qYda"
      }
    },
    {
      "cell_type": "code",
      "source": [
        "translator = pipeline(\"translation\", model=\"t5-base\")"
      ],
      "metadata": {
        "id": "WpS3UhfcpsYl",
        "colab": {
          "base_uri": "https://localhost:8080/",
          "height": 336,
          "referenced_widgets": [
            "97aafcea28974f2b987b8527e41903f0",
            "77851a3ebdd0498baa378ef8a0cd9412",
            "c854e71accca4af787ada7d1ab3df997",
            "fb4b1037a19b40ca89566ae18c55cf53",
            "74452591fc7d4f1a9366af218ceb28ac",
            "99bc9436aa7f447fa35c456401d63ba3",
            "5192bae72d6b4e4ea821e8b3f7611239",
            "5b5c51ad5d7b4d3599c1a2b0e7db304b",
            "3e13769d039740d99597c5a09ab9d2ad",
            "6045edd3e93a4f279e6b59db10251910",
            "6ed1e4369c7c467e9de6e7c1337f7b8b",
            "2cf9732cb0dc4322b605c090bd368e0f",
            "f51bf9e5017847ac964a9e7d878c92f8",
            "46c129a941984a85859fec4faa9935c0",
            "bcf82ac90b8645319cb1310c268c0d54",
            "80a72cb7f169491ab782ae0beaf3c6ec",
            "04e18c19a6ab4095bec3091a3975dae4",
            "fc2a007831b54dc2bb5a7acd3ae755dd",
            "dd30ecbaa5524cca9d786395c704ae13",
            "7d56a087b8724897a5b101b06ea5fa43",
            "a605d3c508ba42b7b2b04f49f04c9b42",
            "32205f815f7741c899eb730286fcffc3",
            "ca66b78bb11040fd824061d5a8da9264",
            "f1673dc089874038b43c30018fd4d6fc",
            "e1edbfab7a9f40ca9c782c37e3868cc7",
            "83459699751b41b4a380c6af387c5558",
            "af391daa67854626a74a0941a1e47a18",
            "ab59cae52ddc4b62abbe957b528b6e02",
            "6223bf5aad5143548e9eac71fda994f1",
            "e5c00dc9d9564f1396205a1c3ed8d397",
            "b6d615544521475888295548afa5b29f",
            "a384df05cc004dc4b5a6a86434378f84",
            "fad09fa12f744ed18c7a5aefb99e7da1",
            "0e5d95782d124008aa7d2db3a565d30d",
            "01a29e04fea14fcaa11658d1f79263eb",
            "2201b93b72b0401fb2d968551d32db39",
            "7530d60accd54ebebd303add47270b92",
            "6f05271c627c41b8adf855edecc7acf7",
            "12da534aa8694bc6a62a0f67209398ce",
            "641d15ae5fd04f46a2fc15350f977640",
            "8e848bd839da4e56a7a33f7f09547ea5",
            "d734363db1af4a3e825f2eb7d3eab559",
            "8dda8da24621412f952ee7ca03c001ff",
            "1e9169c6fe4f496691b6350f5a3c0890",
            "3f762b4810484f2e843428593e98070e",
            "da2bab48b5234df0b648b61942b43617",
            "5a8bdc99cc754195a63fe96b55321025",
            "999f8bf3ff2943a3b3e87ac12c197648",
            "59abfe1ecc5647c0ae9456679caa0f68",
            "8e306a43091049cc8c5ffc6a8ae1bdcf",
            "13a9754569f64b779cca4aa484250359",
            "0098f5dde429414dac774c1280455a8d",
            "f41d9e2df6694ce29fab93f1509b75c9",
            "9439cb3288b249d4bb7b3fdcead3d2dc",
            "148afd7e19a1413ba707bcc018977caa"
          ]
        },
        "outputId": "046d6181-44d6-49c7-98c4-177deff101fd"
      },
      "execution_count": 3,
      "outputs": [
        {
          "output_type": "display_data",
          "data": {
            "text/plain": [
              "Downloading (…)lve/main/config.json:   0%|          | 0.00/1.21k [00:00<?, ?B/s]"
            ],
            "application/vnd.jupyter.widget-view+json": {
              "version_major": 2,
              "version_minor": 0,
              "model_id": "97aafcea28974f2b987b8527e41903f0"
            }
          },
          "metadata": {}
        },
        {
          "output_type": "display_data",
          "data": {
            "text/plain": [
              "Downloading model.safetensors:   0%|          | 0.00/892M [00:00<?, ?B/s]"
            ],
            "application/vnd.jupyter.widget-view+json": {
              "version_major": 2,
              "version_minor": 0,
              "model_id": "2cf9732cb0dc4322b605c090bd368e0f"
            }
          },
          "metadata": {}
        },
        {
          "output_type": "display_data",
          "data": {
            "text/plain": [
              "Downloading (…)neration_config.json:   0%|          | 0.00/147 [00:00<?, ?B/s]"
            ],
            "application/vnd.jupyter.widget-view+json": {
              "version_major": 2,
              "version_minor": 0,
              "model_id": "ca66b78bb11040fd824061d5a8da9264"
            }
          },
          "metadata": {}
        },
        {
          "output_type": "display_data",
          "data": {
            "text/plain": [
              "Downloading (…)ve/main/spiece.model:   0%|          | 0.00/792k [00:00<?, ?B/s]"
            ],
            "application/vnd.jupyter.widget-view+json": {
              "version_major": 2,
              "version_minor": 0,
              "model_id": "0e5d95782d124008aa7d2db3a565d30d"
            }
          },
          "metadata": {}
        },
        {
          "output_type": "display_data",
          "data": {
            "text/plain": [
              "Downloading (…)/main/tokenizer.json:   0%|          | 0.00/1.39M [00:00<?, ?B/s]"
            ],
            "application/vnd.jupyter.widget-view+json": {
              "version_major": 2,
              "version_minor": 0,
              "model_id": "3f762b4810484f2e843428593e98070e"
            }
          },
          "metadata": {}
        },
        {
          "output_type": "stream",
          "name": "stderr",
          "text": [
            "/usr/local/lib/python3.10/dist-packages/transformers/models/t5/tokenization_t5_fast.py:155: FutureWarning: This tokenizer was incorrectly instantiated with a model max length of 512 which will be corrected in Transformers v5.\n",
            "For now, this behavior is kept to avoid breaking backwards compatibility when padding/encoding with `truncation is True`.\n",
            "- Be aware that you SHOULD NOT rely on t5-base automatically truncating your input to 512 when padding/encoding.\n",
            "- If you want to encode/pad to sequences longer than 512 you can either instantiate this tokenizer with `model_max_length` or pass `max_length` when encoding/padding.\n",
            "- To avoid this warning, please instantiate this tokenizer with `model_max_length` set to your preferred value.\n",
            "  warnings.warn(\n",
            "/usr/local/lib/python3.10/dist-packages/transformers/pipelines/__init__.py:967: UserWarning: \"translation\" task was used, instead of \"translation_XX_to_YY\", defaulting to \"translation_en_to_de\"\n",
            "  warnings.warn(\n"
          ]
        }
      ]
    },
    {
      "cell_type": "markdown",
      "source": [
        "Створимо невеликий словничок з префіксними фразами тих мов, що є в моделі t5-base."
      ],
      "metadata": {
        "id": "yWr2SRBBtf7W"
      }
    },
    {
      "cell_type": "code",
      "source": [
        "prefixes = {'en-fr': 'translate English to French:',\n",
        "            'en-rm': 'translate English to Romanian:',\n",
        "            'en-gr': 'translate English to German:'}"
      ],
      "metadata": {
        "id": "1GEbRo4srDpQ"
      },
      "execution_count": 4,
      "outputs": []
    },
    {
      "cell_type": "markdown",
      "source": [
        "Створимо функцію перекладу, будемо подавати в неї фразу для перекладу та вказувати з якої та на яку мов перекладати."
      ],
      "metadata": {
        "id": "aW_Rv3jAtrsl"
      }
    },
    {
      "cell_type": "code",
      "source": [
        "def translate_multilanguage_pipeline(text, lang):\n",
        "    prefix = prefixes[lang]\n",
        "\n",
        "    print(translator(prefix + text))"
      ],
      "metadata": {
        "id": "Kce3V1Zgt7M2"
      },
      "execution_count": 5,
      "outputs": []
    },
    {
      "cell_type": "markdown",
      "source": [
        "Переклад з англійської на фрацузьку"
      ],
      "metadata": {
        "id": "GJN4x6r_vhb9"
      }
    },
    {
      "cell_type": "code",
      "source": [
        "translate_multilanguage_pipeline('Hello, how are you?', 'en-fr')"
      ],
      "metadata": {
        "colab": {
          "base_uri": "https://localhost:8080/"
        },
        "id": "-LTppQN8rRoH",
        "outputId": "c795345a-dad2-4112-9cb1-dec4dd702dbe"
      },
      "execution_count": 6,
      "outputs": [
        {
          "output_type": "stream",
          "name": "stdout",
          "text": [
            "[{'translation_text': 'Bonjour, comment êtes-vous?'}]\n"
          ]
        }
      ]
    },
    {
      "cell_type": "markdown",
      "source": [
        "Переклад з англійської на румунську"
      ],
      "metadata": {
        "id": "UQ1UiLj8vnbn"
      }
    },
    {
      "cell_type": "code",
      "source": [
        "translate_multilanguage_pipeline('Hello, how are you?', 'en-rm')"
      ],
      "metadata": {
        "colab": {
          "base_uri": "https://localhost:8080/"
        },
        "id": "k7KUHmxtuNKg",
        "outputId": "3eb770e4-c669-4346-8988-11967a106046"
      },
      "execution_count": 7,
      "outputs": [
        {
          "output_type": "stream",
          "name": "stdout",
          "text": [
            "[{'translation_text': 'Salut, cum sunteți?'}]\n"
          ]
        }
      ]
    },
    {
      "cell_type": "markdown",
      "source": [
        "Переклад з англійської на німецьку"
      ],
      "metadata": {
        "id": "IDZpgOCgvqV6"
      }
    },
    {
      "cell_type": "code",
      "source": [
        "translate_multilanguage_pipeline('Hello, how are you?', 'en-gr')"
      ],
      "metadata": {
        "colab": {
          "base_uri": "https://localhost:8080/"
        },
        "id": "PeyO04OJuh50",
        "outputId": "53a30607-b3b2-4395-e81f-908372bb3740"
      },
      "execution_count": 8,
      "outputs": [
        {
          "output_type": "stream",
          "name": "stdout",
          "text": [
            "[{'translation_text': 'Hallo, wie sind Sie?'}]\n"
          ]
        }
      ]
    },
    {
      "cell_type": "markdown",
      "source": [
        "---\n",
        "<a name=\"2\" a/>\n",
        "\n",
        "### Варіант 2. Використання готової моделі з можливістю налаштування\n",
        "[зміст](#0)"
      ],
      "metadata": {
        "id": "XfRxkRXew8JE"
      }
    },
    {
      "cell_type": "code",
      "source": [
        "tokenizer = AutoTokenizer.from_pretrained(\"t5-base\")\n",
        "model = TFAutoModelForSeq2SeqLM.from_pretrained(\"t5-base\")"
      ],
      "metadata": {
        "colab": {
          "base_uri": "https://localhost:8080/"
        },
        "id": "TS8t9rn8vXW7",
        "outputId": "93ae76fd-73af-457f-898a-1dab4bc1bbe4"
      },
      "execution_count": 10,
      "outputs": [
        {
          "output_type": "stream",
          "name": "stderr",
          "text": [
            "All PyTorch model weights were used when initializing TFT5ForConditionalGeneration.\n",
            "\n",
            "All the weights of TFT5ForConditionalGeneration were initialized from the PyTorch model.\n",
            "If your task is similar to the task the model of the checkpoint was trained on, you can already use TFT5ForConditionalGeneration for predictions without further training.\n"
          ]
        }
      ]
    },
    {
      "cell_type": "markdown",
      "source": [
        "Створимо таку ж функцію перекладу"
      ],
      "metadata": {
        "id": "k0XcCryGyNKD"
      }
    },
    {
      "cell_type": "code",
      "source": [
        "def translate_multilanguage(text, lang):\n",
        "\n",
        "    prefix = prefixes[lang]\n",
        "\n",
        "    inputs = tokenizer.encode((prefix + text), return_tensors='pt')\n",
        "\n",
        "    outputs = model.generate(inputs, max_length=40, num_beams=4, early_stopping=True)\n",
        "\n",
        "    translated_text = tokenizer.decode(outputs[0])\n",
        "\n",
        "    print(translated_text)"
      ],
      "metadata": {
        "id": "GHJT8zNqyPeU"
      },
      "execution_count": 11,
      "outputs": []
    },
    {
      "cell_type": "markdown",
      "source": [
        "Переклад з англійської на фрацузьку"
      ],
      "metadata": {
        "id": "h0kBZsZOz1wm"
      }
    },
    {
      "cell_type": "code",
      "source": [
        "translate_multilanguage('Hello, how are you?', 'en-fr')"
      ],
      "metadata": {
        "colab": {
          "base_uri": "https://localhost:8080/"
        },
        "id": "KFfzII35zGKN",
        "outputId": "6a07a941-2d7e-41b9-d6b2-1337de349f79"
      },
      "execution_count": 12,
      "outputs": [
        {
          "output_type": "stream",
          "name": "stdout",
          "text": [
            "<pad> Bonjour, comment êtes-vous?</s><pad><pad>\n"
          ]
        }
      ]
    },
    {
      "cell_type": "markdown",
      "source": [
        "Переклад з англійської на румунську"
      ],
      "metadata": {
        "id": "FbtNW8jnz5F3"
      }
    },
    {
      "cell_type": "code",
      "source": [
        "translate_multilanguage('Hello, how are you?', 'en-rm')"
      ],
      "metadata": {
        "colab": {
          "base_uri": "https://localhost:8080/"
        },
        "id": "sPQopssFzKWv",
        "outputId": "19b0e563-7231-4a71-c37d-22c70cee59f0"
      },
      "execution_count": 13,
      "outputs": [
        {
          "output_type": "stream",
          "name": "stdout",
          "text": [
            "<pad> Salut, cum sunteți?</s><pad><pad>\n"
          ]
        }
      ]
    },
    {
      "cell_type": "markdown",
      "source": [
        "Переклад з англійської на німецьку"
      ],
      "metadata": {
        "id": "_Zbu4hThz_j5"
      }
    },
    {
      "cell_type": "code",
      "source": [
        "translate_multilanguage('Hello, how are you?', 'en-gr')"
      ],
      "metadata": {
        "colab": {
          "base_uri": "https://localhost:8080/"
        },
        "id": "Pt7KJF1Kz7IE",
        "outputId": "49da5150-a0b6-4f8f-ef71-666db5829afe"
      },
      "execution_count": 14,
      "outputs": [
        {
          "output_type": "stream",
          "name": "stdout",
          "text": [
            "<pad> Hallo, wie sind Sie?</s><pad><pad>\n"
          ]
        }
      ]
    },
    {
      "cell_type": "markdown",
      "source": [
        "---\n",
        "<a name=\"3\" a/>\n",
        "\n",
        "### Варіант 3. LSTM\n",
        "[зміст](#0)"
      ],
      "metadata": {
        "id": "9QD5JDfx0IRO"
      }
    },
    {
      "cell_type": "markdown",
      "source": [
        "Завантажимо dataset:`opus100`, subset:`en-uk`. Використаємо для навчання для початку validation модель, щоб було швидше."
      ],
      "metadata": {
        "id": "DOqf0ZClZkJU"
      }
    },
    {
      "cell_type": "code",
      "source": [
        "data = load_dataset(\"opus100\", 'en-uk', split=\"train\")\n",
        "data = data['translation']"
      ],
      "metadata": {
        "id": "QN2WyKOF0BiU",
        "colab": {
          "base_uri": "https://localhost:8080/",
          "height": 241,
          "referenced_widgets": [
            "dc6b2189236d4b1b96168bd81a8620fe",
            "b82948e9ef984b679b40d26aaf91f8a8",
            "2a7249cdec04475e9e2be16e8a125690",
            "e20b09d53399473d8cbcf3a0e794867b",
            "d51bf82e03fb45a88ed973cfbbd808e8",
            "6d92ca8a07fb4854903ef1f186f1a917",
            "f22488076f124ea48ff1018fca5a7e0b",
            "7d1d6687626a49d09983ceddd4d2fe34",
            "a8c9cc1ab5bc488d89a46680963bcc89",
            "986853dbc098420bb20b08a31602ed4a",
            "bf775e068fe443fc896b386484eb7e68",
            "c6ec6b14a2034ffd809a3fe6509c6dd4",
            "7662dea92c8b4c5cb2ce4fdf5a9920ac",
            "c7f297f3e23d410e9555dde18eb01676",
            "cfb72af9a30b4b30a5f0333a4851ed18",
            "3e1fad334fa649e594aa09de3827c5fb",
            "b6de847da95846469b8552b71d6faa01",
            "76f928ca9bc74dd9a21fffa5f8300b18",
            "b2eccc3f999f49afbd0a282af5aa0db6",
            "66c55ded24bb494d80f08c4815e64140",
            "6092901e540f4e7899fbcf5d7d8653f4",
            "2602a5c0f4df412893439074b2d24e32",
            "d7ccb46c1c8c4e93967f3d658824ca89",
            "49e92a55a86b488baad9e2df9bdc4012",
            "5378fcc4437c43ceabb5d338fad391b9",
            "241d812fc8dc4052832030152eb8833d",
            "a68bb1130dc142e7b6a0c83c93e5c07a",
            "0b9d1f51ab824e6aa55dfc0aa43f42db",
            "ec416a3a9ea34bc994ce1baa7ee8109d",
            "0b5730dd929a4729a12475316c3e6603",
            "ee02bef83746456c8398f91097bc5e76",
            "96715099525a460f918d32a3c43a5795",
            "ecfc22b55dcb438cb76bfde4962839f5",
            "d771e16baafd4aec98462edc944d7cdc",
            "99d18b216a7b437e81346f365789f686",
            "60d10060514840b9848159cf894ea045",
            "f971bbd593a84e39bbd30617fee0fda0",
            "fde654fc511d47e3ac9b52699a0a8040",
            "18b020eb16da418f8046bb0f69ed32aa",
            "c1eabd71f2be413e938bae8f2c0cf2e4",
            "ae8e71f381b64541b1a39a3f4c1d0f09",
            "a19c7a12ba0a4dfdb5a6e29dbc23ba95",
            "d2bac231fe4f4654a23bfb8f782a2a85",
            "35cebbb771b74b0e9ed25be9aab35976",
            "064927a0d1cc41cebd6f7509c6f8d218",
            "6e4f8daf00dc41ea8b143755fe88b59b",
            "2752c0bd17e847cfa7e8fa9f3aa81332",
            "a7f0633798db4d56b89eb9e44ad2efc7",
            "5d97b342a2634566a26487b22f428984",
            "7d6be65d32cd4239a02b9526357281e2",
            "3ce9bdb210364bb7ad5e3fcc325f4ccd",
            "e67b5dcf014642038abd0ed3891b5023",
            "f6b4d84a23be410e81d613c43abd62cb",
            "1c470bee18cf4b34bc7c9d70c9b643d8",
            "ab74d12f6c294d00bcdc38b3ffd43d1a",
            "815c7e4a04aa47b29f322eda9a9f9c49",
            "6d6e871ca3414324b178a56eee0411e9",
            "083c956d4fe547de8fdd615b23febf1f",
            "f1c242d02e5a4415b10b6ea16d84000d",
            "0f03bb2806f346a59ae76846e608e0e6",
            "8f1c50d8f3844285be4f557cff698f68",
            "e37fd61d17224a439b66f5508396628c",
            "4bfdd81ae8be47ff8cb2e60a3a92602a",
            "40296219b7e041839721d7e32cd76faf",
            "1a4af6b12d84496caae062e7fe756eec",
            "2817eec54f0d400daac1c117f91e486b",
            "f52ae2fc428e4418b6a0f4c3e28d8805",
            "d16c0360c503486ca160301c9471c114",
            "91ed96b9e8384f97b7e41fbb6735c612",
            "15a51586623b4ca0a703087c16e170a1",
            "157b2ca8a25641c4a06ecc2f0c836786",
            "66d5dffce39949e5bae9f5da069a161a",
            "4a2a5726473f4c23996510f84f839770",
            "5d0826e28c1d4a65ac6a4afe7fa78ab9",
            "a6edcbabce8d448ca004cabd4befde73",
            "95a27ab3071c4ea3b741973923c580dc",
            "48421c063681442498f66d0c7e394ca7"
          ]
        },
        "outputId": "cb5d558f-b322-43de-e23b-977ac5bb5aa7"
      },
      "execution_count": 17,
      "outputs": [
        {
          "output_type": "display_data",
          "data": {
            "text/plain": [
              "Downloading builder script:   0%|          | 0.00/7.25k [00:00<?, ?B/s]"
            ],
            "application/vnd.jupyter.widget-view+json": {
              "version_major": 2,
              "version_minor": 0,
              "model_id": "dc6b2189236d4b1b96168bd81a8620fe"
            }
          },
          "metadata": {}
        },
        {
          "output_type": "display_data",
          "data": {
            "text/plain": [
              "Downloading metadata:   0%|          | 0.00/192k [00:00<?, ?B/s]"
            ],
            "application/vnd.jupyter.widget-view+json": {
              "version_major": 2,
              "version_minor": 0,
              "model_id": "c6ec6b14a2034ffd809a3fe6509c6dd4"
            }
          },
          "metadata": {}
        },
        {
          "output_type": "display_data",
          "data": {
            "text/plain": [
              "Downloading readme:   0%|          | 0.00/46.7k [00:00<?, ?B/s]"
            ],
            "application/vnd.jupyter.widget-view+json": {
              "version_major": 2,
              "version_minor": 0,
              "model_id": "d7ccb46c1c8c4e93967f3d658824ca89"
            }
          },
          "metadata": {}
        },
        {
          "output_type": "display_data",
          "data": {
            "text/plain": [
              "Downloading data:   0%|          | 0.00/37.4M [00:00<?, ?B/s]"
            ],
            "application/vnd.jupyter.widget-view+json": {
              "version_major": 2,
              "version_minor": 0,
              "model_id": "d771e16baafd4aec98462edc944d7cdc"
            }
          },
          "metadata": {}
        },
        {
          "output_type": "display_data",
          "data": {
            "text/plain": [
              "Generating test split:   0%|          | 0/2000 [00:00<?, ? examples/s]"
            ],
            "application/vnd.jupyter.widget-view+json": {
              "version_major": 2,
              "version_minor": 0,
              "model_id": "064927a0d1cc41cebd6f7509c6f8d218"
            }
          },
          "metadata": {}
        },
        {
          "output_type": "display_data",
          "data": {
            "text/plain": [
              "Generating train split:   0%|          | 0/1000000 [00:00<?, ? examples/s]"
            ],
            "application/vnd.jupyter.widget-view+json": {
              "version_major": 2,
              "version_minor": 0,
              "model_id": "815c7e4a04aa47b29f322eda9a9f9c49"
            }
          },
          "metadata": {}
        },
        {
          "output_type": "display_data",
          "data": {
            "text/plain": [
              "Generating validation split:   0%|          | 0/2000 [00:00<?, ? examples/s]"
            ],
            "application/vnd.jupyter.widget-view+json": {
              "version_major": 2,
              "version_minor": 0,
              "model_id": "f52ae2fc428e4418b6a0f4c3e28d8805"
            }
          },
          "metadata": {}
        }
      ]
    },
    {
      "cell_type": "markdown",
      "source": [
        "Підготуємо данні. Створимо функцію розділу. Використаємо лише `50К` записів, бо датасет завеликий."
      ],
      "metadata": {
        "id": "0f0Kbyvjc8QS"
      }
    },
    {
      "cell_type": "code",
      "source": [
        "lim_sent = 50000\n",
        "\n",
        "def split_text(text):\n",
        "    i = 0\n",
        "    df = pd.DataFrame(columns=['eng', 'ukr'])\n",
        "    for line in text:\n",
        "        if i < lim_sent:\n",
        "            eng_text = line['en']\n",
        "            eng_text = eng_text.strip().replace('.','').replace(',','').replace(':','').replace('?','').replace('!','').replace('-','').lower()\n",
        "\n",
        "            ukr_text = line['uk']\n",
        "            ukr_text = ukr_text.strip().replace('.','').replace(',','').replace(':','').replace('?','').replace('!','').replace('-','').lower()\n",
        "            df.loc[len(df.index)] = [eng_text, ukr_text]\n",
        "        i += 1\n",
        "    return df"
      ],
      "metadata": {
        "id": "A-wt4h3udjz-"
      },
      "execution_count": 18,
      "outputs": []
    },
    {
      "cell_type": "code",
      "source": [
        "eng_ukr = split_text(data)\n",
        "#eng_ukr = array(eng_ukr)"
      ],
      "metadata": {
        "id": "aI2xTFw9bjdU"
      },
      "execution_count": 19,
      "outputs": []
    },
    {
      "cell_type": "code",
      "source": [
        "eng_ukr.shape"
      ],
      "metadata": {
        "colab": {
          "base_uri": "https://localhost:8080/"
        },
        "id": "2v_z3h8Hsfiq",
        "outputId": "35644dec-9a2f-45ad-803b-37a15e804686"
      },
      "execution_count": 20,
      "outputs": [
        {
          "output_type": "execute_result",
          "data": {
            "text/plain": [
              "(50000, 2)"
            ]
          },
          "metadata": {},
          "execution_count": 20
        }
      ]
    },
    {
      "cell_type": "code",
      "source": [
        "eng_ukr.head(10)"
      ],
      "metadata": {
        "colab": {
          "base_uri": "https://localhost:8080/",
          "height": 363
        },
        "id": "XPEbcM99EBzK",
        "outputId": "7e6144a5-3586-49ab-c944-63b6cbcc448c"
      },
      "execution_count": 21,
      "outputs": [
        {
          "output_type": "execute_result",
          "data": {
            "text/plain": [
              "                   eng                  ukr\n",
              "0  consistant with ...  как и все осталь...\n",
              "1         the children                 діти\n",
              "2  i still have som...  в мене все ще є ...\n",
              "3  anything else yo...  ви можете щось д...\n",
              "4  successfully mov...  успішно пересуну...\n",
              "5  the given name c...  не вдається зв' ...\n",
              "6  jake your mom's ...  джейк твоя мама ...\n",
              "7            father no              отецнет\n",
              "8            data tool  засоби роботи з ...\n",
              "9      shh shh shh shh                     "
            ],
            "text/html": [
              "\n",
              "  <div id=\"df-3ae67187-a8f1-415a-8a00-7c5e4700be11\" class=\"colab-df-container\">\n",
              "    <div>\n",
              "<style scoped>\n",
              "    .dataframe tbody tr th:only-of-type {\n",
              "        vertical-align: middle;\n",
              "    }\n",
              "\n",
              "    .dataframe tbody tr th {\n",
              "        vertical-align: top;\n",
              "    }\n",
              "\n",
              "    .dataframe thead th {\n",
              "        text-align: right;\n",
              "    }\n",
              "</style>\n",
              "<table border=\"1\" class=\"dataframe\">\n",
              "  <thead>\n",
              "    <tr style=\"text-align: right;\">\n",
              "      <th></th>\n",
              "      <th>eng</th>\n",
              "      <th>ukr</th>\n",
              "    </tr>\n",
              "  </thead>\n",
              "  <tbody>\n",
              "    <tr>\n",
              "      <th>0</th>\n",
              "      <td>consistant with ...</td>\n",
              "      <td>как и все осталь...</td>\n",
              "    </tr>\n",
              "    <tr>\n",
              "      <th>1</th>\n",
              "      <td>the children</td>\n",
              "      <td>діти</td>\n",
              "    </tr>\n",
              "    <tr>\n",
              "      <th>2</th>\n",
              "      <td>i still have som...</td>\n",
              "      <td>в мене все ще є ...</td>\n",
              "    </tr>\n",
              "    <tr>\n",
              "      <th>3</th>\n",
              "      <td>anything else yo...</td>\n",
              "      <td>ви можете щось д...</td>\n",
              "    </tr>\n",
              "    <tr>\n",
              "      <th>4</th>\n",
              "      <td>successfully mov...</td>\n",
              "      <td>успішно пересуну...</td>\n",
              "    </tr>\n",
              "    <tr>\n",
              "      <th>5</th>\n",
              "      <td>the given name c...</td>\n",
              "      <td>не вдається зв' ...</td>\n",
              "    </tr>\n",
              "    <tr>\n",
              "      <th>6</th>\n",
              "      <td>jake your mom's ...</td>\n",
              "      <td>джейк твоя мама ...</td>\n",
              "    </tr>\n",
              "    <tr>\n",
              "      <th>7</th>\n",
              "      <td>father no</td>\n",
              "      <td>отецнет</td>\n",
              "    </tr>\n",
              "    <tr>\n",
              "      <th>8</th>\n",
              "      <td>data tool</td>\n",
              "      <td>засоби роботи з ...</td>\n",
              "    </tr>\n",
              "    <tr>\n",
              "      <th>9</th>\n",
              "      <td>shh shh shh shh</td>\n",
              "      <td></td>\n",
              "    </tr>\n",
              "  </tbody>\n",
              "</table>\n",
              "</div>\n",
              "    <div class=\"colab-df-buttons\">\n",
              "\n",
              "  <div class=\"colab-df-container\">\n",
              "    <button class=\"colab-df-convert\" onclick=\"convertToInteractive('df-3ae67187-a8f1-415a-8a00-7c5e4700be11')\"\n",
              "            title=\"Convert this dataframe to an interactive table.\"\n",
              "            style=\"display:none;\">\n",
              "\n",
              "  <svg xmlns=\"http://www.w3.org/2000/svg\" height=\"24px\" viewBox=\"0 -960 960 960\">\n",
              "    <path d=\"M120-120v-720h720v720H120Zm60-500h600v-160H180v160Zm220 220h160v-160H400v160Zm0 220h160v-160H400v160ZM180-400h160v-160H180v160Zm440 0h160v-160H620v160ZM180-180h160v-160H180v160Zm440 0h160v-160H620v160Z\"/>\n",
              "  </svg>\n",
              "    </button>\n",
              "\n",
              "  <style>\n",
              "    .colab-df-container {\n",
              "      display:flex;\n",
              "      gap: 12px;\n",
              "    }\n",
              "\n",
              "    .colab-df-convert {\n",
              "      background-color: #E8F0FE;\n",
              "      border: none;\n",
              "      border-radius: 50%;\n",
              "      cursor: pointer;\n",
              "      display: none;\n",
              "      fill: #1967D2;\n",
              "      height: 32px;\n",
              "      padding: 0 0 0 0;\n",
              "      width: 32px;\n",
              "    }\n",
              "\n",
              "    .colab-df-convert:hover {\n",
              "      background-color: #E2EBFA;\n",
              "      box-shadow: 0px 1px 2px rgba(60, 64, 67, 0.3), 0px 1px 3px 1px rgba(60, 64, 67, 0.15);\n",
              "      fill: #174EA6;\n",
              "    }\n",
              "\n",
              "    .colab-df-buttons div {\n",
              "      margin-bottom: 4px;\n",
              "    }\n",
              "\n",
              "    [theme=dark] .colab-df-convert {\n",
              "      background-color: #3B4455;\n",
              "      fill: #D2E3FC;\n",
              "    }\n",
              "\n",
              "    [theme=dark] .colab-df-convert:hover {\n",
              "      background-color: #434B5C;\n",
              "      box-shadow: 0px 1px 3px 1px rgba(0, 0, 0, 0.15);\n",
              "      filter: drop-shadow(0px 1px 2px rgba(0, 0, 0, 0.3));\n",
              "      fill: #FFFFFF;\n",
              "    }\n",
              "  </style>\n",
              "\n",
              "    <script>\n",
              "      const buttonEl =\n",
              "        document.querySelector('#df-3ae67187-a8f1-415a-8a00-7c5e4700be11 button.colab-df-convert');\n",
              "      buttonEl.style.display =\n",
              "        google.colab.kernel.accessAllowed ? 'block' : 'none';\n",
              "\n",
              "      async function convertToInteractive(key) {\n",
              "        const element = document.querySelector('#df-3ae67187-a8f1-415a-8a00-7c5e4700be11');\n",
              "        const dataTable =\n",
              "          await google.colab.kernel.invokeFunction('convertToInteractive',\n",
              "                                                    [key], {});\n",
              "        if (!dataTable) return;\n",
              "\n",
              "        const docLinkHtml = 'Like what you see? Visit the ' +\n",
              "          '<a target=\"_blank\" href=https://colab.research.google.com/notebooks/data_table.ipynb>data table notebook</a>'\n",
              "          + ' to learn more about interactive tables.';\n",
              "        element.innerHTML = '';\n",
              "        dataTable['output_type'] = 'display_data';\n",
              "        await google.colab.output.renderOutput(dataTable, element);\n",
              "        const docLink = document.createElement('div');\n",
              "        docLink.innerHTML = docLinkHtml;\n",
              "        element.appendChild(docLink);\n",
              "      }\n",
              "    </script>\n",
              "  </div>\n",
              "\n",
              "\n",
              "<div id=\"df-4e474fe2-ace9-40e5-a911-4f99c5464b3c\">\n",
              "  <button class=\"colab-df-quickchart\" onclick=\"quickchart('df-4e474fe2-ace9-40e5-a911-4f99c5464b3c')\"\n",
              "            title=\"Suggest charts.\"\n",
              "            style=\"display:none;\">\n",
              "\n",
              "<svg xmlns=\"http://www.w3.org/2000/svg\" height=\"24px\"viewBox=\"0 0 24 24\"\n",
              "     width=\"24px\">\n",
              "    <g>\n",
              "        <path d=\"M19 3H5c-1.1 0-2 .9-2 2v14c0 1.1.9 2 2 2h14c1.1 0 2-.9 2-2V5c0-1.1-.9-2-2-2zM9 17H7v-7h2v7zm4 0h-2V7h2v10zm4 0h-2v-4h2v4z\"/>\n",
              "    </g>\n",
              "</svg>\n",
              "  </button>\n",
              "\n",
              "<style>\n",
              "  .colab-df-quickchart {\n",
              "    background-color: #E8F0FE;\n",
              "    border: none;\n",
              "    border-radius: 50%;\n",
              "    cursor: pointer;\n",
              "    display: none;\n",
              "    fill: #1967D2;\n",
              "    height: 32px;\n",
              "    padding: 0 0 0 0;\n",
              "    width: 32px;\n",
              "  }\n",
              "\n",
              "  .colab-df-quickchart:hover {\n",
              "    background-color: #E2EBFA;\n",
              "    box-shadow: 0px 1px 2px rgba(60, 64, 67, 0.3), 0px 1px 3px 1px rgba(60, 64, 67, 0.15);\n",
              "    fill: #174EA6;\n",
              "  }\n",
              "\n",
              "  [theme=dark] .colab-df-quickchart {\n",
              "    background-color: #3B4455;\n",
              "    fill: #D2E3FC;\n",
              "  }\n",
              "\n",
              "  [theme=dark] .colab-df-quickchart:hover {\n",
              "    background-color: #434B5C;\n",
              "    box-shadow: 0px 1px 3px 1px rgba(0, 0, 0, 0.15);\n",
              "    filter: drop-shadow(0px 1px 2px rgba(0, 0, 0, 0.3));\n",
              "    fill: #FFFFFF;\n",
              "  }\n",
              "</style>\n",
              "\n",
              "  <script>\n",
              "    async function quickchart(key) {\n",
              "      const charts = await google.colab.kernel.invokeFunction(\n",
              "          'suggestCharts', [key], {});\n",
              "    }\n",
              "    (() => {\n",
              "      let quickchartButtonEl =\n",
              "        document.querySelector('#df-4e474fe2-ace9-40e5-a911-4f99c5464b3c button');\n",
              "      quickchartButtonEl.style.display =\n",
              "        google.colab.kernel.accessAllowed ? 'block' : 'none';\n",
              "    })();\n",
              "  </script>\n",
              "</div>\n",
              "    </div>\n",
              "  </div>\n"
            ]
          },
          "metadata": {},
          "execution_count": 21
        }
      ]
    },
    {
      "cell_type": "markdown",
      "source": [
        "---\n",
        "\n",
        "## Перетворення тексту на послідовість"
      ],
      "metadata": {
        "id": "1w3uRaEkIfWD"
      }
    },
    {
      "cell_type": "markdown",
      "source": [
        "Виздачаємо оптимальну довжину речень"
      ],
      "metadata": {
        "id": "FCLFGYBMJBE8"
      }
    },
    {
      "cell_type": "code",
      "source": [
        "# Порожні списки\n",
        "eng_l = []\n",
        "urk_l = []"
      ],
      "metadata": {
        "id": "Ae8IyJMuJE4b"
      },
      "execution_count": 22,
      "outputs": []
    },
    {
      "cell_type": "code",
      "source": [
        "# Заповнюємо списки довжинами речень\n",
        "for i in eng_ukr['eng']:\n",
        "      eng_l.append(len(i.split()))\n",
        "\n",
        "for i in eng_ukr['ukr']:\n",
        "      urk_l.append(len(i.split()))"
      ],
      "metadata": {
        "id": "Ui0yo4qmJP4H"
      },
      "execution_count": 23,
      "outputs": []
    },
    {
      "cell_type": "code",
      "source": [
        "length_df = pd.DataFrame({'eng':eng_l, 'ukr':urk_l})\n",
        "\n",
        "length_df.hist(bins = linspace(0, 25, 20), figsize = (20,6))\n",
        "\n",
        "plt.show()"
      ],
      "metadata": {
        "colab": {
          "base_uri": "https://localhost:8080/",
          "height": 498
        },
        "id": "DnQwFUZ6Jv1_",
        "outputId": "d5bcc926-40f4-41ae-b95b-6a7c3ed256c5"
      },
      "execution_count": 24,
      "outputs": [
        {
          "output_type": "display_data",
          "data": {
            "text/plain": [
              "<Figure size 2000x600 with 2 Axes>"
            ],
            "image/png": "[encoded data removed]"
          },
          "metadata": {}
        }
      ]
    },
    {
      "cell_type": "markdown",
      "source": [
        "Виходячи з графіку росподілу бачимо що максимальна довжина речення (якщо нехтувати викидами) приблизно 21 слів для англійської та 18 слів для української."
      ],
      "metadata": {
        "id": "aePuyvSGKXxs"
      }
    },
    {
      "cell_type": "markdown",
      "source": [
        "Використаємо Keras Tokenizer для створеня послідовностей. Це перетворить наші речення на послідовність цілих чисел."
      ],
      "metadata": {
        "id": "UrJbsf39IvKl"
      }
    },
    {
      "cell_type": "code",
      "source": [
        "# функція для створення токенізатора\n",
        "def tokenization(lines):\n",
        "      tokenizer = Tokenizer()\n",
        "      tokenizer.fit_on_texts(lines)\n",
        "      return tokenizer"
      ],
      "metadata": {
        "id": "4l3YXrfhGCla"
      },
      "execution_count": 25,
      "outputs": []
    },
    {
      "cell_type": "code",
      "source": [
        "# підготовка токенізера англійської мови\n",
        "eng_tokenizer = tokenization(eng_ukr['eng'])\n",
        "eng_vocab_size = len(eng_tokenizer.word_index) + 1\n",
        "\n",
        "eng_length = 21\n",
        "print('Розмір словника англійської мови: %d' % eng_vocab_size)"
      ],
      "metadata": {
        "colab": {
          "base_uri": "https://localhost:8080/"
        },
        "id": "26vZ6CLRLMvX",
        "outputId": "c2762959-70a3-4efa-a542-62d2027546e3"
      },
      "execution_count": 26,
      "outputs": [
        {
          "output_type": "stream",
          "name": "stdout",
          "text": [
            "Розмір словника англійської мови: 23041\n"
          ]
        }
      ]
    },
    {
      "cell_type": "code",
      "source": [
        "# підготовка токенізера української мови\n",
        "ukr_tokenizer = tokenization(eng_ukr['ukr'])\n",
        "ukr_vocab_size = len(ukr_tokenizer.word_index) + 1\n",
        "\n",
        "ukr_length = 18\n",
        "print('Розмір словника української мови: %d' % ukr_vocab_size)"
      ],
      "metadata": {
        "colab": {
          "base_uri": "https://localhost:8080/"
        },
        "id": "p3WAmbO4Lfp_",
        "outputId": "0b2116bc-4e88-4cff-e059-010b2ed6a7d4"
      },
      "execution_count": 27,
      "outputs": [
        {
          "output_type": "stream",
          "name": "stdout",
          "text": [
            "Розмір словника української мови: 53097\n"
          ]
        }
      ]
    },
    {
      "cell_type": "markdown",
      "source": [
        "Створимо функцію кодування та доповнення послідовностей."
      ],
      "metadata": {
        "id": "uGtZb_RwL2sE"
      }
    },
    {
      "cell_type": "code",
      "source": [
        "def encode_sequences(tokenizer, length, lines):\n",
        "         # цілочисельне кодування послідовностей\n",
        "         seq = tokenizer.texts_to_sequences(lines)\n",
        "         # заповнення послідовностей із значеннями 0\n",
        "         seq = pad_sequences(seq, maxlen=length, padding='post')\n",
        "         return seq"
      ],
      "metadata": {
        "id": "rof_2UqULrKu"
      },
      "execution_count": 28,
      "outputs": []
    },
    {
      "cell_type": "markdown",
      "source": [
        "---\n",
        "\n",
        "## Створення моделі"
      ],
      "metadata": {
        "id": "895kft_7MXLQ"
      }
    },
    {
      "cell_type": "markdown",
      "source": [
        "Розділимо набір данних на train та test. Візьмемо невиличку тестову частину щоб не перегружати декодер."
      ],
      "metadata": {
        "id": "4RLjKfWxMc2n"
      }
    },
    {
      "cell_type": "code",
      "source": [
        "from sklearn.model_selection import train_test_split\n",
        "\n",
        "train, test = train_test_split(eng_ukr, test_size=0.001, random_state = 13)"
      ],
      "metadata": {
        "id": "GIXNkCvvMEfV"
      },
      "execution_count": 35,
      "outputs": []
    },
    {
      "cell_type": "code",
      "source": [
        "test.size"
      ],
      "metadata": {
        "colab": {
          "base_uri": "https://localhost:8080/"
        },
        "id": "SBDpEBSID2Uc",
        "outputId": "10981769-67de-4783-b32b-fe4989c3330f"
      },
      "execution_count": 36,
      "outputs": [
        {
          "output_type": "execute_result",
          "data": {
            "text/plain": [
              "100"
            ]
          },
          "metadata": {},
          "execution_count": 36
        }
      ]
    },
    {
      "cell_type": "markdown",
      "source": [
        "Кодуємо послідовності. Англійськи речення - як вхідні послідовності, українські - як цільові."
      ],
      "metadata": {
        "id": "FRJ4tznCNAUh"
      }
    },
    {
      "cell_type": "code",
      "source": [
        "# для навчальних данних\n",
        "trainX = encode_sequences(eng_tokenizer, eng_length, train['eng'])\n",
        "trainY = encode_sequences(ukr_tokenizer, ukr_length, train['ukr'])\n",
        "\n",
        "# для тестових данних\n",
        "testX = encode_sequences(eng_tokenizer, eng_length, test['eng'])\n",
        "testY = encode_sequences(ukr_tokenizer, ukr_length, test['ukr'])"
      ],
      "metadata": {
        "id": "HmASGIWVM709"
      },
      "execution_count": 37,
      "outputs": []
    },
    {
      "cell_type": "markdown",
      "source": [
        "Функція створення моделі. Архітектура моделі на зображенні:\n",
        "![image.png](data:image/png;base64,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)"
      ],
      "metadata": {
        "id": "XvPy2YYoPk9z"
      }
    },
    {
      "cell_type": "code",
      "source": [
        "def define_model(in_vocab,out_vocab, in_timesteps,out_timesteps,units):\n",
        "      model = Sequential()\n",
        "      model.add(Embedding(in_vocab, units, input_length=in_timesteps, mask_zero=True))\n",
        "      model.add(LSTM(units))\n",
        "      model.add(RepeatVector(out_timesteps))\n",
        "      model.add(LSTM(units, return_sequences=True))\n",
        "      model.add(Dense(out_vocab, activation='softmax'))\n",
        "      return model"
      ],
      "metadata": {
        "id": "Sg979fO9Pcit"
      },
      "execution_count": 38,
      "outputs": []
    },
    {
      "cell_type": "markdown",
      "source": [
        "Компілюємо модель"
      ],
      "metadata": {
        "id": "KWTrjs8bQHug"
      }
    },
    {
      "cell_type": "code",
      "source": [
        "model = define_model(eng_vocab_size, ukr_vocab_size, eng_length, ukr_length, 512)\n",
        "rms = optimizers.RMSprop(learning_rate=0.001)\n",
        "model.compile(optimizer=rms, loss='sparse_categorical_crossentropy')"
      ],
      "metadata": {
        "id": "BeBFv5eKQDJx"
      },
      "execution_count": 39,
      "outputs": []
    },
    {
      "cell_type": "code",
      "source": [
        "model.summary()"
      ],
      "metadata": {
        "colab": {
          "base_uri": "https://localhost:8080/"
        },
        "id": "D9WOwonqD9vM",
        "outputId": "a21054cd-dc51-42bc-a380-1268e04f14ac"
      },
      "execution_count": 40,
      "outputs": [
        {
          "output_type": "stream",
          "name": "stdout",
          "text": [
            "Model: \"sequential\"\n",
            "_________________________________________________________________\n",
            " Layer (type)                Output Shape              Param #   \n",
            "=================================================================\n",
            " embedding (Embedding)       (None, 21, 512)           11796992  \n",
            "                                                                 \n",
            " lstm (LSTM)                 (None, 512)               2099200   \n",
            "                                                                 \n",
            " repeat_vector (RepeatVector  (None, 18, 512)          0         \n",
            " )                                                               \n",
            "                                                                 \n",
            " lstm_1 (LSTM)               (None, 18, 512)           2099200   \n",
            "                                                                 \n",
            " dense (Dense)               (None, 18, 53097)         27238761  \n",
            "                                                                 \n",
            "=================================================================\n",
            "Total params: 43,234,153\n",
            "Trainable params: 43,234,153\n",
            "Non-trainable params: 0\n",
            "_________________________________________________________________\n"
          ]
        }
      ]
    },
    {
      "cell_type": "markdown",
      "source": [
        "Збережемо модель"
      ],
      "metadata": {
        "id": "0NLxILTaQ2Df"
      }
    },
    {
      "cell_type": "code",
      "source": [
        "filename = 'model.eng_ukr.3'\n",
        "checkpoint = ModelCheckpoint(filename, monitor='val_loss', verbose=1, save_best_only=True, mode='min')"
      ],
      "metadata": {
        "id": "nMO4tUd7QSgX"
      },
      "execution_count": 41,
      "outputs": []
    },
    {
      "cell_type": "markdown",
      "source": [
        "Навчаємо модель"
      ],
      "metadata": {
        "id": "XKH4enSqRCEM"
      }
    },
    {
      "cell_type": "code",
      "source": [
        "history = model.fit(trainX, trainY.reshape(trainY.shape[0], trainY.shape[1], 1),\n",
        "                    epochs=10, batch_size=512, validation_split = 0.2,callbacks=[checkpoint],\n",
        "                    verbose=1)"
      ],
      "metadata": {
        "colab": {
          "base_uri": "https://localhost:8080/"
        },
        "id": "Zr8flf1WQ-iS",
        "outputId": "50023530-5125-4e72-938b-4d73799afd7e"
      },
      "execution_count": 42,
      "outputs": [
        {
          "output_type": "stream",
          "name": "stdout",
          "text": [
            "Epoch 1/10\n",
            "79/79 [==============================] - ETA: 0s - loss: 3.9614\n",
            "Epoch 1: val_loss improved from inf to 3.06258, saving model to model.eng_ukr.3\n"
          ]
        },
        {
          "output_type": "stream",
          "name": "stderr",
          "text": [
            "WARNING:absl:Found untraced functions such as lstm_cell_layer_call_fn, lstm_cell_layer_call_and_return_conditional_losses, lstm_cell_1_layer_call_fn, lstm_cell_1_layer_call_and_return_conditional_losses while saving (showing 4 of 4). These functions will not be directly callable after loading.\n"
          ]
        },
        {
          "output_type": "stream",
          "name": "stdout",
          "text": [
            "\b\b\b\b\b\b\b\b\b\b\b\b\b\b\b\b\b\b\b\b\b\b\b\b\b\b\b\b\b\b\b\b\b\b\b\b\b\b\b\b\b\b\b\b\b\b\b\b\b\b\b\b\b\b\b\b\b\b\b\b\b\b\b\r79/79 [==============================] - 121s 1s/step - loss: 3.9614 - val_loss: 3.0626\n",
            "Epoch 2/10\n",
            "79/79 [==============================] - ETA: 0s - loss: 2.8287\n",
            "Epoch 2: val_loss improved from 3.06258 to 2.74506, saving model to model.eng_ukr.3\n"
          ]
        },
        {
          "output_type": "stream",
          "name": "stderr",
          "text": [
            "WARNING:absl:Found untraced functions such as lstm_cell_layer_call_fn, lstm_cell_layer_call_and_return_conditional_losses, lstm_cell_1_layer_call_fn, lstm_cell_1_layer_call_and_return_conditional_losses while saving (showing 4 of 4). These functions will not be directly callable after loading.\n"
          ]
        },
        {
          "output_type": "stream",
          "name": "stdout",
          "text": [
            "\b\b\b\b\b\b\b\b\b\b\b\b\b\b\b\b\b\b\b\b\b\b\b\b\b\b\b\b\b\b\b\b\b\b\b\b\b\b\b\b\b\b\b\b\b\b\b\b\b\b\b\b\b\b\b\b\b\b\b\b\b\b\b\r79/79 [==============================] - 84s 1s/step - loss: 2.8287 - val_loss: 2.7451\n",
            "Epoch 3/10\n",
            "79/79 [==============================] - ETA: 0s - loss: 2.7287\n",
            "Epoch 3: val_loss improved from 2.74506 to 2.68889, saving model to model.eng_ukr.3\n"
          ]
        },
        {
          "output_type": "stream",
          "name": "stderr",
          "text": [
            "WARNING:absl:Found untraced functions such as lstm_cell_layer_call_fn, lstm_cell_layer_call_and_return_conditional_losses, lstm_cell_1_layer_call_fn, lstm_cell_1_layer_call_and_return_conditional_losses while saving (showing 4 of 4). These functions will not be directly callable after loading.\n"
          ]
        },
        {
          "output_type": "stream",
          "name": "stdout",
          "text": [
            "\b\b\b\b\b\b\b\b\b\b\b\b\b\b\b\b\b\b\b\b\b\b\b\b\b\b\b\b\b\b\b\b\b\b\b\b\b\b\b\b\b\b\b\b\b\b\b\b\b\b\b\b\b\b\b\b\b\b\b\b\b\b\b\r79/79 [==============================] - 76s 967ms/step - loss: 2.7287 - val_loss: 2.6889\n",
            "Epoch 4/10\n",
            "79/79 [==============================] - ETA: 0s - loss: 2.6741\n",
            "Epoch 4: val_loss improved from 2.68889 to 2.68015, saving model to model.eng_ukr.3\n"
          ]
        },
        {
          "output_type": "stream",
          "name": "stderr",
          "text": [
            "WARNING:absl:Found untraced functions such as lstm_cell_layer_call_fn, lstm_cell_layer_call_and_return_conditional_losses, lstm_cell_1_layer_call_fn, lstm_cell_1_layer_call_and_return_conditional_losses while saving (showing 4 of 4). These functions will not be directly callable after loading.\n"
          ]
        },
        {
          "output_type": "stream",
          "name": "stdout",
          "text": [
            "\b\b\b\b\b\b\b\b\b\b\b\b\b\b\b\b\b\b\b\b\b\b\b\b\b\b\b\b\b\b\b\b\b\b\b\b\b\b\b\b\b\b\b\b\b\b\b\b\b\b\b\b\b\b\b\b\b\b\b\b\b\b\b\r79/79 [==============================] - 74s 944ms/step - loss: 2.6741 - val_loss: 2.6801\n",
            "Epoch 5/10\n",
            "79/79 [==============================] - ETA: 0s - loss: 2.6421\n",
            "Epoch 5: val_loss improved from 2.68015 to 2.64439, saving model to model.eng_ukr.3\n"
          ]
        },
        {
          "output_type": "stream",
          "name": "stderr",
          "text": [
            "WARNING:absl:Found untraced functions such as lstm_cell_layer_call_fn, lstm_cell_layer_call_and_return_conditional_losses, lstm_cell_1_layer_call_fn, lstm_cell_1_layer_call_and_return_conditional_losses while saving (showing 4 of 4). These functions will not be directly callable after loading.\n"
          ]
        },
        {
          "output_type": "stream",
          "name": "stdout",
          "text": [
            "\b\b\b\b\b\b\b\b\b\b\b\b\b\b\b\b\b\b\b\b\b\b\b\b\b\b\b\b\b\b\b\b\b\b\b\b\b\b\b\b\b\b\b\b\b\b\b\b\b\b\b\b\b\b\b\b\b\b\b\b\b\b\b\r79/79 [==============================] - 76s 961ms/step - loss: 2.6421 - val_loss: 2.6444\n",
            "Epoch 6/10\n",
            "79/79 [==============================] - ETA: 0s - loss: 2.6188\n",
            "Epoch 6: val_loss improved from 2.64439 to 2.63545, saving model to model.eng_ukr.3\n"
          ]
        },
        {
          "output_type": "stream",
          "name": "stderr",
          "text": [
            "WARNING:absl:Found untraced functions such as lstm_cell_layer_call_fn, lstm_cell_layer_call_and_return_conditional_losses, lstm_cell_1_layer_call_fn, lstm_cell_1_layer_call_and_return_conditional_losses while saving (showing 4 of 4). These functions will not be directly callable after loading.\n"
          ]
        },
        {
          "output_type": "stream",
          "name": "stdout",
          "text": [
            "\b\b\b\b\b\b\b\b\b\b\b\b\b\b\b\b\b\b\b\b\b\b\b\b\b\b\b\b\b\b\b\b\b\b\b\b\b\b\b\b\b\b\b\b\b\b\b\b\b\b\b\b\b\b\b\b\b\b\b\b\b\b\b\r79/79 [==============================] - 71s 907ms/step - loss: 2.6188 - val_loss: 2.6355\n",
            "Epoch 7/10\n",
            "79/79 [==============================] - ETA: 0s - loss: 2.6064\n",
            "Epoch 7: val_loss improved from 2.63545 to 2.62511, saving model to model.eng_ukr.3\n"
          ]
        },
        {
          "output_type": "stream",
          "name": "stderr",
          "text": [
            "WARNING:absl:Found untraced functions such as lstm_cell_layer_call_fn, lstm_cell_layer_call_and_return_conditional_losses, lstm_cell_1_layer_call_fn, lstm_cell_1_layer_call_and_return_conditional_losses while saving (showing 4 of 4). These functions will not be directly callable after loading.\n"
          ]
        },
        {
          "output_type": "stream",
          "name": "stdout",
          "text": [
            "\b\b\b\b\b\b\b\b\b\b\b\b\b\b\b\b\b\b\b\b\b\b\b\b\b\b\b\b\b\b\b\b\b\b\b\b\b\b\b\b\b\b\b\b\b\b\b\b\b\b\b\b\b\b\b\b\b\b\b\b\b\b\b\r79/79 [==============================] - 73s 927ms/step - loss: 2.6064 - val_loss: 2.6251\n",
            "Epoch 8/10\n",
            "78/79 [============================>.] - ETA: 0s - loss: 2.5912\n",
            "Epoch 8: val_loss did not improve from 2.62511\n",
            "79/79 [==============================] - 58s 734ms/step - loss: 2.5911 - val_loss: 2.6629\n",
            "Epoch 9/10\n",
            "79/79 [==============================] - ETA: 0s - loss: 2.5813\n",
            "Epoch 9: val_loss did not improve from 2.62511\n",
            "79/79 [==============================] - 56s 711ms/step - loss: 2.5813 - val_loss: 2.6799\n",
            "Epoch 10/10\n",
            "78/79 [============================>.] - ETA: 0s - loss: 2.5739\n",
            "Epoch 10: val_loss did not improve from 2.62511\n",
            "79/79 [==============================] - 57s 718ms/step - loss: 2.5735 - val_loss: 2.6484\n"
          ]
        }
      ]
    },
    {
      "cell_type": "markdown",
      "source": [
        "Побудуємо графік навчання"
      ],
      "metadata": {
        "id": "znVDY4ryVYNr"
      }
    },
    {
      "cell_type": "code",
      "source": [
        "plt.plot(history.history['loss'])\n",
        "plt.plot(history.history['val_loss'])\n",
        "plt.legend(['train','validation'])\n",
        "plt.show()"
      ],
      "metadata": {
        "colab": {
          "base_uri": "https://localhost:8080/",
          "height": 430
        },
        "id": "cxVHa6vGRFX4",
        "outputId": "289e5e4b-cb43-465b-ddb6-66a8784b4388"
      },
      "execution_count": 43,
      "outputs": [
        {
          "output_type": "display_data",
          "data": {
            "text/plain": [
              "<Figure size 640x480 with 1 Axes>"
            ],
            "image/png": "[encoded data removed]"
          },
          "metadata": {}
        }
      ]
    },
    {
      "cell_type": "markdown",
      "source": [
        "Бачимо швидке падіння помилки вже на 1 епосі. Далі потроху зменьшується, стрибок на валідних данних на 8 епосі, потім знову зменьшення."
      ],
      "metadata": {
        "id": "wteXTyU0Vu6m"
      }
    },
    {
      "cell_type": "markdown",
      "source": [
        "Завантажуємо збережену модель та робимо прогноз"
      ],
      "metadata": {
        "id": "Eycn9LMVWDLF"
      }
    },
    {
      "cell_type": "code",
      "source": [
        "model = load_model('model.eng_ukr.3')\n",
        "# тут мало б бути\n",
        "# preds = model.predict_classes(testX.reshape((testX.shape[0],testX.shape[1])))\n",
        "preds = model.predict(testX.reshape((testX.shape[0],testX.shape[1])))"
      ],
      "metadata": {
        "colab": {
          "base_uri": "https://localhost:8080/"
        },
        "id": "GrSSHR4cVp6x",
        "outputId": "41336743-d62f-4912-e44e-8ff94fbfd21b"
      },
      "execution_count": 44,
      "outputs": [
        {
          "output_type": "stream",
          "name": "stdout",
          "text": [
            "2/2 [==============================] - 2s 22ms/step\n"
          ]
        }
      ]
    },
    {
      "cell_type": "code",
      "source": [
        "classes_x = argmax(preds, axis=-1)"
      ],
      "metadata": {
        "id": "yEeTkLZVWLkz"
      },
      "execution_count": 45,
      "outputs": []
    },
    {
      "cell_type": "code",
      "source": [
        "classes_x[0]"
      ],
      "metadata": {
        "colab": {
          "base_uri": "https://localhost:8080/"
        },
        "id": "oGaSj3oLSJqi",
        "outputId": "e07a5d11-667a-43a3-aed8-c745f08d1a33"
      },
      "execution_count": 46,
      "outputs": [
        {
          "output_type": "execute_result",
          "data": {
            "text/plain": [
              "array([1, 1, 1, 0, 0, 0, 0, 0, 0, 0, 0, 0, 0, 0, 0, 0, 0, 0])"
            ]
          },
          "metadata": {},
          "execution_count": 46
        }
      ]
    },
    {
      "cell_type": "markdown",
      "source": [
        "Перетворимо послідовності чисел на відповідні їм слова. Підготуємо функцію"
      ],
      "metadata": {
        "id": "7k9Vm9YGW__v"
      }
    },
    {
      "cell_type": "code",
      "source": [
        "def get_word(n, tokenizer):\n",
        "      for word, index in tokenizer.word_index.items():\n",
        "          if index == n:\n",
        "              return word\n",
        "      return None"
      ],
      "metadata": {
        "id": "qa6xDxTKW8F-"
      },
      "execution_count": 47,
      "outputs": []
    },
    {
      "cell_type": "code",
      "source": [
        "preds_text = []\n",
        "for i in classes_x:\n",
        "    temp = []\n",
        "    for j in range(len(i)):\n",
        "        t = get_word(i[j], ukr_tokenizer)\n",
        "        if j > 0:\n",
        "            if (t == get_word(i[j-1], ukr_tokenizer)) or (t == None):\n",
        "                temp.append('')\n",
        "            else:\n",
        "                temp.append(t)\n",
        "        else:\n",
        "            if(t == None):\n",
        "                temp.append('')\n",
        "            else:\n",
        "                temp.append(t)\n",
        "    preds_text.append(' '.join(temp))"
      ],
      "metadata": {
        "id": "rRjkNtJgXLs8"
      },
      "execution_count": 48,
      "outputs": []
    },
    {
      "cell_type": "markdown",
      "source": [
        "Помістимо вихідні українські речення в тестовий набір даних, а прогнозовані речення — у фрейм даних"
      ],
      "metadata": {
        "id": "ecvkGXEIX2-9"
      }
    },
    {
      "cell_type": "code",
      "source": [
        "pred_df = pd.DataFrame({'actual' : test['ukr'], 'predicted' : preds_text})"
      ],
      "metadata": {
        "id": "kBHbagUIXa4B"
      },
      "execution_count": 49,
      "outputs": []
    },
    {
      "cell_type": "markdown",
      "source": [
        "Приклади"
      ],
      "metadata": {
        "id": "C7Wu7cr9YGoY"
      }
    },
    {
      "cell_type": "code",
      "source": [
        "pred_df.sample(10)"
      ],
      "metadata": {
        "colab": {
          "base_uri": "https://localhost:8080/",
          "height": 363
        },
        "id": "JJyYtupoYHOZ",
        "outputId": "fd21571f-3888-4312-8220-09489c03f63f"
      },
      "execution_count": 50,
      "outputs": [
        {
          "output_type": "execute_result",
          "data": {
            "text/plain": [
              "                    actual           predicted\n",
              "6      джейк твоя мама ...  я                 \n",
              "8832   она не будет сда...  я                 \n",
              "32747  а якщо продовжиш...  я                 \n",
              "17385  держись в двадца...  я                 \n",
              "30440             тоді дій  я                 \n",
              "48069  список шляхів до...  я                 \n",
              "38583    а що ти їй скажеш  я                 \n",
              "43547         мне так жаль  я                 \n",
              "11815          це серйозно  я                 \n",
              "7274   функції дати і ч...  я                 "
            ],
            "text/html": [
              "\n",
              "  <div id=\"df-cf283c12-0244-40a6-88c5-ba13fc0a1600\" class=\"colab-df-container\">\n",
              "    <div>\n",
              "<style scoped>\n",
              "    .dataframe tbody tr th:only-of-type {\n",
              "        vertical-align: middle;\n",
              "    }\n",
              "\n",
              "    .dataframe tbody tr th {\n",
              "        vertical-align: top;\n",
              "    }\n",
              "\n",
              "    .dataframe thead th {\n",
              "        text-align: right;\n",
              "    }\n",
              "</style>\n",
              "<table border=\"1\" class=\"dataframe\">\n",
              "  <thead>\n",
              "    <tr style=\"text-align: right;\">\n",
              "      <th></th>\n",
              "      <th>actual</th>\n",
              "      <th>predicted</th>\n",
              "    </tr>\n",
              "  </thead>\n",
              "  <tbody>\n",
              "    <tr>\n",
              "      <th>6</th>\n",
              "      <td>джейк твоя мама ...</td>\n",
              "      <td>я</td>\n",
              "    </tr>\n",
              "    <tr>\n",
              "      <th>8832</th>\n",
              "      <td>она не будет сда...</td>\n",
              "      <td>я</td>\n",
              "    </tr>\n",
              "    <tr>\n",
              "      <th>32747</th>\n",
              "      <td>а якщо продовжиш...</td>\n",
              "      <td>я</td>\n",
              "    </tr>\n",
              "    <tr>\n",
              "      <th>17385</th>\n",
              "      <td>держись в двадца...</td>\n",
              "      <td>я</td>\n",
              "    </tr>\n",
              "    <tr>\n",
              "      <th>30440</th>\n",
              "      <td>тоді дій</td>\n",
              "      <td>я</td>\n",
              "    </tr>\n",
              "    <tr>\n",
              "      <th>48069</th>\n",
              "      <td>список шляхів до...</td>\n",
              "      <td>я</td>\n",
              "    </tr>\n",
              "    <tr>\n",
              "      <th>38583</th>\n",
              "      <td>а що ти їй скажеш</td>\n",
              "      <td>я</td>\n",
              "    </tr>\n",
              "    <tr>\n",
              "      <th>43547</th>\n",
              "      <td>мне так жаль</td>\n",
              "      <td>я</td>\n",
              "    </tr>\n",
              "    <tr>\n",
              "      <th>11815</th>\n",
              "      <td>це серйозно</td>\n",
              "      <td>я</td>\n",
              "    </tr>\n",
              "    <tr>\n",
              "      <th>7274</th>\n",
              "      <td>функції дати і ч...</td>\n",
              "      <td>я</td>\n",
              "    </tr>\n",
              "  </tbody>\n",
              "</table>\n",
              "</div>\n",
              "    <div class=\"colab-df-buttons\">\n",
              "\n",
              "  <div class=\"colab-df-container\">\n",
              "    <button class=\"colab-df-convert\" onclick=\"convertToInteractive('df-cf283c12-0244-40a6-88c5-ba13fc0a1600')\"\n",
              "            title=\"Convert this dataframe to an interactive table.\"\n",
              "            style=\"display:none;\">\n",
              "\n",
              "  <svg xmlns=\"http://www.w3.org/2000/svg\" height=\"24px\" viewBox=\"0 -960 960 960\">\n",
              "    <path d=\"M120-120v-720h720v720H120Zm60-500h600v-160H180v160Zm220 220h160v-160H400v160Zm0 220h160v-160H400v160ZM180-400h160v-160H180v160Zm440 0h160v-160H620v160ZM180-180h160v-160H180v160Zm440 0h160v-160H620v160Z\"/>\n",
              "  </svg>\n",
              "    </button>\n",
              "\n",
              "  <style>\n",
              "    .colab-df-container {\n",
              "      display:flex;\n",
              "      gap: 12px;\n",
              "    }\n",
              "\n",
              "    .colab-df-convert {\n",
              "      background-color: #E8F0FE;\n",
              "      border: none;\n",
              "      border-radius: 50%;\n",
              "      cursor: pointer;\n",
              "      display: none;\n",
              "      fill: #1967D2;\n",
              "      height: 32px;\n",
              "      padding: 0 0 0 0;\n",
              "      width: 32px;\n",
              "    }\n",
              "\n",
              "    .colab-df-convert:hover {\n",
              "      background-color: #E2EBFA;\n",
              "      box-shadow: 0px 1px 2px rgba(60, 64, 67, 0.3), 0px 1px 3px 1px rgba(60, 64, 67, 0.15);\n",
              "      fill: #174EA6;\n",
              "    }\n",
              "\n",
              "    .colab-df-buttons div {\n",
              "      margin-bottom: 4px;\n",
              "    }\n",
              "\n",
              "    [theme=dark] .colab-df-convert {\n",
              "      background-color: #3B4455;\n",
              "      fill: #D2E3FC;\n",
              "    }\n",
              "\n",
              "    [theme=dark] .colab-df-convert:hover {\n",
              "      background-color: #434B5C;\n",
              "      box-shadow: 0px 1px 3px 1px rgba(0, 0, 0, 0.15);\n",
              "      filter: drop-shadow(0px 1px 2px rgba(0, 0, 0, 0.3));\n",
              "      fill: #FFFFFF;\n",
              "    }\n",
              "  </style>\n",
              "\n",
              "    <script>\n",
              "      const buttonEl =\n",
              "        document.querySelector('#df-cf283c12-0244-40a6-88c5-ba13fc0a1600 button.colab-df-convert');\n",
              "      buttonEl.style.display =\n",
              "        google.colab.kernel.accessAllowed ? 'block' : 'none';\n",
              "\n",
              "      async function convertToInteractive(key) {\n",
              "        const element = document.querySelector('#df-cf283c12-0244-40a6-88c5-ba13fc0a1600');\n",
              "        const dataTable =\n",
              "          await google.colab.kernel.invokeFunction('convertToInteractive',\n",
              "                                                    [key], {});\n",
              "        if (!dataTable) return;\n",
              "\n",
              "        const docLinkHtml = 'Like what you see? Visit the ' +\n",
              "          '<a target=\"_blank\" href=https://colab.research.google.com/notebooks/data_table.ipynb>data table notebook</a>'\n",
              "          + ' to learn more about interactive tables.';\n",
              "        element.innerHTML = '';\n",
              "        dataTable['output_type'] = 'display_data';\n",
              "        await google.colab.output.renderOutput(dataTable, element);\n",
              "        const docLink = document.createElement('div');\n",
              "        docLink.innerHTML = docLinkHtml;\n",
              "        element.appendChild(docLink);\n",
              "      }\n",
              "    </script>\n",
              "  </div>\n",
              "\n",
              "\n",
              "<div id=\"df-c70918aa-4724-4bef-b89b-925a56a8469c\">\n",
              "  <button class=\"colab-df-quickchart\" onclick=\"quickchart('df-c70918aa-4724-4bef-b89b-925a56a8469c')\"\n",
              "            title=\"Suggest charts.\"\n",
              "            style=\"display:none;\">\n",
              "\n",
              "<svg xmlns=\"http://www.w3.org/2000/svg\" height=\"24px\"viewBox=\"0 0 24 24\"\n",
              "     width=\"24px\">\n",
              "    <g>\n",
              "        <path d=\"M19 3H5c-1.1 0-2 .9-2 2v14c0 1.1.9 2 2 2h14c1.1 0 2-.9 2-2V5c0-1.1-.9-2-2-2zM9 17H7v-7h2v7zm4 0h-2V7h2v10zm4 0h-2v-4h2v4z\"/>\n",
              "    </g>\n",
              "</svg>\n",
              "  </button>\n",
              "\n",
              "<style>\n",
              "  .colab-df-quickchart {\n",
              "    background-color: #E8F0FE;\n",
              "    border: none;\n",
              "    border-radius: 50%;\n",
              "    cursor: pointer;\n",
              "    display: none;\n",
              "    fill: #1967D2;\n",
              "    height: 32px;\n",
              "    padding: 0 0 0 0;\n",
              "    width: 32px;\n",
              "  }\n",
              "\n",
              "  .colab-df-quickchart:hover {\n",
              "    background-color: #E2EBFA;\n",
              "    box-shadow: 0px 1px 2px rgba(60, 64, 67, 0.3), 0px 1px 3px 1px rgba(60, 64, 67, 0.15);\n",
              "    fill: #174EA6;\n",
              "  }\n",
              "\n",
              "  [theme=dark] .colab-df-quickchart {\n",
              "    background-color: #3B4455;\n",
              "    fill: #D2E3FC;\n",
              "  }\n",
              "\n",
              "  [theme=dark] .colab-df-quickchart:hover {\n",
              "    background-color: #434B5C;\n",
              "    box-shadow: 0px 1px 3px 1px rgba(0, 0, 0, 0.15);\n",
              "    filter: drop-shadow(0px 1px 2px rgba(0, 0, 0, 0.3));\n",
              "    fill: #FFFFFF;\n",
              "  }\n",
              "</style>\n",
              "\n",
              "  <script>\n",
              "    async function quickchart(key) {\n",
              "      const charts = await google.colab.kernel.invokeFunction(\n",
              "          'suggestCharts', [key], {});\n",
              "    }\n",
              "    (() => {\n",
              "      let quickchartButtonEl =\n",
              "        document.querySelector('#df-c70918aa-4724-4bef-b89b-925a56a8469c button');\n",
              "      quickchartButtonEl.style.display =\n",
              "        google.colab.kernel.accessAllowed ? 'block' : 'none';\n",
              "    })();\n",
              "  </script>\n",
              "</div>\n",
              "    </div>\n",
              "  </div>\n"
            ]
          },
          "metadata": {},
          "execution_count": 50
        }
      ]
    },
    {
      "cell_type": "markdown",
      "source": [
        "Нажаль в пункті отримання predict метод predict_classes не працює, а його замінник argmax дає помилкову відповідь. В цьому пункті ще треба розібратісь. Саме тому переклад поганий."
      ],
      "metadata": {
        "id": "vwBS9iklcelJ"
      }
    },
    {
      "cell_type": "markdown",
      "source": [
        "### Дякую за увагу =)"
      ],
      "metadata": {
        "id": "pD-yZ51YcgM5"
      }
    }
  ]
}